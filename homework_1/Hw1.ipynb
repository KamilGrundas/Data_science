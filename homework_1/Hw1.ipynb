{
  "nbformat": 4,
  "nbformat_minor": 0,
  "metadata": {
    "colab": {
      "provenance": [],
      "toc_visible": true
    },
    "kernelspec": {
      "name": "python3",
      "display_name": "Python 3"
    },
    "language_info": {
      "name": "python"
    }
  },
  "cells": [
    {
      "cell_type": "code",
      "source": [
        "import numpy as np"
      ],
      "metadata": {
        "id": "cUXFByBY6Kbi"
      },
      "execution_count": 1,
      "outputs": []
    },
    {
      "cell_type": "markdown",
      "source": [
        "Create a one-dimensional array (vector) with the first 10 positive integers and display its value."
      ],
      "metadata": {
        "id": "ODHUZZ9sITdv"
      }
    },
    {
      "cell_type": "code",
      "source": [
        "a1 = np.arange(1, 11, dtype=int)"
      ],
      "metadata": {
        "id": "M4UqZvIv6Kli"
      },
      "execution_count": 2,
      "outputs": []
    },
    {
      "cell_type": "code",
      "source": [
        "a1"
      ],
      "metadata": {
        "colab": {
          "base_uri": "https://localhost:8080/"
        },
        "id": "OLaMgTNr6Kwq",
        "outputId": "02e1d8d2-bccb-43da-84c8-089446bbe05e"
      },
      "execution_count": 3,
      "outputs": [
        {
          "output_type": "execute_result",
          "data": {
            "text/plain": [
              "array([ 1,  2,  3,  4,  5,  6,  7,  8,  9, 10])"
            ]
          },
          "metadata": {},
          "execution_count": 3
        }
      ]
    },
    {
      "cell_type": "markdown",
      "source": [
        "Create a two-dimensional array (matrix) of size 3x3, fill it with zeros, and display its value."
      ],
      "metadata": {
        "id": "9t2LF4gsIVUo"
      }
    },
    {
      "cell_type": "code",
      "source": [
        "a2 = np.zeros((3, 3), dtype=int)"
      ],
      "metadata": {
        "id": "rBQlOyQY6Tdm"
      },
      "execution_count": 4,
      "outputs": []
    },
    {
      "cell_type": "code",
      "source": [
        "a2"
      ],
      "metadata": {
        "colab": {
          "base_uri": "https://localhost:8080/"
        },
        "id": "eV7O6dVK6Vnt",
        "outputId": "0027b870-4753-4465-a2cb-2876c420cb51"
      },
      "execution_count": 5,
      "outputs": [
        {
          "output_type": "execute_result",
          "data": {
            "text/plain": [
              "array([[0, 0, 0],\n",
              "       [0, 0, 0],\n",
              "       [0, 0, 0]])"
            ]
          },
          "metadata": {},
          "execution_count": 5
        }
      ]
    },
    {
      "cell_type": "markdown",
      "source": [
        "Create a 5x5 array, fill it with random integers from 1 to 10, and display its value."
      ],
      "metadata": {
        "id": "67LayY3WIc-Q"
      }
    },
    {
      "cell_type": "code",
      "source": [
        "a3 = np.random.randint(1, 11, (5, 5))"
      ],
      "metadata": {
        "id": "Kb-rvnP98aIM"
      },
      "execution_count": 6,
      "outputs": []
    },
    {
      "cell_type": "code",
      "source": [
        "a3"
      ],
      "metadata": {
        "colab": {
          "base_uri": "https://localhost:8080/"
        },
        "id": "k_2Gb8QxIPg4",
        "outputId": "53d0d2fb-ac22-4de1-9d33-700e6ef18b8c"
      },
      "execution_count": 7,
      "outputs": [
        {
          "output_type": "execute_result",
          "data": {
            "text/plain": [
              "array([[ 4,  7,  2,  6,  1],\n",
              "       [ 5,  5,  3,  8,  9],\n",
              "       [ 1,  4, 10,  2,  6],\n",
              "       [ 4,  8,  4,  3,  4],\n",
              "       [10,  2, 10,  8,  4]])"
            ]
          },
          "metadata": {},
          "execution_count": 7
        }
      ]
    },
    {
      "cell_type": "markdown",
      "source": [
        "Create a 4x4 array, fill it with random real numbers from 0 to 1, and display its value."
      ],
      "metadata": {
        "id": "Qi6FRdnbIxDQ"
      }
    },
    {
      "cell_type": "code",
      "source": [
        "a4 = np.random.random((4, 4))"
      ],
      "metadata": {
        "id": "vX3M1D93IyGp"
      },
      "execution_count": 8,
      "outputs": []
    },
    {
      "cell_type": "code",
      "source": [
        "a4"
      ],
      "metadata": {
        "colab": {
          "base_uri": "https://localhost:8080/"
        },
        "id": "d5cy_X3YI0-X",
        "outputId": "0a807d08-61f8-4951-8691-9a5398964391"
      },
      "execution_count": 9,
      "outputs": [
        {
          "output_type": "execute_result",
          "data": {
            "text/plain": [
              "array([[0.78016382, 0.71237476, 0.48211329, 0.06248218],\n",
              "       [0.94903721, 0.04034295, 0.05943836, 0.84120469],\n",
              "       [0.92093814, 0.90128279, 0.45459092, 0.1839803 ],\n",
              "       [0.20016328, 0.40962307, 0.25123714, 0.16735987]])"
            ]
          },
          "metadata": {},
          "execution_count": 9
        }
      ]
    },
    {
      "cell_type": "markdown",
      "source": [
        "Create two one-dimensional arrays of size 5, fill them with random integers from 1 to 10, and perform addition, subtraction, and multiplication operations on them."
      ],
      "metadata": {
        "id": "BYZAsCoaJCy6"
      }
    },
    {
      "cell_type": "code",
      "source": [
        "a5 = np.random.randint(1, 11, 5)\n",
        "b5 = np.random.randint(1, 11, 5)"
      ],
      "metadata": {
        "id": "P-ZCZ0anI1pQ"
      },
      "execution_count": 10,
      "outputs": []
    },
    {
      "cell_type": "code",
      "source": [
        "a5, b5, a5+b5, a5-b5, a5*b5"
      ],
      "metadata": {
        "colab": {
          "base_uri": "https://localhost:8080/"
        },
        "id": "hwdLhavtJGTK",
        "outputId": "1175a1d4-5734-4f30-90a1-47ac27561688"
      },
      "execution_count": 11,
      "outputs": [
        {
          "output_type": "execute_result",
          "data": {
            "text/plain": [
              "(array([3, 6, 6, 3, 8]),\n",
              " array([ 5,  8, 10,  8,  9]),\n",
              " array([ 8, 14, 16, 11, 17]),\n",
              " array([-2, -2, -4, -5, -1]),\n",
              " array([15, 48, 60, 24, 72]))"
            ]
          },
          "metadata": {},
          "execution_count": 11
        }
      ]
    },
    {
      "cell_type": "markdown",
      "source": [
        "Create two vectors of size 7, fill them with random numbers, and find their dot product."
      ],
      "metadata": {
        "id": "ERR7eMQnJdfL"
      }
    },
    {
      "cell_type": "code",
      "source": [
        "a6 = np.random.random(7)\n",
        "b6 = np.random.random(7)\n",
        "dot_product_6 = np.dot(a6,b6)"
      ],
      "metadata": {
        "id": "Q9QYooSAJcfj"
      },
      "execution_count": 12,
      "outputs": []
    },
    {
      "cell_type": "code",
      "source": [
        "a6,b6,dot_product_6"
      ],
      "metadata": {
        "colab": {
          "base_uri": "https://localhost:8080/"
        },
        "id": "vWOwTKOtJnNz",
        "outputId": "da796c2b-533f-4f08-e0f4-456767e5e171"
      },
      "execution_count": 13,
      "outputs": [
        {
          "output_type": "execute_result",
          "data": {
            "text/plain": [
              "(array([0.96837379, 0.85608149, 0.44790743, 0.15804017, 0.64726622,\n",
              "        0.98390118, 0.28951088]),\n",
              " array([3.80933001e-01, 8.45497632e-01, 6.24774659e-01, 7.12745246e-01,\n",
              "        8.11548533e-01, 5.78470601e-01, 6.75190251e-04]),\n",
              " 2.5798253261562696)"
            ]
          },
          "metadata": {},
          "execution_count": 13
        }
      ]
    },
    {
      "cell_type": "markdown",
      "source": [
        "Create two matrices of sizes 2x2 and 2x3, fill them with random integers from 1 to 10, and multiply them."
      ],
      "metadata": {
        "id": "-fol9_VqJ439"
      }
    },
    {
      "cell_type": "code",
      "source": [
        "a7 = np.random.randint(1, 11, (2, 2))\n",
        "b7 = np.random.randint(1, 11, (2, 3))\n",
        "multiply_7 = np.dot(a7,b7)\n"
      ],
      "metadata": {
        "id": "mhpc9esDJ4Rt"
      },
      "execution_count": 14,
      "outputs": []
    },
    {
      "cell_type": "code",
      "source": [
        "a7,b7,multiply_7"
      ],
      "metadata": {
        "colab": {
          "base_uri": "https://localhost:8080/"
        },
        "id": "M8kpA7siM-mZ",
        "outputId": "5673d271-40d7-44c7-ec7e-34764bf95d4c"
      },
      "execution_count": 15,
      "outputs": [
        {
          "output_type": "execute_result",
          "data": {
            "text/plain": [
              "(array([[7, 8],\n",
              "        [4, 1]]),\n",
              " array([[3, 2, 6],\n",
              "        [6, 9, 6]]),\n",
              " array([[69, 86, 90],\n",
              "        [18, 17, 30]]))"
            ]
          },
          "metadata": {},
          "execution_count": 15
        }
      ]
    },
    {
      "cell_type": "markdown",
      "source": [
        "Create a 3x3 matrix, fill it with random integers from 1 to 10, and find its inverse."
      ],
      "metadata": {
        "id": "-elhVbc0Nk-5"
      }
    },
    {
      "cell_type": "code",
      "source": [
        "a8 = np.random.randint(1, 11, (3, 3))\n",
        "a8_inv = np.linalg.inv(a8)"
      ],
      "metadata": {
        "id": "k2q-5i3PNsZK"
      },
      "execution_count": 16,
      "outputs": []
    },
    {
      "cell_type": "code",
      "source": [
        "a8, a8_inv"
      ],
      "metadata": {
        "id": "3aEKWtvVNuBR",
        "outputId": "99e22817-153d-4367-bc7c-69ad3ac8ecbb",
        "colab": {
          "base_uri": "https://localhost:8080/"
        }
      },
      "execution_count": 17,
      "outputs": [
        {
          "output_type": "execute_result",
          "data": {
            "text/plain": [
              "(array([[ 8, 10,  2],\n",
              "        [ 6,  7,  4],\n",
              "        [ 8,  8,  9]]),\n",
              " array([[ 2.58333333, -6.16666667,  2.16666667],\n",
              "        [-1.83333333,  4.66666667, -1.66666667],\n",
              "        [-0.66666667,  1.33333333, -0.33333333]]))"
            ]
          },
          "metadata": {},
          "execution_count": 17
        }
      ]
    },
    {
      "cell_type": "markdown",
      "source": [
        "Create a 4x4 matrix, fill it with random real numbers from 0 to 1, and transpose it."
      ],
      "metadata": {
        "id": "MOFO2eEVQKTS"
      }
    },
    {
      "cell_type": "code",
      "source": [
        "a9 = np.random.random((4, 4))\n",
        "a9_transposed = a9.T"
      ],
      "metadata": {
        "id": "elQm8b-mQKB3"
      },
      "execution_count": 18,
      "outputs": []
    },
    {
      "cell_type": "code",
      "source": [
        "a9,a9_transposed"
      ],
      "metadata": {
        "colab": {
          "base_uri": "https://localhost:8080/"
        },
        "id": "01ZS9BD4Qae6",
        "outputId": "086913bc-1994-4c49-b335-d8ff08703a17"
      },
      "execution_count": 19,
      "outputs": [
        {
          "output_type": "execute_result",
          "data": {
            "text/plain": [
              "(array([[0.03372797, 0.29238217, 0.46771593, 0.63790905],\n",
              "        [0.15333288, 0.74985208, 0.81583057, 0.83721752],\n",
              "        [0.80599765, 0.89602986, 0.77865872, 0.43844761],\n",
              "        [0.71292976, 0.30253505, 0.78235344, 0.74719335]]),\n",
              " array([[0.03372797, 0.15333288, 0.80599765, 0.71292976],\n",
              "        [0.29238217, 0.74985208, 0.89602986, 0.30253505],\n",
              "        [0.46771593, 0.81583057, 0.77865872, 0.78235344],\n",
              "        [0.63790905, 0.83721752, 0.43844761, 0.74719335]]))"
            ]
          },
          "metadata": {},
          "execution_count": 19
        }
      ]
    },
    {
      "cell_type": "markdown",
      "source": [
        "Create a matrix of size 3x4 and a vector of size 4, fill them with random integers from 1 to 10, and multiply the matrix by the vector."
      ],
      "metadata": {
        "id": "2JO4wM16R-Rl"
      }
    },
    {
      "cell_type": "code",
      "source": [
        "a10 = np.random.randint(1, 11, (3, 4))\n",
        "b10 = np.random.randint(1, 11, 4)\n",
        "multiply_10 = np.dot(a10,b10)\n"
      ],
      "metadata": {
        "id": "v5m_zVQRR_4j"
      },
      "execution_count": 20,
      "outputs": []
    },
    {
      "cell_type": "code",
      "source": [
        "a10,b10,multiply_10"
      ],
      "metadata": {
        "colab": {
          "base_uri": "https://localhost:8080/"
        },
        "id": "UC5oBll7SNJ3",
        "outputId": "c3e47f40-8d68-4df5-c0bf-cb3da1a0f826"
      },
      "execution_count": 21,
      "outputs": [
        {
          "output_type": "execute_result",
          "data": {
            "text/plain": [
              "(array([[10,  2,  1,  2],\n",
              "        [ 4,  8,  2,  7],\n",
              "        [ 8,  2,  1,  6]]),\n",
              " array([6, 9, 4, 4]),\n",
              " array([ 90, 132,  94]))"
            ]
          },
          "metadata": {},
          "execution_count": 21
        }
      ]
    },
    {
      "cell_type": "markdown",
      "source": [
        "Create a matrix of size 2x3 and a vector of size 3, fill them with random real numbers from 0 to 1, and multiply the matrix by the vector."
      ],
      "metadata": {
        "id": "WD7gpbNeVQs8"
      }
    },
    {
      "cell_type": "code",
      "source": [
        "a11 = np.random.random((2, 3))\n",
        "b11 = np.random.random(3)\n",
        "multiply_11 = np.dot(a11,b11)"
      ],
      "metadata": {
        "id": "2Q3icSeMVRbb"
      },
      "execution_count": 22,
      "outputs": []
    },
    {
      "cell_type": "code",
      "source": [
        "a11,b11,multiply_11"
      ],
      "metadata": {
        "id": "Lr3lZCyJVpLd",
        "colab": {
          "base_uri": "https://localhost:8080/"
        },
        "outputId": "e1d93b24-fb56-4647-dd6b-8b5c0ed0095e"
      },
      "execution_count": 23,
      "outputs": [
        {
          "output_type": "execute_result",
          "data": {
            "text/plain": [
              "(array([[0.99097417, 0.11359305, 0.03961785],\n",
              "        [0.53433831, 0.96681095, 0.89797476]]),\n",
              " array([0.01780434, 0.69224039, 0.39267629]),\n",
              " array([0.11183432, 1.03139252]))"
            ]
          },
          "metadata": {},
          "execution_count": 23
        }
      ]
    },
    {
      "cell_type": "markdown",
      "source": [
        "Create two matrices of size 2x2, fill them with random integers from 1 to 10, and perform element-wise multiplication."
      ],
      "metadata": {
        "id": "09AjrAWBXD7C"
      }
    },
    {
      "cell_type": "code",
      "source": [
        "a12 = np.random.randint(1, 11, (2, 2))\n",
        "b12 = np.random.randint(1, 11, (2, 2))\n",
        "multiply_12 = a12*b12"
      ],
      "metadata": {
        "id": "-0CRxUZXXEai"
      },
      "execution_count": 24,
      "outputs": []
    },
    {
      "cell_type": "code",
      "source": [
        "a12,b12,multiply_12"
      ],
      "metadata": {
        "colab": {
          "base_uri": "https://localhost:8080/"
        },
        "id": "gZcTiaLmXMwX",
        "outputId": "9afee99a-d903-4746-bff5-4e24810fd2df"
      },
      "execution_count": 25,
      "outputs": [
        {
          "output_type": "execute_result",
          "data": {
            "text/plain": [
              "(array([[ 8, 10],\n",
              "        [ 3,  4]]),\n",
              " array([[ 8,  3],\n",
              "        [10,  1]]),\n",
              " array([[64, 30],\n",
              "        [30,  4]]))"
            ]
          },
          "metadata": {},
          "execution_count": 25
        }
      ]
    },
    {
      "cell_type": "markdown",
      "source": [
        "Create two matrices of size 2x2, fill them with random integers from 1 to 10, and find their matrix product."
      ],
      "metadata": {
        "id": "8RCNPvWuXXUo"
      }
    },
    {
      "cell_type": "code",
      "source": [
        "a13 = np.random.randint(1, 11, (2, 2))\n",
        "b13 = np.random.randint(1, 11, (2, 2))\n",
        "dot_product_13 = np.dot(a13,b13)"
      ],
      "metadata": {
        "id": "-FPu0NlJXZy4"
      },
      "execution_count": 26,
      "outputs": []
    },
    {
      "cell_type": "code",
      "source": [
        "a13,b13,dot_product_13"
      ],
      "metadata": {
        "colab": {
          "base_uri": "https://localhost:8080/"
        },
        "id": "PrgK6vq3XdeB",
        "outputId": "c9178f13-4102-4445-c1a6-6bb7365c05ca"
      },
      "execution_count": 27,
      "outputs": [
        {
          "output_type": "execute_result",
          "data": {
            "text/plain": [
              "(array([[9, 1],\n",
              "        [8, 3]]),\n",
              " array([[ 8, 10],\n",
              "        [ 2,  6]]),\n",
              " array([[74, 96],\n",
              "        [70, 98]]))"
            ]
          },
          "metadata": {},
          "execution_count": 27
        }
      ]
    },
    {
      "cell_type": "markdown",
      "source": [
        "Create a 5x5 matrix, fill it with random integers from 1 to 100, and find the sum of matrix elements."
      ],
      "metadata": {
        "id": "QKYEF86lYKI6"
      }
    },
    {
      "cell_type": "code",
      "source": [
        "a14 = np.random.randint(1, 101, (5, 5))\n",
        "sum_14 = np.sum(a14)"
      ],
      "metadata": {
        "id": "5Xi-223rYGW5"
      },
      "execution_count": 28,
      "outputs": []
    },
    {
      "cell_type": "code",
      "source": [
        "a14, sum_14"
      ],
      "metadata": {
        "colab": {
          "base_uri": "https://localhost:8080/"
        },
        "id": "zbDmhoeYYOtB",
        "outputId": "f1602496-d8ae-46e5-877e-999e922b6233"
      },
      "execution_count": 29,
      "outputs": [
        {
          "output_type": "execute_result",
          "data": {
            "text/plain": [
              "(array([[30, 32, 73, 38, 65],\n",
              "        [15, 20,  7, 82, 10],\n",
              "        [88, 32, 12, 58, 55],\n",
              "        [ 8, 92, 81, 55, 74],\n",
              "        [29, 26, 54, 84, 89]]),\n",
              " 1209)"
            ]
          },
          "metadata": {},
          "execution_count": 29
        }
      ]
    },
    {
      "cell_type": "markdown",
      "source": [
        "Create two matrices of size 4x4, fill them with random integers from 1 to 10, and find their difference."
      ],
      "metadata": {
        "id": "_icDz2LLYX8p"
      }
    },
    {
      "cell_type": "code",
      "source": [
        "a15 = np.random.randint(1, 11, (4, 4))\n",
        "b15 = np.random.randint(1, 11, (4, 4))\n",
        "difference_15 = a15-b15"
      ],
      "metadata": {
        "id": "47FWez8iYYop"
      },
      "execution_count": 30,
      "outputs": []
    },
    {
      "cell_type": "code",
      "source": [
        "a15,b15,difference_15"
      ],
      "metadata": {
        "colab": {
          "base_uri": "https://localhost:8080/"
        },
        "id": "7TNErgMPYiAT",
        "outputId": "95ef3b2d-3670-41a3-cd00-9eb37795a7f5"
      },
      "execution_count": 31,
      "outputs": [
        {
          "output_type": "execute_result",
          "data": {
            "text/plain": [
              "(array([[ 1,  2,  5,  2],\n",
              "        [ 8,  3,  3,  4],\n",
              "        [ 4,  5, 10,  7],\n",
              "        [ 7,  7,  4,  1]]),\n",
              " array([[ 6,  3, 10,  4],\n",
              "        [ 4,  8, 10,  5],\n",
              "        [ 3,  7,  4,  8],\n",
              "        [ 3,  5,  3, 10]]),\n",
              " array([[-5, -1, -5, -2],\n",
              "        [ 4, -5, -7, -1],\n",
              "        [ 1, -2,  6, -1],\n",
              "        [ 4,  2,  1, -9]]))"
            ]
          },
          "metadata": {},
          "execution_count": 31
        }
      ]
    },
    {
      "cell_type": "markdown",
      "source": [
        "Create a 3x3 matrix, fill it with random real numbers from 0 to 1, and find a column vector containing the sum of elements of each row of the matrix."
      ],
      "metadata": {
        "id": "e63G3SddYqT5"
      }
    },
    {
      "cell_type": "code",
      "source": [
        "a16 = np.random.random((3,3))\n",
        "sum_vector_16 = np.sum(a16,axis=1)"
      ],
      "metadata": {
        "id": "fI1O08o2YrDC"
      },
      "execution_count": 32,
      "outputs": []
    },
    {
      "cell_type": "code",
      "source": [
        "a16,sum_vector_16"
      ],
      "metadata": {
        "colab": {
          "base_uri": "https://localhost:8080/"
        },
        "id": "BLyMHMYqYwsr",
        "outputId": "f1105c06-483a-4ee8-93d5-423a5d5c7bfc"
      },
      "execution_count": 33,
      "outputs": [
        {
          "output_type": "execute_result",
          "data": {
            "text/plain": [
              "(array([[0.48672508, 0.89241525, 0.69748154],\n",
              "        [0.08231964, 0.36600961, 0.05243578],\n",
              "        [0.19551614, 0.80963521, 0.28756053]]),\n",
              " array([2.07662187, 0.50076502, 1.29271188]))"
            ]
          },
          "metadata": {},
          "execution_count": 33
        }
      ]
    },
    {
      "cell_type": "markdown",
      "source": [
        "Create a matrix of size 3x4 with arbitrary integers and create a matrix with the squares of those numbers."
      ],
      "metadata": {
        "id": "Mug10IreY9NS"
      }
    },
    {
      "cell_type": "code",
      "source": [
        "a17 = np.array([[5,1,4,8],\n",
        "                [1,0,12,31],\n",
        "                [7,2,3,1],\n",
        "                [9,2,3,6]])\n",
        "a17_square = np.square(a17)"
      ],
      "metadata": {
        "id": "sjQxaRi8Y_aC"
      },
      "execution_count": 34,
      "outputs": []
    },
    {
      "cell_type": "code",
      "source": [
        "a17,a17_square"
      ],
      "metadata": {
        "colab": {
          "base_uri": "https://localhost:8080/"
        },
        "id": "d-AHfInNa0Q2",
        "outputId": "884e19aa-96f9-4798-f255-bf086783170a"
      },
      "execution_count": 35,
      "outputs": [
        {
          "output_type": "execute_result",
          "data": {
            "text/plain": [
              "(array([[ 5,  1,  4,  8],\n",
              "        [ 1,  0, 12, 31],\n",
              "        [ 7,  2,  3,  1],\n",
              "        [ 9,  2,  3,  6]]),\n",
              " array([[ 25,   1,  16,  64],\n",
              "        [  1,   0, 144, 961],\n",
              "        [ 49,   4,   9,   1],\n",
              "        [ 81,   4,   9,  36]]))"
            ]
          },
          "metadata": {},
          "execution_count": 35
        }
      ]
    },
    {
      "cell_type": "markdown",
      "source": [
        "Create a vector of size 4, fill it with random integers from 1 to 50, and find the vector of square roots of those numbers."
      ],
      "metadata": {
        "id": "Xxbt5v0JdMA1"
      }
    },
    {
      "cell_type": "code",
      "source": [
        "a18 = np.random.randint(1,51,4)\n",
        "a18_square_root = np.sqrt(a18)"
      ],
      "metadata": {
        "id": "rGZC2u8IdMnk"
      },
      "execution_count": 36,
      "outputs": []
    },
    {
      "cell_type": "code",
      "source": [
        "a18,a18_square_root"
      ],
      "metadata": {
        "colab": {
          "base_uri": "https://localhost:8080/"
        },
        "id": "-uZcshmPdoXj",
        "outputId": "3496ca93-008a-45e1-d3c4-429310c3e1c0"
      },
      "execution_count": 37,
      "outputs": [
        {
          "output_type": "execute_result",
          "data": {
            "text/plain": [
              "(array([ 6, 48, 33, 10]),\n",
              " array([2.44948974, 6.92820323, 5.74456265, 3.16227766]))"
            ]
          },
          "metadata": {},
          "execution_count": 37
        }
      ]
    }
  ]
}