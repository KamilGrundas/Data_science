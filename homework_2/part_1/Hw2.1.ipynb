{
 "cells": [
  {
   "cell_type": "code",
   "id": "initial_id",
   "metadata": {
    "collapsed": true,
    "ExecuteTime": {
     "end_time": "2024-04-21T17:08:05.800083Z",
     "start_time": "2024-04-21T17:08:05.065339Z"
    }
   },
   "source": "import pandas as pd",
   "outputs": [],
   "execution_count": 1
  },
  {
   "metadata": {},
   "cell_type": "markdown",
   "source": "## 1. Read data using the `read_html` method from the table \"Birth Rate in Ukrainian Regions (1950-2019)\" from provided links.",
   "id": "5b20ad4c317bdad3"
  },
  {
   "metadata": {
    "ExecuteTime": {
     "end_time": "2024-04-21T17:08:08.852814Z",
     "start_time": "2024-04-21T17:08:08.830390Z"
    }
   },
   "cell_type": "code",
   "source": [
    "#Using read_csv instead of read_html because of old link\n",
    "df = pd.read_csv(\"html_data.csv\")"
   ],
   "id": "b7ab3e146e39df27",
   "outputs": [],
   "execution_count": 2
  },
  {
   "metadata": {},
   "cell_type": "markdown",
   "source": "## 2. Display the first rows of the table using the `head` method.",
   "id": "a3320d19e338401b"
  },
  {
   "metadata": {
    "ExecuteTime": {
     "end_time": "2024-04-21T17:08:17.802657Z",
     "start_time": "2024-04-21T17:08:17.770321Z"
    }
   },
   "cell_type": "code",
   "source": "df.head()",
   "id": "6309569e7cf0f098",
   "outputs": [
    {
     "data": {
      "text/plain": [
       "                         regions  2011  2012  2013  2015  2017  2019  2021\n",
       "0  Autonomous Republic of Crimea  1.56  1.68  1.66     _     _     _     _\n",
       "1               Vinnytsia region  1.53  1.59  1.53   1.5  1.36   1.2  1.14\n",
       "2                   Volyn region  1.81  1.92  1.86  1.74  1.62  1.48  1.45\n",
       "3          Dnipropetrovsk region  1.44  1.52  1.51  1.48  1.29  1.11  1.03\n",
       "4                 Donetsk region  1.27  1.34  1.32     _     _     _     _"
      ],
      "text/html": [
       "<div>\n",
       "<style scoped>\n",
       "    .dataframe tbody tr th:only-of-type {\n",
       "        vertical-align: middle;\n",
       "    }\n",
       "\n",
       "    .dataframe tbody tr th {\n",
       "        vertical-align: top;\n",
       "    }\n",
       "\n",
       "    .dataframe thead th {\n",
       "        text-align: right;\n",
       "    }\n",
       "</style>\n",
       "<table border=\"1\" class=\"dataframe\">\n",
       "  <thead>\n",
       "    <tr style=\"text-align: right;\">\n",
       "      <th></th>\n",
       "      <th>regions</th>\n",
       "      <th>2011</th>\n",
       "      <th>2012</th>\n",
       "      <th>2013</th>\n",
       "      <th>2015</th>\n",
       "      <th>2017</th>\n",
       "      <th>2019</th>\n",
       "      <th>2021</th>\n",
       "    </tr>\n",
       "  </thead>\n",
       "  <tbody>\n",
       "    <tr>\n",
       "      <th>0</th>\n",
       "      <td>Autonomous Republic of Crimea</td>\n",
       "      <td>1.56</td>\n",
       "      <td>1.68</td>\n",
       "      <td>1.66</td>\n",
       "      <td>_</td>\n",
       "      <td>_</td>\n",
       "      <td>_</td>\n",
       "      <td>_</td>\n",
       "    </tr>\n",
       "    <tr>\n",
       "      <th>1</th>\n",
       "      <td>Vinnytsia region</td>\n",
       "      <td>1.53</td>\n",
       "      <td>1.59</td>\n",
       "      <td>1.53</td>\n",
       "      <td>1.5</td>\n",
       "      <td>1.36</td>\n",
       "      <td>1.2</td>\n",
       "      <td>1.14</td>\n",
       "    </tr>\n",
       "    <tr>\n",
       "      <th>2</th>\n",
       "      <td>Volyn region</td>\n",
       "      <td>1.81</td>\n",
       "      <td>1.92</td>\n",
       "      <td>1.86</td>\n",
       "      <td>1.74</td>\n",
       "      <td>1.62</td>\n",
       "      <td>1.48</td>\n",
       "      <td>1.45</td>\n",
       "    </tr>\n",
       "    <tr>\n",
       "      <th>3</th>\n",
       "      <td>Dnipropetrovsk region</td>\n",
       "      <td>1.44</td>\n",
       "      <td>1.52</td>\n",
       "      <td>1.51</td>\n",
       "      <td>1.48</td>\n",
       "      <td>1.29</td>\n",
       "      <td>1.11</td>\n",
       "      <td>1.03</td>\n",
       "    </tr>\n",
       "    <tr>\n",
       "      <th>4</th>\n",
       "      <td>Donetsk region</td>\n",
       "      <td>1.27</td>\n",
       "      <td>1.34</td>\n",
       "      <td>1.32</td>\n",
       "      <td>_</td>\n",
       "      <td>_</td>\n",
       "      <td>_</td>\n",
       "      <td>_</td>\n",
       "    </tr>\n",
       "  </tbody>\n",
       "</table>\n",
       "</div>"
      ]
     },
     "execution_count": 3,
     "metadata": {},
     "output_type": "execute_result"
    }
   ],
   "execution_count": 3
  },
  {
   "metadata": {},
   "cell_type": "markdown",
   "source": "",
   "id": "f2e863598a7df47e"
  },
  {
   "metadata": {},
   "cell_type": "markdown",
   "source": "## 3. Define the number of rows and columns in the dataset (use the `shape` attribute).",
   "id": "402bc5e4a802ae24"
  },
  {
   "metadata": {
    "ExecuteTime": {
     "end_time": "2024-04-21T17:08:36.753491Z",
     "start_time": "2024-04-21T17:08:36.741659Z"
    }
   },
   "cell_type": "code",
   "source": "df.shape",
   "id": "e79b202177cb216c",
   "outputs": [
    {
     "data": {
      "text/plain": [
       "(27, 8)"
      ]
     },
     "execution_count": 4,
     "metadata": {},
     "output_type": "execute_result"
    }
   ],
   "execution_count": 4
  },
  {
   "metadata": {},
   "cell_type": "markdown",
   "source": "## 4. Replace the `\"—\"` value in the table with NaN.",
   "id": "d7794e0b1c65ace"
  },
  {
   "metadata": {},
   "cell_type": "code",
   "outputs": [],
   "execution_count": null,
   "source": "",
   "id": "f42642013a75612d"
  },
  {
   "metadata": {},
   "cell_type": "markdown",
   "source": "## 5. Define the types of all columns using `dataframe.dtypes`.",
   "id": "f1421d0933f4ae0c"
  },
  {
   "metadata": {},
   "cell_type": "code",
   "outputs": [],
   "execution_count": null,
   "source": "",
   "id": "1c0cad4f3f186ed3"
  },
  {
   "metadata": {},
   "cell_type": "markdown",
   "source": "## 6. Change the types of non-numeric columns to numeric. Hint: these are columns that contained the `\"—\"`.",
   "id": "71231a81035efdd8"
  },
  {
   "metadata": {},
   "cell_type": "code",
   "outputs": [],
   "execution_count": null,
   "source": "",
   "id": "935614b7daca3769"
  },
  {
   "metadata": {},
   "cell_type": "markdown",
   "source": "## 7. Calculate the proportion of empty places in each column (use `isnull` and `sum` methods).",
   "id": "6bdcc741b81eb2b9"
  },
  {
   "metadata": {},
   "cell_type": "code",
   "outputs": [],
   "execution_count": null,
   "source": "",
   "id": "2dbb5753c719ab26"
  },
  {
   "metadata": {},
   "cell_type": "markdown",
   "source": "",
   "id": "bdc2a4eb34394aa0"
  },
  {
   "metadata": {},
   "cell_type": "markdown",
   "source": "## 8. Remove data for the entire country, which is the last row of the table.",
   "id": "806531d3c6b59dbd"
  },
  {
   "metadata": {},
   "cell_type": "code",
   "outputs": [],
   "execution_count": null,
   "source": "",
   "id": "5212be5e137c5a5f"
  },
  {
   "metadata": {},
   "cell_type": "markdown",
   "source": "## 9. Place missing data in columns with average values of those columns (using `fillna`).",
   "id": "b628bdfec2f6b90c"
  },
  {
   "metadata": {},
   "cell_type": "code",
   "outputs": [],
   "execution_count": null,
   "source": "",
   "id": "7d0f809a3ac5b41a"
  },
  {
   "metadata": {},
   "cell_type": "markdown",
   "source": "## 10. Obtain a list of regions where the birth rate in 2019 was higher than the average for Ukraine.",
   "id": "fb51323e93423494"
  },
  {
   "metadata": {},
   "cell_type": "code",
   "outputs": [],
   "execution_count": null,
   "source": "",
   "id": "f3a83c6ca72a86f9"
  },
  {
   "metadata": {},
   "cell_type": "markdown",
   "source": "",
   "id": "b566d16138fb2d98"
  },
  {
   "metadata": {},
   "cell_type": "markdown",
   "source": "## 11. Which region had the highest birth rate in 2014?",
   "id": "f00f9cf62a8b4403"
  },
  {
   "metadata": {},
   "cell_type": "code",
   "outputs": [],
   "execution_count": null,
   "source": "",
   "id": "8d6209726e907455"
  },
  {
   "metadata": {},
   "cell_type": "markdown",
   "source": "## 12. Build a bar chart of the birth rate by regions for 2019.",
   "id": "bf9f84b8e14e805f"
  },
  {
   "metadata": {},
   "cell_type": "code",
   "outputs": [],
   "execution_count": null,
   "source": "",
   "id": "d70db0b4fe0650ba"
  }
 ],
 "metadata": {
  "kernelspec": {
   "display_name": "Python 3",
   "language": "python",
   "name": "python3"
  },
  "language_info": {
   "codemirror_mode": {
    "name": "ipython",
    "version": 2
   },
   "file_extension": ".py",
   "mimetype": "text/x-python",
   "name": "python",
   "nbconvert_exporter": "python",
   "pygments_lexer": "ipython2",
   "version": "2.7.6"
  }
 },
 "nbformat": 4,
 "nbformat_minor": 5
}
