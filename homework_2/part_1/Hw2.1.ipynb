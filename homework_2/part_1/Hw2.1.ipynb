{
 "cells": [
  {
   "cell_type": "code",
   "id": "initial_id",
   "metadata": {
    "collapsed": true,
    "ExecuteTime": {
     "end_time": "2024-04-27T14:22:31.325745Z",
     "start_time": "2024-04-27T14:22:30.936746Z"
    }
   },
   "source": [
    "import pandas as pd\n",
    "import matplotlib.pyplot as plt"
   ],
   "outputs": [],
   "execution_count": 1
  },
  {
   "metadata": {},
   "cell_type": "markdown",
   "source": "## 1. Read data using the `read_html` method from the table \"Birth Rate in Ukrainian Regions (1950-2019)\" from provided links.",
   "id": "5b20ad4c317bdad3"
  },
  {
   "metadata": {
    "ExecuteTime": {
     "end_time": "2024-04-27T14:22:31.330328Z",
     "start_time": "2024-04-27T14:22:31.326771Z"
    }
   },
   "cell_type": "code",
   "source": [
    "#Using read_csv instead of read_html because of old link\n",
    "df = pd.read_csv(\"html_data.csv\")"
   ],
   "id": "b7ab3e146e39df27",
   "outputs": [],
   "execution_count": 2
  },
  {
   "metadata": {},
   "cell_type": "markdown",
   "source": "## 2. Display the first rows of the table using the `head` method.",
   "id": "a3320d19e338401b"
  },
  {
   "metadata": {
    "ExecuteTime": {
     "end_time": "2024-04-27T14:22:31.338907Z",
     "start_time": "2024-04-27T14:22:31.331055Z"
    }
   },
   "cell_type": "code",
   "source": "df.head()",
   "id": "6309569e7cf0f098",
   "outputs": [
    {
     "data": {
      "text/plain": [
       "                         regions  2011  2012  2013  2015  2017  2019  2021\n",
       "0  Autonomous Republic of Crimea  1.56  1.68  1.66     _     _     _     _\n",
       "1               Vinnytsia region  1.53  1.59  1.53   1.5  1.36   1.2  1.14\n",
       "2                   Volyn region  1.81  1.92  1.86  1.74  1.62  1.48  1.45\n",
       "3          Dnipropetrovsk region  1.44  1.52  1.51  1.48  1.29  1.11  1.03\n",
       "4                 Donetsk region  1.27  1.34  1.32     _     _     _     _"
      ],
      "text/html": [
       "<div>\n",
       "<style scoped>\n",
       "    .dataframe tbody tr th:only-of-type {\n",
       "        vertical-align: middle;\n",
       "    }\n",
       "\n",
       "    .dataframe tbody tr th {\n",
       "        vertical-align: top;\n",
       "    }\n",
       "\n",
       "    .dataframe thead th {\n",
       "        text-align: right;\n",
       "    }\n",
       "</style>\n",
       "<table border=\"1\" class=\"dataframe\">\n",
       "  <thead>\n",
       "    <tr style=\"text-align: right;\">\n",
       "      <th></th>\n",
       "      <th>regions</th>\n",
       "      <th>2011</th>\n",
       "      <th>2012</th>\n",
       "      <th>2013</th>\n",
       "      <th>2015</th>\n",
       "      <th>2017</th>\n",
       "      <th>2019</th>\n",
       "      <th>2021</th>\n",
       "    </tr>\n",
       "  </thead>\n",
       "  <tbody>\n",
       "    <tr>\n",
       "      <th>0</th>\n",
       "      <td>Autonomous Republic of Crimea</td>\n",
       "      <td>1.56</td>\n",
       "      <td>1.68</td>\n",
       "      <td>1.66</td>\n",
       "      <td>_</td>\n",
       "      <td>_</td>\n",
       "      <td>_</td>\n",
       "      <td>_</td>\n",
       "    </tr>\n",
       "    <tr>\n",
       "      <th>1</th>\n",
       "      <td>Vinnytsia region</td>\n",
       "      <td>1.53</td>\n",
       "      <td>1.59</td>\n",
       "      <td>1.53</td>\n",
       "      <td>1.5</td>\n",
       "      <td>1.36</td>\n",
       "      <td>1.2</td>\n",
       "      <td>1.14</td>\n",
       "    </tr>\n",
       "    <tr>\n",
       "      <th>2</th>\n",
       "      <td>Volyn region</td>\n",
       "      <td>1.81</td>\n",
       "      <td>1.92</td>\n",
       "      <td>1.86</td>\n",
       "      <td>1.74</td>\n",
       "      <td>1.62</td>\n",
       "      <td>1.48</td>\n",
       "      <td>1.45</td>\n",
       "    </tr>\n",
       "    <tr>\n",
       "      <th>3</th>\n",
       "      <td>Dnipropetrovsk region</td>\n",
       "      <td>1.44</td>\n",
       "      <td>1.52</td>\n",
       "      <td>1.51</td>\n",
       "      <td>1.48</td>\n",
       "      <td>1.29</td>\n",
       "      <td>1.11</td>\n",
       "      <td>1.03</td>\n",
       "    </tr>\n",
       "    <tr>\n",
       "      <th>4</th>\n",
       "      <td>Donetsk region</td>\n",
       "      <td>1.27</td>\n",
       "      <td>1.34</td>\n",
       "      <td>1.32</td>\n",
       "      <td>_</td>\n",
       "      <td>_</td>\n",
       "      <td>_</td>\n",
       "      <td>_</td>\n",
       "    </tr>\n",
       "  </tbody>\n",
       "</table>\n",
       "</div>"
      ]
     },
     "execution_count": 3,
     "metadata": {},
     "output_type": "execute_result"
    }
   ],
   "execution_count": 3
  },
  {
   "metadata": {},
   "cell_type": "markdown",
   "source": "",
   "id": "f2e863598a7df47e"
  },
  {
   "metadata": {},
   "cell_type": "markdown",
   "source": "## 3. Define the number of rows and columns in the dataset (use the `shape` attribute).",
   "id": "402bc5e4a802ae24"
  },
  {
   "metadata": {
    "ExecuteTime": {
     "end_time": "2024-04-27T14:22:31.342034Z",
     "start_time": "2024-04-27T14:22:31.339824Z"
    }
   },
   "cell_type": "code",
   "source": "df.shape",
   "id": "e79b202177cb216c",
   "outputs": [
    {
     "data": {
      "text/plain": [
       "(27, 8)"
      ]
     },
     "execution_count": 4,
     "metadata": {},
     "output_type": "execute_result"
    }
   ],
   "execution_count": 4
  },
  {
   "metadata": {},
   "cell_type": "markdown",
   "source": "## 4. Replace the `\"—\"` value in the table with NaN.",
   "id": "d7794e0b1c65ace"
  },
  {
   "metadata": {
    "ExecuteTime": {
     "end_time": "2024-04-27T14:22:31.351263Z",
     "start_time": "2024-04-27T14:22:31.342666Z"
    }
   },
   "cell_type": "code",
   "source": [
    "df.replace(\"_\", pd.NA, inplace=True)\n",
    "df"
   ],
   "id": "f42642013a75612d",
   "outputs": [
    {
     "data": {
      "text/plain": [
       "                          regions  2011  2012  2013  2015  2017  2019  2021\n",
       "0   Autonomous Republic of Crimea  1.56  1.68  1.66  <NA>  <NA>  <NA>  <NA>\n",
       "1                Vinnytsia region  1.53  1.59  1.53   1.5  1.36   1.2  1.14\n",
       "2                    Volyn region  1.81  1.92  1.86  1.74  1.62  1.48  1.45\n",
       "3           Dnipropetrovsk region  1.44  1.52  1.51  1.48  1.29  1.11  1.03\n",
       "4                  Donetsk region  1.27  1.34  1.32  <NA>  <NA>  <NA>  <NA>\n",
       "5                  Fatigue region  1.65  1.71  1.68   1.6  1.42  1.23  1.14\n",
       "6          Transcarpathian region  1.87  1.95  1.93  1.82  1.64  1.52  <NA>\n",
       "7               Zaporizhia region  1.37  1.46  1.43  1.39  1.25  1.09  <NA>\n",
       "8          Ivano-Frankivsk region  1.55  1.63  1.60  1.54  1.36  1.28  1.15\n",
       "9                     Kyiv region  1.58  1.67  1.64  1.65  1.41  2.15  1.07\n",
       "10              Kirovohrad region  <NA>  1.61  1.57  1.49   1.3  1.12  1.04\n",
       "11                 Luhansk region  1.27  1.33  1.30  <NA>  <NA>  <NA>  <NA>\n",
       "12                    Lviv region  1.49  1.58  1.55  1.51  1.39  1.26  1.17\n",
       "13               Mykolayiv region  1.47  1.57  1.55  1.45  1.34  1.12  <NA>\n",
       "14                  Odessa region  1.62  1.71  1.65  1.62  1.54  1.33  <NA>\n",
       "15                 Poltava region  1.33  1.41  1.40  1.39  1.21  1.05     1\n",
       "16                   Rivne region  1.99  2.08  2.00  1.89  1.74  1.53  1.51\n",
       "17                    Sumy region  1.25  1.36  1.30   1.3  1.13  0.97  0.88\n",
       "18                Ternopil region  1.45  1.50  1.48   1.4  1.25  1.12  1.08\n",
       "19                 Kharkiv region  1.25  1.32  1.32  1.29  1.17  1.02  <NA>\n",
       "20                 Kherson region  1.51  1.61  1.60  1.55  1.43  1.27  <NA>\n",
       "21             Khmelnytsky region  1.56  1.62  1.61  1.59  1.39  1.26  1.16\n",
       "22                Cherkasy region  1.37  1.43  1.38  1.38  1.23  1.03  <NA>\n",
       "23              Chernivtsi region  1.58  1.64  1.63  1.56  1.43   1.3   1.3\n",
       "24               Chernihiv region  1.36  1.40  1.37  1.34  1.18  1.03  0.95\n",
       "25                   city of Kyiv  1.29  1.38  1.36   1.5  1.54  1.48  1.43\n",
       "26     Sevastopol ( City Council)  1.47  1.62  1.58  <NA>  <NA>  <NA>  <NA>"
      ],
      "text/html": [
       "<div>\n",
       "<style scoped>\n",
       "    .dataframe tbody tr th:only-of-type {\n",
       "        vertical-align: middle;\n",
       "    }\n",
       "\n",
       "    .dataframe tbody tr th {\n",
       "        vertical-align: top;\n",
       "    }\n",
       "\n",
       "    .dataframe thead th {\n",
       "        text-align: right;\n",
       "    }\n",
       "</style>\n",
       "<table border=\"1\" class=\"dataframe\">\n",
       "  <thead>\n",
       "    <tr style=\"text-align: right;\">\n",
       "      <th></th>\n",
       "      <th>regions</th>\n",
       "      <th>2011</th>\n",
       "      <th>2012</th>\n",
       "      <th>2013</th>\n",
       "      <th>2015</th>\n",
       "      <th>2017</th>\n",
       "      <th>2019</th>\n",
       "      <th>2021</th>\n",
       "    </tr>\n",
       "  </thead>\n",
       "  <tbody>\n",
       "    <tr>\n",
       "      <th>0</th>\n",
       "      <td>Autonomous Republic of Crimea</td>\n",
       "      <td>1.56</td>\n",
       "      <td>1.68</td>\n",
       "      <td>1.66</td>\n",
       "      <td>&lt;NA&gt;</td>\n",
       "      <td>&lt;NA&gt;</td>\n",
       "      <td>&lt;NA&gt;</td>\n",
       "      <td>&lt;NA&gt;</td>\n",
       "    </tr>\n",
       "    <tr>\n",
       "      <th>1</th>\n",
       "      <td>Vinnytsia region</td>\n",
       "      <td>1.53</td>\n",
       "      <td>1.59</td>\n",
       "      <td>1.53</td>\n",
       "      <td>1.5</td>\n",
       "      <td>1.36</td>\n",
       "      <td>1.2</td>\n",
       "      <td>1.14</td>\n",
       "    </tr>\n",
       "    <tr>\n",
       "      <th>2</th>\n",
       "      <td>Volyn region</td>\n",
       "      <td>1.81</td>\n",
       "      <td>1.92</td>\n",
       "      <td>1.86</td>\n",
       "      <td>1.74</td>\n",
       "      <td>1.62</td>\n",
       "      <td>1.48</td>\n",
       "      <td>1.45</td>\n",
       "    </tr>\n",
       "    <tr>\n",
       "      <th>3</th>\n",
       "      <td>Dnipropetrovsk region</td>\n",
       "      <td>1.44</td>\n",
       "      <td>1.52</td>\n",
       "      <td>1.51</td>\n",
       "      <td>1.48</td>\n",
       "      <td>1.29</td>\n",
       "      <td>1.11</td>\n",
       "      <td>1.03</td>\n",
       "    </tr>\n",
       "    <tr>\n",
       "      <th>4</th>\n",
       "      <td>Donetsk region</td>\n",
       "      <td>1.27</td>\n",
       "      <td>1.34</td>\n",
       "      <td>1.32</td>\n",
       "      <td>&lt;NA&gt;</td>\n",
       "      <td>&lt;NA&gt;</td>\n",
       "      <td>&lt;NA&gt;</td>\n",
       "      <td>&lt;NA&gt;</td>\n",
       "    </tr>\n",
       "    <tr>\n",
       "      <th>5</th>\n",
       "      <td>Fatigue region</td>\n",
       "      <td>1.65</td>\n",
       "      <td>1.71</td>\n",
       "      <td>1.68</td>\n",
       "      <td>1.6</td>\n",
       "      <td>1.42</td>\n",
       "      <td>1.23</td>\n",
       "      <td>1.14</td>\n",
       "    </tr>\n",
       "    <tr>\n",
       "      <th>6</th>\n",
       "      <td>Transcarpathian region</td>\n",
       "      <td>1.87</td>\n",
       "      <td>1.95</td>\n",
       "      <td>1.93</td>\n",
       "      <td>1.82</td>\n",
       "      <td>1.64</td>\n",
       "      <td>1.52</td>\n",
       "      <td>&lt;NA&gt;</td>\n",
       "    </tr>\n",
       "    <tr>\n",
       "      <th>7</th>\n",
       "      <td>Zaporizhia region</td>\n",
       "      <td>1.37</td>\n",
       "      <td>1.46</td>\n",
       "      <td>1.43</td>\n",
       "      <td>1.39</td>\n",
       "      <td>1.25</td>\n",
       "      <td>1.09</td>\n",
       "      <td>&lt;NA&gt;</td>\n",
       "    </tr>\n",
       "    <tr>\n",
       "      <th>8</th>\n",
       "      <td>Ivano-Frankivsk region</td>\n",
       "      <td>1.55</td>\n",
       "      <td>1.63</td>\n",
       "      <td>1.60</td>\n",
       "      <td>1.54</td>\n",
       "      <td>1.36</td>\n",
       "      <td>1.28</td>\n",
       "      <td>1.15</td>\n",
       "    </tr>\n",
       "    <tr>\n",
       "      <th>9</th>\n",
       "      <td>Kyiv region</td>\n",
       "      <td>1.58</td>\n",
       "      <td>1.67</td>\n",
       "      <td>1.64</td>\n",
       "      <td>1.65</td>\n",
       "      <td>1.41</td>\n",
       "      <td>2.15</td>\n",
       "      <td>1.07</td>\n",
       "    </tr>\n",
       "    <tr>\n",
       "      <th>10</th>\n",
       "      <td>Kirovohrad region</td>\n",
       "      <td>&lt;NA&gt;</td>\n",
       "      <td>1.61</td>\n",
       "      <td>1.57</td>\n",
       "      <td>1.49</td>\n",
       "      <td>1.3</td>\n",
       "      <td>1.12</td>\n",
       "      <td>1.04</td>\n",
       "    </tr>\n",
       "    <tr>\n",
       "      <th>11</th>\n",
       "      <td>Luhansk region</td>\n",
       "      <td>1.27</td>\n",
       "      <td>1.33</td>\n",
       "      <td>1.30</td>\n",
       "      <td>&lt;NA&gt;</td>\n",
       "      <td>&lt;NA&gt;</td>\n",
       "      <td>&lt;NA&gt;</td>\n",
       "      <td>&lt;NA&gt;</td>\n",
       "    </tr>\n",
       "    <tr>\n",
       "      <th>12</th>\n",
       "      <td>Lviv region</td>\n",
       "      <td>1.49</td>\n",
       "      <td>1.58</td>\n",
       "      <td>1.55</td>\n",
       "      <td>1.51</td>\n",
       "      <td>1.39</td>\n",
       "      <td>1.26</td>\n",
       "      <td>1.17</td>\n",
       "    </tr>\n",
       "    <tr>\n",
       "      <th>13</th>\n",
       "      <td>Mykolayiv region</td>\n",
       "      <td>1.47</td>\n",
       "      <td>1.57</td>\n",
       "      <td>1.55</td>\n",
       "      <td>1.45</td>\n",
       "      <td>1.34</td>\n",
       "      <td>1.12</td>\n",
       "      <td>&lt;NA&gt;</td>\n",
       "    </tr>\n",
       "    <tr>\n",
       "      <th>14</th>\n",
       "      <td>Odessa region</td>\n",
       "      <td>1.62</td>\n",
       "      <td>1.71</td>\n",
       "      <td>1.65</td>\n",
       "      <td>1.62</td>\n",
       "      <td>1.54</td>\n",
       "      <td>1.33</td>\n",
       "      <td>&lt;NA&gt;</td>\n",
       "    </tr>\n",
       "    <tr>\n",
       "      <th>15</th>\n",
       "      <td>Poltava region</td>\n",
       "      <td>1.33</td>\n",
       "      <td>1.41</td>\n",
       "      <td>1.40</td>\n",
       "      <td>1.39</td>\n",
       "      <td>1.21</td>\n",
       "      <td>1.05</td>\n",
       "      <td>1</td>\n",
       "    </tr>\n",
       "    <tr>\n",
       "      <th>16</th>\n",
       "      <td>Rivne region</td>\n",
       "      <td>1.99</td>\n",
       "      <td>2.08</td>\n",
       "      <td>2.00</td>\n",
       "      <td>1.89</td>\n",
       "      <td>1.74</td>\n",
       "      <td>1.53</td>\n",
       "      <td>1.51</td>\n",
       "    </tr>\n",
       "    <tr>\n",
       "      <th>17</th>\n",
       "      <td>Sumy region</td>\n",
       "      <td>1.25</td>\n",
       "      <td>1.36</td>\n",
       "      <td>1.30</td>\n",
       "      <td>1.3</td>\n",
       "      <td>1.13</td>\n",
       "      <td>0.97</td>\n",
       "      <td>0.88</td>\n",
       "    </tr>\n",
       "    <tr>\n",
       "      <th>18</th>\n",
       "      <td>Ternopil region</td>\n",
       "      <td>1.45</td>\n",
       "      <td>1.50</td>\n",
       "      <td>1.48</td>\n",
       "      <td>1.4</td>\n",
       "      <td>1.25</td>\n",
       "      <td>1.12</td>\n",
       "      <td>1.08</td>\n",
       "    </tr>\n",
       "    <tr>\n",
       "      <th>19</th>\n",
       "      <td>Kharkiv region</td>\n",
       "      <td>1.25</td>\n",
       "      <td>1.32</td>\n",
       "      <td>1.32</td>\n",
       "      <td>1.29</td>\n",
       "      <td>1.17</td>\n",
       "      <td>1.02</td>\n",
       "      <td>&lt;NA&gt;</td>\n",
       "    </tr>\n",
       "    <tr>\n",
       "      <th>20</th>\n",
       "      <td>Kherson region</td>\n",
       "      <td>1.51</td>\n",
       "      <td>1.61</td>\n",
       "      <td>1.60</td>\n",
       "      <td>1.55</td>\n",
       "      <td>1.43</td>\n",
       "      <td>1.27</td>\n",
       "      <td>&lt;NA&gt;</td>\n",
       "    </tr>\n",
       "    <tr>\n",
       "      <th>21</th>\n",
       "      <td>Khmelnytsky region</td>\n",
       "      <td>1.56</td>\n",
       "      <td>1.62</td>\n",
       "      <td>1.61</td>\n",
       "      <td>1.59</td>\n",
       "      <td>1.39</td>\n",
       "      <td>1.26</td>\n",
       "      <td>1.16</td>\n",
       "    </tr>\n",
       "    <tr>\n",
       "      <th>22</th>\n",
       "      <td>Cherkasy region</td>\n",
       "      <td>1.37</td>\n",
       "      <td>1.43</td>\n",
       "      <td>1.38</td>\n",
       "      <td>1.38</td>\n",
       "      <td>1.23</td>\n",
       "      <td>1.03</td>\n",
       "      <td>&lt;NA&gt;</td>\n",
       "    </tr>\n",
       "    <tr>\n",
       "      <th>23</th>\n",
       "      <td>Chernivtsi region</td>\n",
       "      <td>1.58</td>\n",
       "      <td>1.64</td>\n",
       "      <td>1.63</td>\n",
       "      <td>1.56</td>\n",
       "      <td>1.43</td>\n",
       "      <td>1.3</td>\n",
       "      <td>1.3</td>\n",
       "    </tr>\n",
       "    <tr>\n",
       "      <th>24</th>\n",
       "      <td>Chernihiv region</td>\n",
       "      <td>1.36</td>\n",
       "      <td>1.40</td>\n",
       "      <td>1.37</td>\n",
       "      <td>1.34</td>\n",
       "      <td>1.18</td>\n",
       "      <td>1.03</td>\n",
       "      <td>0.95</td>\n",
       "    </tr>\n",
       "    <tr>\n",
       "      <th>25</th>\n",
       "      <td>city of Kyiv</td>\n",
       "      <td>1.29</td>\n",
       "      <td>1.38</td>\n",
       "      <td>1.36</td>\n",
       "      <td>1.5</td>\n",
       "      <td>1.54</td>\n",
       "      <td>1.48</td>\n",
       "      <td>1.43</td>\n",
       "    </tr>\n",
       "    <tr>\n",
       "      <th>26</th>\n",
       "      <td>Sevastopol ( City Council)</td>\n",
       "      <td>1.47</td>\n",
       "      <td>1.62</td>\n",
       "      <td>1.58</td>\n",
       "      <td>&lt;NA&gt;</td>\n",
       "      <td>&lt;NA&gt;</td>\n",
       "      <td>&lt;NA&gt;</td>\n",
       "      <td>&lt;NA&gt;</td>\n",
       "    </tr>\n",
       "  </tbody>\n",
       "</table>\n",
       "</div>"
      ]
     },
     "execution_count": 5,
     "metadata": {},
     "output_type": "execute_result"
    }
   ],
   "execution_count": 5
  },
  {
   "metadata": {},
   "cell_type": "markdown",
   "source": "## 5. Define the types of all columns using `dataframe.dtypes`.",
   "id": "f1421d0933f4ae0c"
  },
  {
   "metadata": {
    "ExecuteTime": {
     "end_time": "2024-04-27T14:22:31.357665Z",
     "start_time": "2024-04-27T14:22:31.351905Z"
    }
   },
   "cell_type": "code",
   "source": "df.dtypes",
   "id": "1c0cad4f3f186ed3",
   "outputs": [
    {
     "data": {
      "text/plain": [
       "regions     object\n",
       "2011        object\n",
       "2012       float64\n",
       "2013       float64\n",
       "2015        object\n",
       "2017        object\n",
       "2019        object\n",
       "2021        object\n",
       "dtype: object"
      ]
     },
     "execution_count": 6,
     "metadata": {},
     "output_type": "execute_result"
    }
   ],
   "execution_count": 6
  },
  {
   "metadata": {},
   "cell_type": "markdown",
   "source": "## 6. Change the types of non-numeric columns to numeric. Hint: these are columns that contained the `\"—\"`.",
   "id": "71231a81035efdd8"
  },
  {
   "metadata": {
    "ExecuteTime": {
     "end_time": "2024-04-27T14:22:31.363568Z",
     "start_time": "2024-04-27T14:22:31.358254Z"
    }
   },
   "cell_type": "code",
   "source": [
    "for col in df.columns[1:]:\n",
    "    df[col] = pd.to_numeric(df[col], errors='coerce')\n",
    "df.dtypes"
   ],
   "id": "935614b7daca3769",
   "outputs": [
    {
     "data": {
      "text/plain": [
       "regions     object\n",
       "2011       float64\n",
       "2012       float64\n",
       "2013       float64\n",
       "2015       float64\n",
       "2017       float64\n",
       "2019       float64\n",
       "2021       float64\n",
       "dtype: object"
      ]
     },
     "execution_count": 7,
     "metadata": {},
     "output_type": "execute_result"
    }
   ],
   "execution_count": 7
  },
  {
   "metadata": {},
   "cell_type": "markdown",
   "source": "## 7. Calculate the proportion of empty places in each column (use `isnull` and `sum` methods).",
   "id": "6bdcc741b81eb2b9"
  },
  {
   "metadata": {
    "ExecuteTime": {
     "end_time": "2024-04-27T14:22:31.368955Z",
     "start_time": "2024-04-27T14:22:31.364199Z"
    }
   },
   "cell_type": "code",
   "source": "df.isnull().sum() / len(df)",
   "id": "2dbb5753c719ab26",
   "outputs": [
    {
     "data": {
      "text/plain": [
       "regions    0.000000\n",
       "2011       0.037037\n",
       "2012       0.000000\n",
       "2013       0.000000\n",
       "2015       0.148148\n",
       "2017       0.148148\n",
       "2019       0.148148\n",
       "2021       0.407407\n",
       "dtype: float64"
      ]
     },
     "execution_count": 8,
     "metadata": {},
     "output_type": "execute_result"
    }
   ],
   "execution_count": 8
  },
  {
   "metadata": {},
   "cell_type": "markdown",
   "source": "## 8. Remove data for the entire country, which is the last row of the table.",
   "id": "806531d3c6b59dbd"
  },
  {
   "metadata": {
    "ExecuteTime": {
     "end_time": "2024-04-27T14:22:31.373997Z",
     "start_time": "2024-04-27T14:22:31.369560Z"
    }
   },
   "cell_type": "code",
   "source": [
    "df = df[:-1]\n",
    "df.shape"
   ],
   "id": "5212be5e137c5a5f",
   "outputs": [
    {
     "data": {
      "text/plain": [
       "(26, 8)"
      ]
     },
     "execution_count": 9,
     "metadata": {},
     "output_type": "execute_result"
    }
   ],
   "execution_count": 9
  },
  {
   "metadata": {},
   "cell_type": "markdown",
   "source": "## 9. Place missing data in columns with average values of those columns (using `fillna`).",
   "id": "b628bdfec2f6b90c"
  },
  {
   "metadata": {
    "ExecuteTime": {
     "end_time": "2024-04-27T14:22:31.387193Z",
     "start_time": "2024-04-27T14:22:31.375107Z"
    }
   },
   "cell_type": "code",
   "source": [
    "for col in df.columns[1:]:\n",
    "    df.loc[:,col] = df[col].fillna(df[col].mean())\n",
    "df"
   ],
   "id": "7d0f809a3ac5b41a",
   "outputs": [
    {
     "data": {
      "text/plain": [
       "                          regions    2011  2012  2013     2015      2017  \\\n",
       "0   Autonomous Republic of Crimea  1.5600  1.68  1.66  1.52087  1.374783   \n",
       "1                Vinnytsia region  1.5300  1.59  1.53  1.50000  1.360000   \n",
       "2                    Volyn region  1.8100  1.92  1.86  1.74000  1.620000   \n",
       "3           Dnipropetrovsk region  1.4400  1.52  1.51  1.48000  1.290000   \n",
       "4                  Donetsk region  1.2700  1.34  1.32  1.52087  1.374783   \n",
       "5                  Fatigue region  1.6500  1.71  1.68  1.60000  1.420000   \n",
       "6          Transcarpathian region  1.8700  1.95  1.93  1.82000  1.640000   \n",
       "7               Zaporizhia region  1.3700  1.46  1.43  1.39000  1.250000   \n",
       "8          Ivano-Frankivsk region  1.5500  1.63  1.60  1.54000  1.360000   \n",
       "9                     Kyiv region  1.5800  1.67  1.64  1.65000  1.410000   \n",
       "10              Kirovohrad region  1.4968  1.61  1.57  1.49000  1.300000   \n",
       "11                 Luhansk region  1.2700  1.33  1.30  1.52087  1.374783   \n",
       "12                    Lviv region  1.4900  1.58  1.55  1.51000  1.390000   \n",
       "13               Mykolayiv region  1.4700  1.57  1.55  1.45000  1.340000   \n",
       "14                  Odessa region  1.6200  1.71  1.65  1.62000  1.540000   \n",
       "15                 Poltava region  1.3300  1.41  1.40  1.39000  1.210000   \n",
       "16                   Rivne region  1.9900  2.08  2.00  1.89000  1.740000   \n",
       "17                    Sumy region  1.2500  1.36  1.30  1.30000  1.130000   \n",
       "18                Ternopil region  1.4500  1.50  1.48  1.40000  1.250000   \n",
       "19                 Kharkiv region  1.2500  1.32  1.32  1.29000  1.170000   \n",
       "20                 Kherson region  1.5100  1.61  1.60  1.55000  1.430000   \n",
       "21             Khmelnytsky region  1.5600  1.62  1.61  1.59000  1.390000   \n",
       "22                Cherkasy region  1.3700  1.43  1.38  1.38000  1.230000   \n",
       "23              Chernivtsi region  1.5800  1.64  1.63  1.56000  1.430000   \n",
       "24               Chernihiv region  1.3600  1.40  1.37  1.34000  1.180000   \n",
       "25                   city of Kyiv  1.2900  1.38  1.36  1.50000  1.540000   \n",
       "\n",
       "        2019     2021  \n",
       "0   1.258696  1.15625  \n",
       "1   1.200000  1.14000  \n",
       "2   1.480000  1.45000  \n",
       "3   1.110000  1.03000  \n",
       "4   1.258696  1.15625  \n",
       "5   1.230000  1.14000  \n",
       "6   1.520000  1.15625  \n",
       "7   1.090000  1.15625  \n",
       "8   1.280000  1.15000  \n",
       "9   2.150000  1.07000  \n",
       "10  1.120000  1.04000  \n",
       "11  1.258696  1.15625  \n",
       "12  1.260000  1.17000  \n",
       "13  1.120000  1.15625  \n",
       "14  1.330000  1.15625  \n",
       "15  1.050000  1.00000  \n",
       "16  1.530000  1.51000  \n",
       "17  0.970000  0.88000  \n",
       "18  1.120000  1.08000  \n",
       "19  1.020000  1.15625  \n",
       "20  1.270000  1.15625  \n",
       "21  1.260000  1.16000  \n",
       "22  1.030000  1.15625  \n",
       "23  1.300000  1.30000  \n",
       "24  1.030000  0.95000  \n",
       "25  1.480000  1.43000  "
      ],
      "text/html": [
       "<div>\n",
       "<style scoped>\n",
       "    .dataframe tbody tr th:only-of-type {\n",
       "        vertical-align: middle;\n",
       "    }\n",
       "\n",
       "    .dataframe tbody tr th {\n",
       "        vertical-align: top;\n",
       "    }\n",
       "\n",
       "    .dataframe thead th {\n",
       "        text-align: right;\n",
       "    }\n",
       "</style>\n",
       "<table border=\"1\" class=\"dataframe\">\n",
       "  <thead>\n",
       "    <tr style=\"text-align: right;\">\n",
       "      <th></th>\n",
       "      <th>regions</th>\n",
       "      <th>2011</th>\n",
       "      <th>2012</th>\n",
       "      <th>2013</th>\n",
       "      <th>2015</th>\n",
       "      <th>2017</th>\n",
       "      <th>2019</th>\n",
       "      <th>2021</th>\n",
       "    </tr>\n",
       "  </thead>\n",
       "  <tbody>\n",
       "    <tr>\n",
       "      <th>0</th>\n",
       "      <td>Autonomous Republic of Crimea</td>\n",
       "      <td>1.5600</td>\n",
       "      <td>1.68</td>\n",
       "      <td>1.66</td>\n",
       "      <td>1.52087</td>\n",
       "      <td>1.374783</td>\n",
       "      <td>1.258696</td>\n",
       "      <td>1.15625</td>\n",
       "    </tr>\n",
       "    <tr>\n",
       "      <th>1</th>\n",
       "      <td>Vinnytsia region</td>\n",
       "      <td>1.5300</td>\n",
       "      <td>1.59</td>\n",
       "      <td>1.53</td>\n",
       "      <td>1.50000</td>\n",
       "      <td>1.360000</td>\n",
       "      <td>1.200000</td>\n",
       "      <td>1.14000</td>\n",
       "    </tr>\n",
       "    <tr>\n",
       "      <th>2</th>\n",
       "      <td>Volyn region</td>\n",
       "      <td>1.8100</td>\n",
       "      <td>1.92</td>\n",
       "      <td>1.86</td>\n",
       "      <td>1.74000</td>\n",
       "      <td>1.620000</td>\n",
       "      <td>1.480000</td>\n",
       "      <td>1.45000</td>\n",
       "    </tr>\n",
       "    <tr>\n",
       "      <th>3</th>\n",
       "      <td>Dnipropetrovsk region</td>\n",
       "      <td>1.4400</td>\n",
       "      <td>1.52</td>\n",
       "      <td>1.51</td>\n",
       "      <td>1.48000</td>\n",
       "      <td>1.290000</td>\n",
       "      <td>1.110000</td>\n",
       "      <td>1.03000</td>\n",
       "    </tr>\n",
       "    <tr>\n",
       "      <th>4</th>\n",
       "      <td>Donetsk region</td>\n",
       "      <td>1.2700</td>\n",
       "      <td>1.34</td>\n",
       "      <td>1.32</td>\n",
       "      <td>1.52087</td>\n",
       "      <td>1.374783</td>\n",
       "      <td>1.258696</td>\n",
       "      <td>1.15625</td>\n",
       "    </tr>\n",
       "    <tr>\n",
       "      <th>5</th>\n",
       "      <td>Fatigue region</td>\n",
       "      <td>1.6500</td>\n",
       "      <td>1.71</td>\n",
       "      <td>1.68</td>\n",
       "      <td>1.60000</td>\n",
       "      <td>1.420000</td>\n",
       "      <td>1.230000</td>\n",
       "      <td>1.14000</td>\n",
       "    </tr>\n",
       "    <tr>\n",
       "      <th>6</th>\n",
       "      <td>Transcarpathian region</td>\n",
       "      <td>1.8700</td>\n",
       "      <td>1.95</td>\n",
       "      <td>1.93</td>\n",
       "      <td>1.82000</td>\n",
       "      <td>1.640000</td>\n",
       "      <td>1.520000</td>\n",
       "      <td>1.15625</td>\n",
       "    </tr>\n",
       "    <tr>\n",
       "      <th>7</th>\n",
       "      <td>Zaporizhia region</td>\n",
       "      <td>1.3700</td>\n",
       "      <td>1.46</td>\n",
       "      <td>1.43</td>\n",
       "      <td>1.39000</td>\n",
       "      <td>1.250000</td>\n",
       "      <td>1.090000</td>\n",
       "      <td>1.15625</td>\n",
       "    </tr>\n",
       "    <tr>\n",
       "      <th>8</th>\n",
       "      <td>Ivano-Frankivsk region</td>\n",
       "      <td>1.5500</td>\n",
       "      <td>1.63</td>\n",
       "      <td>1.60</td>\n",
       "      <td>1.54000</td>\n",
       "      <td>1.360000</td>\n",
       "      <td>1.280000</td>\n",
       "      <td>1.15000</td>\n",
       "    </tr>\n",
       "    <tr>\n",
       "      <th>9</th>\n",
       "      <td>Kyiv region</td>\n",
       "      <td>1.5800</td>\n",
       "      <td>1.67</td>\n",
       "      <td>1.64</td>\n",
       "      <td>1.65000</td>\n",
       "      <td>1.410000</td>\n",
       "      <td>2.150000</td>\n",
       "      <td>1.07000</td>\n",
       "    </tr>\n",
       "    <tr>\n",
       "      <th>10</th>\n",
       "      <td>Kirovohrad region</td>\n",
       "      <td>1.4968</td>\n",
       "      <td>1.61</td>\n",
       "      <td>1.57</td>\n",
       "      <td>1.49000</td>\n",
       "      <td>1.300000</td>\n",
       "      <td>1.120000</td>\n",
       "      <td>1.04000</td>\n",
       "    </tr>\n",
       "    <tr>\n",
       "      <th>11</th>\n",
       "      <td>Luhansk region</td>\n",
       "      <td>1.2700</td>\n",
       "      <td>1.33</td>\n",
       "      <td>1.30</td>\n",
       "      <td>1.52087</td>\n",
       "      <td>1.374783</td>\n",
       "      <td>1.258696</td>\n",
       "      <td>1.15625</td>\n",
       "    </tr>\n",
       "    <tr>\n",
       "      <th>12</th>\n",
       "      <td>Lviv region</td>\n",
       "      <td>1.4900</td>\n",
       "      <td>1.58</td>\n",
       "      <td>1.55</td>\n",
       "      <td>1.51000</td>\n",
       "      <td>1.390000</td>\n",
       "      <td>1.260000</td>\n",
       "      <td>1.17000</td>\n",
       "    </tr>\n",
       "    <tr>\n",
       "      <th>13</th>\n",
       "      <td>Mykolayiv region</td>\n",
       "      <td>1.4700</td>\n",
       "      <td>1.57</td>\n",
       "      <td>1.55</td>\n",
       "      <td>1.45000</td>\n",
       "      <td>1.340000</td>\n",
       "      <td>1.120000</td>\n",
       "      <td>1.15625</td>\n",
       "    </tr>\n",
       "    <tr>\n",
       "      <th>14</th>\n",
       "      <td>Odessa region</td>\n",
       "      <td>1.6200</td>\n",
       "      <td>1.71</td>\n",
       "      <td>1.65</td>\n",
       "      <td>1.62000</td>\n",
       "      <td>1.540000</td>\n",
       "      <td>1.330000</td>\n",
       "      <td>1.15625</td>\n",
       "    </tr>\n",
       "    <tr>\n",
       "      <th>15</th>\n",
       "      <td>Poltava region</td>\n",
       "      <td>1.3300</td>\n",
       "      <td>1.41</td>\n",
       "      <td>1.40</td>\n",
       "      <td>1.39000</td>\n",
       "      <td>1.210000</td>\n",
       "      <td>1.050000</td>\n",
       "      <td>1.00000</td>\n",
       "    </tr>\n",
       "    <tr>\n",
       "      <th>16</th>\n",
       "      <td>Rivne region</td>\n",
       "      <td>1.9900</td>\n",
       "      <td>2.08</td>\n",
       "      <td>2.00</td>\n",
       "      <td>1.89000</td>\n",
       "      <td>1.740000</td>\n",
       "      <td>1.530000</td>\n",
       "      <td>1.51000</td>\n",
       "    </tr>\n",
       "    <tr>\n",
       "      <th>17</th>\n",
       "      <td>Sumy region</td>\n",
       "      <td>1.2500</td>\n",
       "      <td>1.36</td>\n",
       "      <td>1.30</td>\n",
       "      <td>1.30000</td>\n",
       "      <td>1.130000</td>\n",
       "      <td>0.970000</td>\n",
       "      <td>0.88000</td>\n",
       "    </tr>\n",
       "    <tr>\n",
       "      <th>18</th>\n",
       "      <td>Ternopil region</td>\n",
       "      <td>1.4500</td>\n",
       "      <td>1.50</td>\n",
       "      <td>1.48</td>\n",
       "      <td>1.40000</td>\n",
       "      <td>1.250000</td>\n",
       "      <td>1.120000</td>\n",
       "      <td>1.08000</td>\n",
       "    </tr>\n",
       "    <tr>\n",
       "      <th>19</th>\n",
       "      <td>Kharkiv region</td>\n",
       "      <td>1.2500</td>\n",
       "      <td>1.32</td>\n",
       "      <td>1.32</td>\n",
       "      <td>1.29000</td>\n",
       "      <td>1.170000</td>\n",
       "      <td>1.020000</td>\n",
       "      <td>1.15625</td>\n",
       "    </tr>\n",
       "    <tr>\n",
       "      <th>20</th>\n",
       "      <td>Kherson region</td>\n",
       "      <td>1.5100</td>\n",
       "      <td>1.61</td>\n",
       "      <td>1.60</td>\n",
       "      <td>1.55000</td>\n",
       "      <td>1.430000</td>\n",
       "      <td>1.270000</td>\n",
       "      <td>1.15625</td>\n",
       "    </tr>\n",
       "    <tr>\n",
       "      <th>21</th>\n",
       "      <td>Khmelnytsky region</td>\n",
       "      <td>1.5600</td>\n",
       "      <td>1.62</td>\n",
       "      <td>1.61</td>\n",
       "      <td>1.59000</td>\n",
       "      <td>1.390000</td>\n",
       "      <td>1.260000</td>\n",
       "      <td>1.16000</td>\n",
       "    </tr>\n",
       "    <tr>\n",
       "      <th>22</th>\n",
       "      <td>Cherkasy region</td>\n",
       "      <td>1.3700</td>\n",
       "      <td>1.43</td>\n",
       "      <td>1.38</td>\n",
       "      <td>1.38000</td>\n",
       "      <td>1.230000</td>\n",
       "      <td>1.030000</td>\n",
       "      <td>1.15625</td>\n",
       "    </tr>\n",
       "    <tr>\n",
       "      <th>23</th>\n",
       "      <td>Chernivtsi region</td>\n",
       "      <td>1.5800</td>\n",
       "      <td>1.64</td>\n",
       "      <td>1.63</td>\n",
       "      <td>1.56000</td>\n",
       "      <td>1.430000</td>\n",
       "      <td>1.300000</td>\n",
       "      <td>1.30000</td>\n",
       "    </tr>\n",
       "    <tr>\n",
       "      <th>24</th>\n",
       "      <td>Chernihiv region</td>\n",
       "      <td>1.3600</td>\n",
       "      <td>1.40</td>\n",
       "      <td>1.37</td>\n",
       "      <td>1.34000</td>\n",
       "      <td>1.180000</td>\n",
       "      <td>1.030000</td>\n",
       "      <td>0.95000</td>\n",
       "    </tr>\n",
       "    <tr>\n",
       "      <th>25</th>\n",
       "      <td>city of Kyiv</td>\n",
       "      <td>1.2900</td>\n",
       "      <td>1.38</td>\n",
       "      <td>1.36</td>\n",
       "      <td>1.50000</td>\n",
       "      <td>1.540000</td>\n",
       "      <td>1.480000</td>\n",
       "      <td>1.43000</td>\n",
       "    </tr>\n",
       "  </tbody>\n",
       "</table>\n",
       "</div>"
      ]
     },
     "execution_count": 10,
     "metadata": {},
     "output_type": "execute_result"
    }
   ],
   "execution_count": 10
  },
  {
   "metadata": {},
   "cell_type": "markdown",
   "source": "## 10. Obtain a list of regions where the birth rate in 2019 was higher than the average for Ukraine.",
   "id": "fb51323e93423494"
  },
  {
   "metadata": {
    "ExecuteTime": {
     "end_time": "2024-04-27T14:22:31.391561Z",
     "start_time": "2024-04-27T14:22:31.387849Z"
    }
   },
   "cell_type": "code",
   "source": [
    "mean_birth_rate_2019 = df['2019'].mean()\n",
    "high_birth_rate_regions = df[df['2019'] > mean_birth_rate_2019]['regions'].tolist()\n",
    "high_birth_rate_regions"
   ],
   "id": "f3a83c6ca72a86f9",
   "outputs": [
    {
     "data": {
      "text/plain": [
       "['Volyn region',\n",
       " 'Transcarpathian region',\n",
       " 'Ivano-Frankivsk region',\n",
       " 'Kyiv region',\n",
       " 'Lviv region',\n",
       " 'Odessa region',\n",
       " 'Rivne region',\n",
       " 'Kherson region',\n",
       " 'Khmelnytsky region',\n",
       " 'Chernivtsi region',\n",
       " 'city of Kyiv']"
      ]
     },
     "execution_count": 11,
     "metadata": {},
     "output_type": "execute_result"
    }
   ],
   "execution_count": 11
  },
  {
   "metadata": {},
   "cell_type": "markdown",
   "source": "",
   "id": "b566d16138fb2d98"
  },
  {
   "metadata": {},
   "cell_type": "markdown",
   "source": "## 11. Which region had the highest birth rate in 2015?",
   "id": "f00f9cf62a8b4403"
  },
  {
   "metadata": {
    "ExecuteTime": {
     "end_time": "2024-04-27T14:22:31.396245Z",
     "start_time": "2024-04-27T14:22:31.392423Z"
    }
   },
   "cell_type": "code",
   "source": "df.loc[df['2015'].idxmax()]['regions']",
   "id": "8d6209726e907455",
   "outputs": [
    {
     "data": {
      "text/plain": [
       "'Rivne region'"
      ]
     },
     "execution_count": 12,
     "metadata": {},
     "output_type": "execute_result"
    }
   ],
   "execution_count": 12
  },
  {
   "metadata": {},
   "cell_type": "markdown",
   "source": "## 12. Build a bar chart of the birth rate by regions for 2019.",
   "id": "bf9f84b8e14e805f"
  },
  {
   "metadata": {
    "ExecuteTime": {
     "end_time": "2024-04-27T14:22:31.609766Z",
     "start_time": "2024-04-27T14:22:31.396951Z"
    }
   },
   "cell_type": "code",
   "source": [
    "df.set_index('regions')['2019'].plot(kind='bar')\n",
    "plt.ylabel('Birth Rate')\n",
    "plt.title('Birth Rate by Region in 2019')\n",
    "plt.show()"
   ],
   "id": "d70db0b4fe0650ba",
   "outputs": [
    {
     "data": {
      "text/plain": [
       "<Figure size 640x480 with 1 Axes>"
      ],
      "image/png": "[encoded data removed]"
     },
     "metadata": {},
     "output_type": "display_data"
    }
   ],
   "execution_count": 13
  },
  {
   "metadata": {},
   "cell_type": "markdown",
   "source": "## 13. Add 3 to 5 charts of different types. Style your charts appropriately so that each chart in the homework is distinct from the others. You can use matplotlib or seaborn.",
   "id": "a8f4bb593b3c94e5"
  },
  {
   "metadata": {
    "ExecuteTime": {
     "end_time": "2024-04-27T14:22:31.691194Z",
     "start_time": "2024-04-27T14:22:31.610407Z"
    }
   },
   "cell_type": "code",
   "source": [
    "average_birth_rate = [df[col].mean() for col in df.columns[1:]]\n",
    "plt.ylabel('Birth Rate')\n",
    "plt.title('Birth Rate by year')\n",
    "plt.plot(df.columns[1:],average_birth_rate, linewidth=2, marker=\"o\", color=\"pink\")\n",
    "plt.show()"
   ],
   "id": "2f886b6115b4ebab",
   "outputs": [
    {
     "data": {
      "text/plain": [
       "<Figure size 640x480 with 1 Axes>"
      ],
      "image/png": "[encoded data removed]"
     },
     "metadata": {},
     "output_type": "display_data"
    }
   ],
   "execution_count": 14
  },
  {
   "metadata": {
    "ExecuteTime": {
     "end_time": "2024-04-27T14:22:31.760406Z",
     "start_time": "2024-04-27T14:22:31.691905Z"
    }
   },
   "cell_type": "code",
   "source": [
    "kyiv_region_birth_rate = df[df['regions'] == 'Kyiv region']\n",
    "kyiv_region_birth_rate = kyiv_region_birth_rate.iloc[0, 1:].tolist()\n",
    "plt.ylabel('Birth Rate')\n",
    "plt.title('Kyiv region Birth Rate by year')\n",
    "plt.bar(df.columns[1:],kyiv_region_birth_rate, color=\"b\")\n",
    "plt.show()\n"
   ],
   "id": "2132d6bf9fb4e403",
   "outputs": [
    {
     "data": {
      "text/plain": [
       "<Figure size 640x480 with 1 Axes>"
      ],
      "image/png": "[encoded data removed]"
     },
     "metadata": {},
     "output_type": "display_data"
    }
   ],
   "execution_count": 15
  },
  {
   "metadata": {
    "ExecuteTime": {
     "end_time": "2024-04-27T14:22:31.858876Z",
     "start_time": "2024-04-27T14:22:31.761188Z"
    }
   },
   "cell_type": "code",
   "source": [
    "all_values = pd.concat([df[col] for col in df.columns[1:]]).tolist()\n",
    "plt.xlabel('Birth Rate')\n",
    "plt.title('Birth Rate distribution')\n",
    "plt.hist(all_values,bins=25)\n",
    "plt.show()"
   ],
   "id": "51876915ed3f8aa3",
   "outputs": [
    {
     "data": {
      "text/plain": [
       "<Figure size 640x480 with 1 Axes>"
      ],
      "image/png": "[encoded data removed]"
     },
     "metadata": {},
     "output_type": "display_data"
    }
   ],
   "execution_count": 16
  }
 ],
 "metadata": {
  "kernelspec": {
   "display_name": "Python 3",
   "language": "python",
   "name": "python3"
  },
  "language_info": {
   "codemirror_mode": {
    "name": "ipython",
    "version": 2
   },
   "file_extension": ".py",
   "mimetype": "text/x-python",
   "name": "python",
   "nbconvert_exporter": "python",
   "pygments_lexer": "ipython2",
   "version": "2.7.6"
  }
 },
 "nbformat": 4,
 "nbformat_minor": 5
}
