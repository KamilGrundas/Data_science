{
 "nbformat": 4,
 "nbformat_minor": 0,
 "metadata": {
  "colab": {
   "provenance": []
  },
  "kernelspec": {
   "name": "python3",
   "display_name": "Python 3 (ipykernel)",
   "language": "python"
  },
  "language_info": {
   "name": "python"
  }
 },
 "cells": [
  {
   "metadata": {},
   "cell_type": "markdown",
   "source": "# Part Two: File Analysis"
  },
  {
   "cell_type": "code",
   "metadata": {
    "id": "SayY_1m_TvCR",
    "ExecuteTime": {
     "end_time": "2024-04-28T12:44:58.131254Z",
     "start_time": "2024-04-28T12:44:57.786073Z"
    }
   },
   "source": [
    "import pandas as pd\n",
    "import matplotlib.pyplot as plt"
   ],
   "outputs": [],
   "execution_count": 1
  },
  {
   "metadata": {},
   "cell_type": "markdown",
   "source": "## 1.Read the file `2017_jun_final.csv` using the `read_csv` method."
  },
  {
   "cell_type": "code",
   "source": [
    "df = pd.read_csv(\"2017_jun_final - 2017_jun_final.csv\")"
   ],
   "metadata": {
    "id": "HuE6taApT1nT",
    "ExecuteTime": {
     "end_time": "2024-04-28T12:44:58.162035Z",
     "start_time": "2024-04-28T12:44:58.132251Z"
    }
   },
   "outputs": [],
   "execution_count": 2
  },
  {
   "metadata": {},
   "cell_type": "markdown",
   "source": "## 2. Display the first rows of the table using the `head` method."
  },
  {
   "cell_type": "code",
   "source": [
    "df.head()"
   ],
   "metadata": {
    "id": "hDkHiV_hT2OC",
    "colab": {
     "base_uri": "https://localhost:8080/",
     "height": 654
    },
    "outputId": "4a9a0a9f-59ff-40b0-a267-1279587bc2f0",
    "ExecuteTime": {
     "end_time": "2024-04-28T12:44:58.172979Z",
     "start_time": "2024-04-28T12:44:58.162743Z"
    }
   },
   "outputs": [
    {
     "data": {
      "text/plain": [
       "   N                      Role Programming language Specialisation   \\\n",
       "0  1        Junior QA engineer                  NaN       Manual QA   \n",
       "1  2        Junior QA engineer                  NaN       Manual QA   \n",
       "2  3         Software Engineer              C#/.NET             NaN   \n",
       "3  4         Software Engineer           JavaScript             NaN   \n",
       "4  5  Senior Software Engineer           JavaScript             NaN   \n",
       "\n",
       "         Experience  Experience on current job  Salary/month  \\\n",
       "0                0.5                       0.5           400   \n",
       "1  loss then 3 month         loss then 3 month           430   \n",
       "2                  4                         1          2500   \n",
       "3                  5                         4          2000   \n",
       "4               10+                        0.5          4500   \n",
       "\n",
       "   Изменение.зарплаты.за.12.месяцев       City              Company size  ...  \\\n",
       "0                                 0  New York         up to 10 employees  ...   \n",
       "1                               130  New York   more then 1000 employees  ...   \n",
       "2                               800     Berlin      up to 1000 employees  ...   \n",
       "3                               400      Odesa       up to 200 employees  ...   \n",
       "4                               500      Other        up to 10 employees  ...   \n",
       "\n",
       "  Still student English                           Subject.area  \\\n",
       "0          True       A1                         iOS,eCommerce   \n",
       "1          True       B2                       Web development   \n",
       "2         False       B1   Web development,Corporative systems   \n",
       "3         False       A1  Desktop Applications,Web development   \n",
       "4         False       B1  Desktop Applications,Web development   \n",
       "\n",
       "                  Date                                         User.Agent  \\\n",
       "0  12/06/2017 12:38:08  Mozilla/5.0 (Windows NT 10.0; Win64; x64) Appl...   \n",
       "1  12/06/2017 12:42:51  Mozilla/5.0 (iPad; CPU OS 10_2_1 like Mac OS X...   \n",
       "2  12/06/2017 13:02:47  Mozilla/5.0 (Windows NT 10.0; Win64; x64) Appl...   \n",
       "3  12/06/2017 13:03:01  Mozilla/5.0 (Windows NT 6.1; Win64; x64) Apple...   \n",
       "4  12/06/2017 13:03:47  Mozilla/5.0 (iPhone; CPU iPhone OS 10_3_2 like...   \n",
       "\n",
       "    exp current_job_exp salary Валюта  cls  \n",
       "0   0.5             0.5    400    NaN   QA  \n",
       "1   0.0             0.0    430    NaN   QA  \n",
       "2   4.0             1.0   2500    NaN  DEV  \n",
       "3   5.0             4.0   2000    NaN  DEV  \n",
       "4  10.0             0.5   4500    NaN  DEV  \n",
       "\n",
       "[5 rows x 25 columns]"
      ],
      "text/html": [
       "<div>\n",
       "<style scoped>\n",
       "    .dataframe tbody tr th:only-of-type {\n",
       "        vertical-align: middle;\n",
       "    }\n",
       "\n",
       "    .dataframe tbody tr th {\n",
       "        vertical-align: top;\n",
       "    }\n",
       "\n",
       "    .dataframe thead th {\n",
       "        text-align: right;\n",
       "    }\n",
       "</style>\n",
       "<table border=\"1\" class=\"dataframe\">\n",
       "  <thead>\n",
       "    <tr style=\"text-align: right;\">\n",
       "      <th></th>\n",
       "      <th>N</th>\n",
       "      <th>Role</th>\n",
       "      <th>Programming language</th>\n",
       "      <th>Specialisation</th>\n",
       "      <th>Experience</th>\n",
       "      <th>Experience on current job</th>\n",
       "      <th>Salary/month</th>\n",
       "      <th>Изменение.зарплаты.за.12.месяцев</th>\n",
       "      <th>City</th>\n",
       "      <th>Company size</th>\n",
       "      <th>...</th>\n",
       "      <th>Still student</th>\n",
       "      <th>English</th>\n",
       "      <th>Subject.area</th>\n",
       "      <th>Date</th>\n",
       "      <th>User.Agent</th>\n",
       "      <th>exp</th>\n",
       "      <th>current_job_exp</th>\n",
       "      <th>salary</th>\n",
       "      <th>Валюта</th>\n",
       "      <th>cls</th>\n",
       "    </tr>\n",
       "  </thead>\n",
       "  <tbody>\n",
       "    <tr>\n",
       "      <th>0</th>\n",
       "      <td>1</td>\n",
       "      <td>Junior QA engineer</td>\n",
       "      <td>NaN</td>\n",
       "      <td>Manual QA</td>\n",
       "      <td>0.5</td>\n",
       "      <td>0.5</td>\n",
       "      <td>400</td>\n",
       "      <td>0</td>\n",
       "      <td>New York</td>\n",
       "      <td>up to 10 employees</td>\n",
       "      <td>...</td>\n",
       "      <td>True</td>\n",
       "      <td>A1</td>\n",
       "      <td>iOS,eCommerce</td>\n",
       "      <td>12/06/2017 12:38:08</td>\n",
       "      <td>Mozilla/5.0 (Windows NT 10.0; Win64; x64) Appl...</td>\n",
       "      <td>0.5</td>\n",
       "      <td>0.5</td>\n",
       "      <td>400</td>\n",
       "      <td>NaN</td>\n",
       "      <td>QA</td>\n",
       "    </tr>\n",
       "    <tr>\n",
       "      <th>1</th>\n",
       "      <td>2</td>\n",
       "      <td>Junior QA engineer</td>\n",
       "      <td>NaN</td>\n",
       "      <td>Manual QA</td>\n",
       "      <td>loss then 3 month</td>\n",
       "      <td>loss then 3 month</td>\n",
       "      <td>430</td>\n",
       "      <td>130</td>\n",
       "      <td>New York</td>\n",
       "      <td>more then 1000 employees</td>\n",
       "      <td>...</td>\n",
       "      <td>True</td>\n",
       "      <td>B2</td>\n",
       "      <td>Web development</td>\n",
       "      <td>12/06/2017 12:42:51</td>\n",
       "      <td>Mozilla/5.0 (iPad; CPU OS 10_2_1 like Mac OS X...</td>\n",
       "      <td>0.0</td>\n",
       "      <td>0.0</td>\n",
       "      <td>430</td>\n",
       "      <td>NaN</td>\n",
       "      <td>QA</td>\n",
       "    </tr>\n",
       "    <tr>\n",
       "      <th>2</th>\n",
       "      <td>3</td>\n",
       "      <td>Software Engineer</td>\n",
       "      <td>C#/.NET</td>\n",
       "      <td>NaN</td>\n",
       "      <td>4</td>\n",
       "      <td>1</td>\n",
       "      <td>2500</td>\n",
       "      <td>800</td>\n",
       "      <td>Berlin</td>\n",
       "      <td>up to 1000 employees</td>\n",
       "      <td>...</td>\n",
       "      <td>False</td>\n",
       "      <td>B1</td>\n",
       "      <td>Web development,Corporative systems</td>\n",
       "      <td>12/06/2017 13:02:47</td>\n",
       "      <td>Mozilla/5.0 (Windows NT 10.0; Win64; x64) Appl...</td>\n",
       "      <td>4.0</td>\n",
       "      <td>1.0</td>\n",
       "      <td>2500</td>\n",
       "      <td>NaN</td>\n",
       "      <td>DEV</td>\n",
       "    </tr>\n",
       "    <tr>\n",
       "      <th>3</th>\n",
       "      <td>4</td>\n",
       "      <td>Software Engineer</td>\n",
       "      <td>JavaScript</td>\n",
       "      <td>NaN</td>\n",
       "      <td>5</td>\n",
       "      <td>4</td>\n",
       "      <td>2000</td>\n",
       "      <td>400</td>\n",
       "      <td>Odesa</td>\n",
       "      <td>up to 200 employees</td>\n",
       "      <td>...</td>\n",
       "      <td>False</td>\n",
       "      <td>A1</td>\n",
       "      <td>Desktop Applications,Web development</td>\n",
       "      <td>12/06/2017 13:03:01</td>\n",
       "      <td>Mozilla/5.0 (Windows NT 6.1; Win64; x64) Apple...</td>\n",
       "      <td>5.0</td>\n",
       "      <td>4.0</td>\n",
       "      <td>2000</td>\n",
       "      <td>NaN</td>\n",
       "      <td>DEV</td>\n",
       "    </tr>\n",
       "    <tr>\n",
       "      <th>4</th>\n",
       "      <td>5</td>\n",
       "      <td>Senior Software Engineer</td>\n",
       "      <td>JavaScript</td>\n",
       "      <td>NaN</td>\n",
       "      <td>10+</td>\n",
       "      <td>0.5</td>\n",
       "      <td>4500</td>\n",
       "      <td>500</td>\n",
       "      <td>Other</td>\n",
       "      <td>up to 10 employees</td>\n",
       "      <td>...</td>\n",
       "      <td>False</td>\n",
       "      <td>B1</td>\n",
       "      <td>Desktop Applications,Web development</td>\n",
       "      <td>12/06/2017 13:03:47</td>\n",
       "      <td>Mozilla/5.0 (iPhone; CPU iPhone OS 10_3_2 like...</td>\n",
       "      <td>10.0</td>\n",
       "      <td>0.5</td>\n",
       "      <td>4500</td>\n",
       "      <td>NaN</td>\n",
       "      <td>DEV</td>\n",
       "    </tr>\n",
       "  </tbody>\n",
       "</table>\n",
       "<p>5 rows × 25 columns</p>\n",
       "</div>"
      ]
     },
     "execution_count": 3,
     "metadata": {},
     "output_type": "execute_result"
    }
   ],
   "execution_count": 3
  },
  {
   "metadata": {},
   "cell_type": "markdown",
   "source": "## 3. Define the size of the table using the `shape` method."
  },
  {
   "cell_type": "code",
   "source": [
    "df.shape"
   ],
   "metadata": {
    "colab": {
     "base_uri": "https://localhost:8080/"
    },
    "id": "Hq2NgRtaWAAg",
    "outputId": "7ab02c40-29c4-4f04-dc36-35e00b573eb2",
    "ExecuteTime": {
     "end_time": "2024-04-28T12:44:58.175728Z",
     "start_time": "2024-04-28T12:44:58.173595Z"
    }
   },
   "outputs": [
    {
     "data": {
      "text/plain": [
       "(8704, 25)"
      ]
     },
     "execution_count": 4,
     "metadata": {},
     "output_type": "execute_result"
    }
   ],
   "execution_count": 4
  },
  {
   "metadata": {},
   "cell_type": "markdown",
   "source": "## 4. Define the types of all columns using the `dataframe.dtypes` method."
  },
  {
   "cell_type": "code",
   "source": [
    "df.dtypes"
   ],
   "metadata": {
    "colab": {
     "base_uri": "https://localhost:8080/"
    },
    "id": "Wq81DxmHWDhf",
    "outputId": "561cb43e-dcd1-4ab9-c1a1-971978f8849e",
    "ExecuteTime": {
     "end_time": "2024-04-28T12:44:58.180389Z",
     "start_time": "2024-04-28T12:44:58.176708Z"
    }
   },
   "outputs": [
    {
     "data": {
      "text/plain": [
       "N                                     int64\n",
       "Role                                 object\n",
       "Programming language                 object\n",
       "Specialisation                       object\n",
       "Experience                           object\n",
       "Experience on current job            object\n",
       "Salary/month                          int64\n",
       "Изменение.зарплаты.за.12.месяцев      int64\n",
       "City                                 object\n",
       "Company size                         object\n",
       "Company type                         object\n",
       "Gender                               object\n",
       "Age                                   int64\n",
       "Education                            object\n",
       "University                           object\n",
       "Still student                          bool\n",
       "English                              object\n",
       "Subject.area                         object\n",
       "Date                                 object\n",
       "User.Agent                           object\n",
       "exp                                 float64\n",
       "current_job_exp                     float64\n",
       "salary                                int64\n",
       "Валюта                               object\n",
       "cls                                  object\n",
       "dtype: object"
      ]
     },
     "execution_count": 5,
     "metadata": {},
     "output_type": "execute_result"
    }
   ],
   "execution_count": 5
  },
  {
   "metadata": {},
   "cell_type": "markdown",
   "source": "## 5. Calculate the proportion of empty spaces in each column (use `isnull` and `sum` methods)."
  },
  {
   "cell_type": "code",
   "source": [
    "df.isnull().sum() / len(df)"
   ],
   "metadata": {
    "id": "UA0IHGmnT37K",
    "colab": {
     "base_uri": "https://localhost:8080/"
    },
    "outputId": "0933b0da-a263-4b4f-85c5-0b7e977cc96e",
    "ExecuteTime": {
     "end_time": "2024-04-28T12:44:58.188951Z",
     "start_time": "2024-04-28T12:44:58.180929Z"
    }
   },
   "outputs": [
    {
     "data": {
      "text/plain": [
       "N                                   0.000000\n",
       "Role                                0.000000\n",
       "Programming language                0.442325\n",
       "Specialisation                      0.829389\n",
       "Experience                          0.000000\n",
       "Experience on current job           0.000000\n",
       "Salary/month                        0.000000\n",
       "Изменение.зарплаты.за.12.месяцев    0.000000\n",
       "City                                0.000000\n",
       "Company size                        0.000000\n",
       "Company type                        0.000000\n",
       "Gender                              0.000000\n",
       "Age                                 0.000000\n",
       "Education                           0.000000\n",
       "University                          0.177619\n",
       "Still student                       0.000000\n",
       "English                             0.000000\n",
       "Subject.area                        0.025620\n",
       "Date                                0.000000\n",
       "User.Agent                          0.000000\n",
       "exp                                 0.000000\n",
       "current_job_exp                     0.000000\n",
       "salary                              0.000000\n",
       "Валюта                              0.998851\n",
       "cls                                 0.180836\n",
       "dtype: float64"
      ]
     },
     "execution_count": 6,
     "metadata": {},
     "output_type": "execute_result"
    }
   ],
   "execution_count": 6
  },
  {
   "metadata": {},
   "cell_type": "markdown",
   "source": "## 6. Remove all columns with spaces except for the \"Programming Language\" column."
  },
  {
   "cell_type": "code",
   "source": [
    "for col in df.columns:\n",
    "  if \" \" in col and col != \"Programming language\":\n",
    "    df.drop(col, axis=1, inplace=True)"
   ],
   "metadata": {
    "id": "EMrRCskjT406",
    "ExecuteTime": {
     "end_time": "2024-04-28T12:44:58.195536Z",
     "start_time": "2024-04-28T12:44:58.189429Z"
    }
   },
   "outputs": [],
   "execution_count": 7
  },
  {
   "metadata": {},
   "cell_type": "markdown",
   "source": "## 7. Recount the percentage of empty spaces in each column and ensure only the \"Programming Language\" column remains."
  },
  {
   "cell_type": "code",
   "source": [
    "df.isnull().sum() / len(df)"
   ],
   "metadata": {
    "colab": {
     "base_uri": "https://localhost:8080/"
    },
    "id": "rZH4OmTHb0-C",
    "outputId": "58f5a144-6f84-44b7-f2c4-83a72758dcff",
    "ExecuteTime": {
     "end_time": "2024-04-28T12:44:58.201371Z",
     "start_time": "2024-04-28T12:44:58.196062Z"
    }
   },
   "outputs": [
    {
     "data": {
      "text/plain": [
       "N                                   0.000000\n",
       "Role                                0.000000\n",
       "Programming language                0.442325\n",
       "Salary/month                        0.000000\n",
       "Изменение.зарплаты.за.12.месяцев    0.000000\n",
       "City                                0.000000\n",
       "Gender                              0.000000\n",
       "Age                                 0.000000\n",
       "Education                           0.000000\n",
       "University                          0.177619\n",
       "Subject.area                        0.025620\n",
       "Date                                0.000000\n",
       "User.Agent                          0.000000\n",
       "exp                                 0.000000\n",
       "current_job_exp                     0.000000\n",
       "salary                              0.000000\n",
       "Валюта                              0.998851\n",
       "cls                                 0.180836\n",
       "dtype: float64"
      ]
     },
     "execution_count": 8,
     "metadata": {},
     "output_type": "execute_result"
    }
   ],
   "execution_count": 8
  },
  {
   "metadata": {},
   "cell_type": "markdown",
   "source": "## 8. Remove all rows from the original table using the `dropna` method."
  },
  {
   "cell_type": "code",
   "source": [
    "df = df.dropna()"
   ],
   "metadata": {
    "id": "rv8A6jTicJ0j",
    "ExecuteTime": {
     "end_time": "2024-04-28T12:44:58.207462Z",
     "start_time": "2024-04-28T12:44:58.201885Z"
    }
   },
   "outputs": [],
   "execution_count": 9
  },
  {
   "metadata": {},
   "cell_type": "markdown",
   "source": "## 9. Define the new size of the table using the `shape` method."
  },
  {
   "cell_type": "code",
   "source": [
    "df.shape"
   ],
   "metadata": {
    "colab": {
     "base_uri": "https://localhost:8080/"
    },
    "id": "Vdl4jJb-cPTZ",
    "outputId": "8b07b4c9-8a07-44b4-a4e4-3e9168f5fcbb",
    "ExecuteTime": {
     "end_time": "2024-04-28T12:44:58.211955Z",
     "start_time": "2024-04-28T12:44:58.207986Z"
    }
   },
   "outputs": [
    {
     "data": {
      "text/plain": [
       "(8, 18)"
      ]
     },
     "execution_count": 10,
     "metadata": {},
     "output_type": "execute_result"
    }
   ],
   "execution_count": 10
  },
  {
   "metadata": {},
   "cell_type": "markdown",
   "source": "## 10. Create a new table `python_data` containing only rows with specialists who listed Python as a programming language."
  },
  {
   "cell_type": "code",
   "source": [
    "python_data = pd.read_csv(\"2017_jun_final - 2017_jun_final.csv\")\n",
    "python_data = python_data[python_data[\"Programming language\"] == \"Python\"]\n",
    "python_data"
   ],
   "metadata": {
    "id": "VAsE9TSNeEd5",
    "ExecuteTime": {
     "end_time": "2024-04-28T12:44:58.249261Z",
     "start_time": "2024-04-28T12:44:58.212448Z"
    }
   },
   "outputs": [
    {
     "data": {
      "text/plain": [
       "         N                      Role Programming language Specialisation   \\\n",
       "12      13         Software Engineer               Python             NaN   \n",
       "68      69         Software Engineer               Python             NaN   \n",
       "87      88  Junior Software Engineer               Python             NaN   \n",
       "114    115  Junior Software Engineer               Python             NaN   \n",
       "143    144  Junior Software Engineer               Python             NaN   \n",
       "...    ...                       ...                  ...             ...   \n",
       "8546  8547         Software Engineer               Python             NaN   \n",
       "8625  8626         Software Engineer               Python             NaN   \n",
       "8635  8636  Senior Software Engineer               Python             NaN   \n",
       "8673  8674  Junior Software Engineer               Python             NaN   \n",
       "8695  8696         Software Engineer               Python             NaN   \n",
       "\n",
       "     Experience  Experience on current job  Salary/month  \\\n",
       "12             1         loss then 3 month           800   \n",
       "68           1.5                       0.5           900   \n",
       "87           0.5                       0.5           600   \n",
       "114          1.5                       0.5           685   \n",
       "143            1                         1           750   \n",
       "...          ...                       ...           ...   \n",
       "8546           5                         1          2000   \n",
       "8625           4                         1          1750   \n",
       "8635        10+          loss then 3 month          4000   \n",
       "8673         0.5                       0.5           350   \n",
       "8695           1                       0.5          1500   \n",
       "\n",
       "      Изменение.зарплаты.за.12.месяцев    City              Company size  ...  \\\n",
       "12                                 200  Berlin        up to 50 employees  ...   \n",
       "68                                 900  Berlin        up to 10 employees  ...   \n",
       "87                                   0  Berlin        up to 10 employees  ...   \n",
       "114                                250  Berlin      up to 1000 employees  ...   \n",
       "143                                250  Berlin        up to 10 employees  ...   \n",
       "...                                ...     ...                       ...  ...   \n",
       "8546                               800    Łódź        up to 50 employees  ...   \n",
       "8625                                 0  Berlin  more then 1000 employees  ...   \n",
       "8635                              1300  Remote        up to 10 employees  ...   \n",
       "8673                                50  Berlin        up to 50 employees  ...   \n",
       "8695                              1000  Berlin        up to 10 employees  ...   \n",
       "\n",
       "     Still student English                Subject.area                 Date  \\\n",
       "12           False       A1      Web development,Other  12/06/2017 13:05:54   \n",
       "68            True       B2            Web development  12/06/2017 13:11:17   \n",
       "87            True       B2  Web development,eCommerce  12/06/2017 13:12:25   \n",
       "114          False       B1                      Other  12/06/2017 13:14:52   \n",
       "143           True       B2            Web development  12/06/2017 13:19:10   \n",
       "...            ...      ...                        ...                  ...   \n",
       "8546         False       B1            Web development  10/07/2017 14:11:26   \n",
       "8625         False       B1            Web development  11/07/2017 16:15:40   \n",
       "8635         False       B2            Web development  11/07/2017 17:51:36   \n",
       "8673         False       B1            Web development   12/07/2017 9:37:16   \n",
       "8695         False       B1          Finance,eCommerce  12/07/2017 14:39:21   \n",
       "\n",
       "                                             User.Agent   exp current_job_exp  \\\n",
       "12    Mozilla/5.0 (Windows NT 6.1; Win64; x64) Apple...   1.0             0.0   \n",
       "68    Mozilla/5.0 (Windows NT 10.0; Win64; x64) Appl...   1.5             0.5   \n",
       "87    Mozilla/5.0 (X11; Linux x86_64) AppleWebKit/53...   0.5             0.5   \n",
       "114   Mozilla/5.0 (X11; Linux x86_64) AppleWebKit/53...   1.5             0.5   \n",
       "143   Mozilla/5.0 (X11; Linux x86_64) AppleWebKit/53...   1.0             1.0   \n",
       "...                                                 ...   ...             ...   \n",
       "8546  Mozilla/5.0 (Macintosh; Intel Mac OS X 10_12_5...   5.0             1.0   \n",
       "8625  Mozilla/5.0 (X11; Ubuntu; Linux x86_64; rv:54....   4.0             1.0   \n",
       "8635  Mozilla/5.0 (X11; Linux x86_64) AppleWebKit/53...  10.0             0.0   \n",
       "8673  Mozilla/5.0 (X11; Ubuntu; Linux x86_64; rv:54....   0.5             0.5   \n",
       "8695  Mozilla/5.0 (X11; Linux x86_64) AppleWebKit/53...   1.0             0.5   \n",
       "\n",
       "     salary Валюта  cls  \n",
       "12      800    NaN  DEV  \n",
       "68      900    NaN  DEV  \n",
       "87      600    NaN  DEV  \n",
       "114     685    NaN  DEV  \n",
       "143     750    NaN  DEV  \n",
       "...     ...    ...  ...  \n",
       "8546   2000    NaN  DEV  \n",
       "8625   1750    NaN  DEV  \n",
       "8635   4000    NaN  DEV  \n",
       "8673    350    NaN  DEV  \n",
       "8695   1500    NaN  DEV  \n",
       "\n",
       "[207 rows x 25 columns]"
      ],
      "text/html": [
       "<div>\n",
       "<style scoped>\n",
       "    .dataframe tbody tr th:only-of-type {\n",
       "        vertical-align: middle;\n",
       "    }\n",
       "\n",
       "    .dataframe tbody tr th {\n",
       "        vertical-align: top;\n",
       "    }\n",
       "\n",
       "    .dataframe thead th {\n",
       "        text-align: right;\n",
       "    }\n",
       "</style>\n",
       "<table border=\"1\" class=\"dataframe\">\n",
       "  <thead>\n",
       "    <tr style=\"text-align: right;\">\n",
       "      <th></th>\n",
       "      <th>N</th>\n",
       "      <th>Role</th>\n",
       "      <th>Programming language</th>\n",
       "      <th>Specialisation</th>\n",
       "      <th>Experience</th>\n",
       "      <th>Experience on current job</th>\n",
       "      <th>Salary/month</th>\n",
       "      <th>Изменение.зарплаты.за.12.месяцев</th>\n",
       "      <th>City</th>\n",
       "      <th>Company size</th>\n",
       "      <th>...</th>\n",
       "      <th>Still student</th>\n",
       "      <th>English</th>\n",
       "      <th>Subject.area</th>\n",
       "      <th>Date</th>\n",
       "      <th>User.Agent</th>\n",
       "      <th>exp</th>\n",
       "      <th>current_job_exp</th>\n",
       "      <th>salary</th>\n",
       "      <th>Валюта</th>\n",
       "      <th>cls</th>\n",
       "    </tr>\n",
       "  </thead>\n",
       "  <tbody>\n",
       "    <tr>\n",
       "      <th>12</th>\n",
       "      <td>13</td>\n",
       "      <td>Software Engineer</td>\n",
       "      <td>Python</td>\n",
       "      <td>NaN</td>\n",
       "      <td>1</td>\n",
       "      <td>loss then 3 month</td>\n",
       "      <td>800</td>\n",
       "      <td>200</td>\n",
       "      <td>Berlin</td>\n",
       "      <td>up to 50 employees</td>\n",
       "      <td>...</td>\n",
       "      <td>False</td>\n",
       "      <td>A1</td>\n",
       "      <td>Web development,Other</td>\n",
       "      <td>12/06/2017 13:05:54</td>\n",
       "      <td>Mozilla/5.0 (Windows NT 6.1; Win64; x64) Apple...</td>\n",
       "      <td>1.0</td>\n",
       "      <td>0.0</td>\n",
       "      <td>800</td>\n",
       "      <td>NaN</td>\n",
       "      <td>DEV</td>\n",
       "    </tr>\n",
       "    <tr>\n",
       "      <th>68</th>\n",
       "      <td>69</td>\n",
       "      <td>Software Engineer</td>\n",
       "      <td>Python</td>\n",
       "      <td>NaN</td>\n",
       "      <td>1.5</td>\n",
       "      <td>0.5</td>\n",
       "      <td>900</td>\n",
       "      <td>900</td>\n",
       "      <td>Berlin</td>\n",
       "      <td>up to 10 employees</td>\n",
       "      <td>...</td>\n",
       "      <td>True</td>\n",
       "      <td>B2</td>\n",
       "      <td>Web development</td>\n",
       "      <td>12/06/2017 13:11:17</td>\n",
       "      <td>Mozilla/5.0 (Windows NT 10.0; Win64; x64) Appl...</td>\n",
       "      <td>1.5</td>\n",
       "      <td>0.5</td>\n",
       "      <td>900</td>\n",
       "      <td>NaN</td>\n",
       "      <td>DEV</td>\n",
       "    </tr>\n",
       "    <tr>\n",
       "      <th>87</th>\n",
       "      <td>88</td>\n",
       "      <td>Junior Software Engineer</td>\n",
       "      <td>Python</td>\n",
       "      <td>NaN</td>\n",
       "      <td>0.5</td>\n",
       "      <td>0.5</td>\n",
       "      <td>600</td>\n",
       "      <td>0</td>\n",
       "      <td>Berlin</td>\n",
       "      <td>up to 10 employees</td>\n",
       "      <td>...</td>\n",
       "      <td>True</td>\n",
       "      <td>B2</td>\n",
       "      <td>Web development,eCommerce</td>\n",
       "      <td>12/06/2017 13:12:25</td>\n",
       "      <td>Mozilla/5.0 (X11; Linux x86_64) AppleWebKit/53...</td>\n",
       "      <td>0.5</td>\n",
       "      <td>0.5</td>\n",
       "      <td>600</td>\n",
       "      <td>NaN</td>\n",
       "      <td>DEV</td>\n",
       "    </tr>\n",
       "    <tr>\n",
       "      <th>114</th>\n",
       "      <td>115</td>\n",
       "      <td>Junior Software Engineer</td>\n",
       "      <td>Python</td>\n",
       "      <td>NaN</td>\n",
       "      <td>1.5</td>\n",
       "      <td>0.5</td>\n",
       "      <td>685</td>\n",
       "      <td>250</td>\n",
       "      <td>Berlin</td>\n",
       "      <td>up to 1000 employees</td>\n",
       "      <td>...</td>\n",
       "      <td>False</td>\n",
       "      <td>B1</td>\n",
       "      <td>Other</td>\n",
       "      <td>12/06/2017 13:14:52</td>\n",
       "      <td>Mozilla/5.0 (X11; Linux x86_64) AppleWebKit/53...</td>\n",
       "      <td>1.5</td>\n",
       "      <td>0.5</td>\n",
       "      <td>685</td>\n",
       "      <td>NaN</td>\n",
       "      <td>DEV</td>\n",
       "    </tr>\n",
       "    <tr>\n",
       "      <th>143</th>\n",
       "      <td>144</td>\n",
       "      <td>Junior Software Engineer</td>\n",
       "      <td>Python</td>\n",
       "      <td>NaN</td>\n",
       "      <td>1</td>\n",
       "      <td>1</td>\n",
       "      <td>750</td>\n",
       "      <td>250</td>\n",
       "      <td>Berlin</td>\n",
       "      <td>up to 10 employees</td>\n",
       "      <td>...</td>\n",
       "      <td>True</td>\n",
       "      <td>B2</td>\n",
       "      <td>Web development</td>\n",
       "      <td>12/06/2017 13:19:10</td>\n",
       "      <td>Mozilla/5.0 (X11; Linux x86_64) AppleWebKit/53...</td>\n",
       "      <td>1.0</td>\n",
       "      <td>1.0</td>\n",
       "      <td>750</td>\n",
       "      <td>NaN</td>\n",
       "      <td>DEV</td>\n",
       "    </tr>\n",
       "    <tr>\n",
       "      <th>...</th>\n",
       "      <td>...</td>\n",
       "      <td>...</td>\n",
       "      <td>...</td>\n",
       "      <td>...</td>\n",
       "      <td>...</td>\n",
       "      <td>...</td>\n",
       "      <td>...</td>\n",
       "      <td>...</td>\n",
       "      <td>...</td>\n",
       "      <td>...</td>\n",
       "      <td>...</td>\n",
       "      <td>...</td>\n",
       "      <td>...</td>\n",
       "      <td>...</td>\n",
       "      <td>...</td>\n",
       "      <td>...</td>\n",
       "      <td>...</td>\n",
       "      <td>...</td>\n",
       "      <td>...</td>\n",
       "      <td>...</td>\n",
       "      <td>...</td>\n",
       "    </tr>\n",
       "    <tr>\n",
       "      <th>8546</th>\n",
       "      <td>8547</td>\n",
       "      <td>Software Engineer</td>\n",
       "      <td>Python</td>\n",
       "      <td>NaN</td>\n",
       "      <td>5</td>\n",
       "      <td>1</td>\n",
       "      <td>2000</td>\n",
       "      <td>800</td>\n",
       "      <td>Łódź</td>\n",
       "      <td>up to 50 employees</td>\n",
       "      <td>...</td>\n",
       "      <td>False</td>\n",
       "      <td>B1</td>\n",
       "      <td>Web development</td>\n",
       "      <td>10/07/2017 14:11:26</td>\n",
       "      <td>Mozilla/5.0 (Macintosh; Intel Mac OS X 10_12_5...</td>\n",
       "      <td>5.0</td>\n",
       "      <td>1.0</td>\n",
       "      <td>2000</td>\n",
       "      <td>NaN</td>\n",
       "      <td>DEV</td>\n",
       "    </tr>\n",
       "    <tr>\n",
       "      <th>8625</th>\n",
       "      <td>8626</td>\n",
       "      <td>Software Engineer</td>\n",
       "      <td>Python</td>\n",
       "      <td>NaN</td>\n",
       "      <td>4</td>\n",
       "      <td>1</td>\n",
       "      <td>1750</td>\n",
       "      <td>0</td>\n",
       "      <td>Berlin</td>\n",
       "      <td>more then 1000 employees</td>\n",
       "      <td>...</td>\n",
       "      <td>False</td>\n",
       "      <td>B1</td>\n",
       "      <td>Web development</td>\n",
       "      <td>11/07/2017 16:15:40</td>\n",
       "      <td>Mozilla/5.0 (X11; Ubuntu; Linux x86_64; rv:54....</td>\n",
       "      <td>4.0</td>\n",
       "      <td>1.0</td>\n",
       "      <td>1750</td>\n",
       "      <td>NaN</td>\n",
       "      <td>DEV</td>\n",
       "    </tr>\n",
       "    <tr>\n",
       "      <th>8635</th>\n",
       "      <td>8636</td>\n",
       "      <td>Senior Software Engineer</td>\n",
       "      <td>Python</td>\n",
       "      <td>NaN</td>\n",
       "      <td>10+</td>\n",
       "      <td>loss then 3 month</td>\n",
       "      <td>4000</td>\n",
       "      <td>1300</td>\n",
       "      <td>Remote</td>\n",
       "      <td>up to 10 employees</td>\n",
       "      <td>...</td>\n",
       "      <td>False</td>\n",
       "      <td>B2</td>\n",
       "      <td>Web development</td>\n",
       "      <td>11/07/2017 17:51:36</td>\n",
       "      <td>Mozilla/5.0 (X11; Linux x86_64) AppleWebKit/53...</td>\n",
       "      <td>10.0</td>\n",
       "      <td>0.0</td>\n",
       "      <td>4000</td>\n",
       "      <td>NaN</td>\n",
       "      <td>DEV</td>\n",
       "    </tr>\n",
       "    <tr>\n",
       "      <th>8673</th>\n",
       "      <td>8674</td>\n",
       "      <td>Junior Software Engineer</td>\n",
       "      <td>Python</td>\n",
       "      <td>NaN</td>\n",
       "      <td>0.5</td>\n",
       "      <td>0.5</td>\n",
       "      <td>350</td>\n",
       "      <td>50</td>\n",
       "      <td>Berlin</td>\n",
       "      <td>up to 50 employees</td>\n",
       "      <td>...</td>\n",
       "      <td>False</td>\n",
       "      <td>B1</td>\n",
       "      <td>Web development</td>\n",
       "      <td>12/07/2017 9:37:16</td>\n",
       "      <td>Mozilla/5.0 (X11; Ubuntu; Linux x86_64; rv:54....</td>\n",
       "      <td>0.5</td>\n",
       "      <td>0.5</td>\n",
       "      <td>350</td>\n",
       "      <td>NaN</td>\n",
       "      <td>DEV</td>\n",
       "    </tr>\n",
       "    <tr>\n",
       "      <th>8695</th>\n",
       "      <td>8696</td>\n",
       "      <td>Software Engineer</td>\n",
       "      <td>Python</td>\n",
       "      <td>NaN</td>\n",
       "      <td>1</td>\n",
       "      <td>0.5</td>\n",
       "      <td>1500</td>\n",
       "      <td>1000</td>\n",
       "      <td>Berlin</td>\n",
       "      <td>up to 10 employees</td>\n",
       "      <td>...</td>\n",
       "      <td>False</td>\n",
       "      <td>B1</td>\n",
       "      <td>Finance,eCommerce</td>\n",
       "      <td>12/07/2017 14:39:21</td>\n",
       "      <td>Mozilla/5.0 (X11; Linux x86_64) AppleWebKit/53...</td>\n",
       "      <td>1.0</td>\n",
       "      <td>0.5</td>\n",
       "      <td>1500</td>\n",
       "      <td>NaN</td>\n",
       "      <td>DEV</td>\n",
       "    </tr>\n",
       "  </tbody>\n",
       "</table>\n",
       "<p>207 rows × 25 columns</p>\n",
       "</div>"
      ]
     },
     "execution_count": 11,
     "metadata": {},
     "output_type": "execute_result"
    }
   ],
   "execution_count": 11
  },
  {
   "metadata": {},
   "cell_type": "markdown",
   "source": "## 11. Define the size of the `python_data` table using the `shape` method."
  },
  {
   "cell_type": "code",
   "source": [
    "python_data.shape"
   ],
   "metadata": {
    "colab": {
     "base_uri": "https://localhost:8080/"
    },
    "id": "kSYG2ONDe3rp",
    "outputId": "9e63862d-30fa-4858-ffac-752022f3619a",
    "ExecuteTime": {
     "end_time": "2024-04-28T12:44:58.251951Z",
     "start_time": "2024-04-28T12:44:58.249874Z"
    }
   },
   "outputs": [
    {
     "data": {
      "text/plain": [
       "(207, 25)"
      ]
     },
     "execution_count": 12,
     "metadata": {},
     "output_type": "execute_result"
    }
   ],
   "execution_count": 12
  },
  {
   "metadata": {},
   "cell_type": "markdown",
   "source": "## 12. Using the [groupby](https://pandas.pydata.org/docs/reference/api/pandas.DataFrame.groupby.html) method, group by the \"Role\" column."
  },
  {
   "cell_type": "code",
   "source": "groupby_data = python_data.groupby('Role')",
   "metadata": {
    "id": "931-P7gafMvS",
    "ExecuteTime": {
     "end_time": "2024-04-28T12:44:58.256344Z",
     "start_time": "2024-04-28T12:44:58.252471Z"
    }
   },
   "outputs": [],
   "execution_count": 13
  },
  {
   "metadata": {},
   "cell_type": "markdown",
   "source": "## 13. Create a new DataFrame where, for data grouped by the \"Role\" column, you perform data aggregation using the [agg](https://pandas.pydata.org/docs/reference/api/pandas.DataFrame.agg.html) method and find the minimum and maximum values in the \"Monthly Salary\" column."
  },
  {
   "cell_type": "code",
   "source": [
    "grouped_data = groupby_data.agg({'Salary/month': ['min', 'max']})\n",
    "grouped_data"
   ],
   "metadata": {
    "colab": {
     "base_uri": "https://localhost:8080/",
     "height": 269
    },
    "id": "aXDfOxdDfvHj",
    "outputId": "6f01a548-60b7-4127-e333-a16ae8c9e254",
    "ExecuteTime": {
     "end_time": "2024-04-28T12:44:58.263787Z",
     "start_time": "2024-04-28T12:44:58.257580Z"
    }
   },
   "outputs": [
    {
     "data": {
      "text/plain": [
       "                         Salary/month      \n",
       "                                  min   max\n",
       "Role                                       \n",
       "Junior Software Engineer          100  1250\n",
       "Senior Software Engineer         1300  9200\n",
       "Software Engineer                 500  5400\n",
       "System Architect                 3000  5000\n",
       "Technical Lead                   1425  6200"
      ],
      "text/html": [
       "<div>\n",
       "<style scoped>\n",
       "    .dataframe tbody tr th:only-of-type {\n",
       "        vertical-align: middle;\n",
       "    }\n",
       "\n",
       "    .dataframe tbody tr th {\n",
       "        vertical-align: top;\n",
       "    }\n",
       "\n",
       "    .dataframe thead tr th {\n",
       "        text-align: left;\n",
       "    }\n",
       "\n",
       "    .dataframe thead tr:last-of-type th {\n",
       "        text-align: right;\n",
       "    }\n",
       "</style>\n",
       "<table border=\"1\" class=\"dataframe\">\n",
       "  <thead>\n",
       "    <tr>\n",
       "      <th></th>\n",
       "      <th colspan=\"2\" halign=\"left\">Salary/month</th>\n",
       "    </tr>\n",
       "    <tr>\n",
       "      <th></th>\n",
       "      <th>min</th>\n",
       "      <th>max</th>\n",
       "    </tr>\n",
       "    <tr>\n",
       "      <th>Role</th>\n",
       "      <th></th>\n",
       "      <th></th>\n",
       "    </tr>\n",
       "  </thead>\n",
       "  <tbody>\n",
       "    <tr>\n",
       "      <th>Junior Software Engineer</th>\n",
       "      <td>100</td>\n",
       "      <td>1250</td>\n",
       "    </tr>\n",
       "    <tr>\n",
       "      <th>Senior Software Engineer</th>\n",
       "      <td>1300</td>\n",
       "      <td>9200</td>\n",
       "    </tr>\n",
       "    <tr>\n",
       "      <th>Software Engineer</th>\n",
       "      <td>500</td>\n",
       "      <td>5400</td>\n",
       "    </tr>\n",
       "    <tr>\n",
       "      <th>System Architect</th>\n",
       "      <td>3000</td>\n",
       "      <td>5000</td>\n",
       "    </tr>\n",
       "    <tr>\n",
       "      <th>Technical Lead</th>\n",
       "      <td>1425</td>\n",
       "      <td>6200</td>\n",
       "    </tr>\n",
       "  </tbody>\n",
       "</table>\n",
       "</div>"
      ]
     },
     "execution_count": 14,
     "metadata": {},
     "output_type": "execute_result"
    }
   ],
   "execution_count": 14
  },
  {
   "metadata": {},
   "cell_type": "markdown",
   "source": "## 14. Create a function `fill_avg_salary` that returns the average monthly salary. Use it in the [apply](https://pandas.pydata.org/docs/reference/api/pandas.DataFrame.apply.html) method to create a new column \"avg\"."
  },
  {
   "cell_type": "code",
   "source": [
    "def fill_avg_salary(row):\n",
    "  return (row[\"Salary/month\"][\"min\"] + row[\"Salary/month\"][\"max\"])/2\n",
    "\n",
    "grouped_data['avg'] = grouped_data.apply(fill_avg_salary, axis=1)\n",
    "\n",
    "grouped_data"
   ],
   "metadata": {
    "id": "xvfFfhv-l20T",
    "ExecuteTime": {
     "end_time": "2024-04-28T12:44:58.271486Z",
     "start_time": "2024-04-28T12:44:58.264562Z"
    }
   },
   "outputs": [
    {
     "data": {
      "text/plain": [
       "                         Salary/month           avg\n",
       "                                  min   max        \n",
       "Role                                               \n",
       "Junior Software Engineer          100  1250   675.0\n",
       "Senior Software Engineer         1300  9200  5250.0\n",
       "Software Engineer                 500  5400  2950.0\n",
       "System Architect                 3000  5000  4000.0\n",
       "Technical Lead                   1425  6200  3812.5"
      ],
      "text/html": [
       "<div>\n",
       "<style scoped>\n",
       "    .dataframe tbody tr th:only-of-type {\n",
       "        vertical-align: middle;\n",
       "    }\n",
       "\n",
       "    .dataframe tbody tr th {\n",
       "        vertical-align: top;\n",
       "    }\n",
       "\n",
       "    .dataframe thead tr th {\n",
       "        text-align: left;\n",
       "    }\n",
       "\n",
       "    .dataframe thead tr:last-of-type th {\n",
       "        text-align: right;\n",
       "    }\n",
       "</style>\n",
       "<table border=\"1\" class=\"dataframe\">\n",
       "  <thead>\n",
       "    <tr>\n",
       "      <th></th>\n",
       "      <th colspan=\"2\" halign=\"left\">Salary/month</th>\n",
       "      <th>avg</th>\n",
       "    </tr>\n",
       "    <tr>\n",
       "      <th></th>\n",
       "      <th>min</th>\n",
       "      <th>max</th>\n",
       "      <th></th>\n",
       "    </tr>\n",
       "    <tr>\n",
       "      <th>Role</th>\n",
       "      <th></th>\n",
       "      <th></th>\n",
       "      <th></th>\n",
       "    </tr>\n",
       "  </thead>\n",
       "  <tbody>\n",
       "    <tr>\n",
       "      <th>Junior Software Engineer</th>\n",
       "      <td>100</td>\n",
       "      <td>1250</td>\n",
       "      <td>675.0</td>\n",
       "    </tr>\n",
       "    <tr>\n",
       "      <th>Senior Software Engineer</th>\n",
       "      <td>1300</td>\n",
       "      <td>9200</td>\n",
       "      <td>5250.0</td>\n",
       "    </tr>\n",
       "    <tr>\n",
       "      <th>Software Engineer</th>\n",
       "      <td>500</td>\n",
       "      <td>5400</td>\n",
       "      <td>2950.0</td>\n",
       "    </tr>\n",
       "    <tr>\n",
       "      <th>System Architect</th>\n",
       "      <td>3000</td>\n",
       "      <td>5000</td>\n",
       "      <td>4000.0</td>\n",
       "    </tr>\n",
       "    <tr>\n",
       "      <th>Technical Lead</th>\n",
       "      <td>1425</td>\n",
       "      <td>6200</td>\n",
       "      <td>3812.5</td>\n",
       "    </tr>\n",
       "  </tbody>\n",
       "</table>\n",
       "</div>"
      ]
     },
     "execution_count": 15,
     "metadata": {},
     "output_type": "execute_result"
    }
   ],
   "execution_count": 15
  },
  {
   "metadata": {},
   "cell_type": "markdown",
   "source": "## 15. Create descriptive statistics using the `describe` method for the new column."
  },
  {
   "cell_type": "code",
   "source": [
    "grouped_data['avg'].describe()"
   ],
   "metadata": {
    "colab": {
     "base_uri": "https://localhost:8080/"
    },
    "id": "ZAQZkJ9wnad7",
    "outputId": "b9235ac7-853e-4cce-f1fd-03383f88acdd",
    "ExecuteTime": {
     "end_time": "2024-04-28T12:44:58.276489Z",
     "start_time": "2024-04-28T12:44:58.272091Z"
    }
   },
   "outputs": [
    {
     "data": {
      "text/plain": [
       "count       5.000000\n",
       "mean     3337.500000\n",
       "std      1700.091909\n",
       "min       675.000000\n",
       "25%      2950.000000\n",
       "50%      3812.500000\n",
       "75%      4000.000000\n",
       "max      5250.000000\n",
       "Name: avg, dtype: float64"
      ]
     },
     "execution_count": 16,
     "metadata": {},
     "output_type": "execute_result"
    }
   ],
   "execution_count": 16
  },
  {
   "metadata": {},
   "cell_type": "markdown",
   "source": "## 16. Save the resulting table to a CSV file."
  },
  {
   "cell_type": "code",
   "source": [
    "grouped_data.to_csv(\"grouped_data.csv\")"
   ],
   "metadata": {
    "id": "INrmkqo7nyK9",
    "ExecuteTime": {
     "end_time": "2024-04-28T12:44:58.281643Z",
     "start_time": "2024-04-28T12:44:58.277046Z"
    }
   },
   "outputs": [],
   "execution_count": 17
  },
  {
   "metadata": {},
   "cell_type": "markdown",
   "source": "## 17. Add 3 to 5 charts of different types. Style your charts appropriately so that each chart in the homework is distinct from the others. You can use matplotlib or seaborn."
  },
  {
   "metadata": {
    "ExecuteTime": {
     "end_time": "2024-04-28T12:44:58.310181Z",
     "start_time": "2024-04-28T12:44:58.282237Z"
    }
   },
   "cell_type": "code",
   "source": "graph_data = pd.read_csv(\"2017_jun_final - 2017_jun_final.csv\")",
   "outputs": [],
   "execution_count": 18
  },
  {
   "metadata": {
    "ExecuteTime": {
     "end_time": "2024-04-28T12:44:58.581962Z",
     "start_time": "2024-04-28T12:44:58.311006Z"
    }
   },
   "cell_type": "code",
   "source": [
    "mean_salaries_by_role = graph_data.groupby('Role')['Salary/month'].mean().sort_values()\n",
    "mean_salaries_by_role.plot(kind='barh', color='b')\n",
    "plt.xlabel('Average Salary per Month')\n",
    "plt.ylabel('Role')\n",
    "plt.title('Average Salary per Month by Role')\n",
    "plt.grid(axis='x', linestyle='--', alpha=0.7)\n",
    "plt.tight_layout()"
   ],
   "outputs": [
    {
     "data": {
      "text/plain": [
       "<Figure size 640x480 with 1 Axes>"
      ],
      "image/png": "[encoded data removed]"
     },
     "metadata": {},
     "output_type": "display_data"
    }
   ],
   "execution_count": 19
  },
  {
   "metadata": {
    "ExecuteTime": {
     "end_time": "2024-04-28T12:44:58.681384Z",
     "start_time": "2024-04-28T12:44:58.582625Z"
    }
   },
   "cell_type": "code",
   "source": [
    "plt.hist(graph_data['Salary/month'], bins=50, color='blue', edgecolor='black')\n",
    "plt.title('Distribution of Salaries')\n",
    "plt.xlabel('Salary per Month')\n",
    "plt.ylabel('Number of Employees')\n",
    "plt.grid(axis='y', linestyle='--', alpha=0.7)\n",
    "plt.show()"
   ],
   "outputs": [
    {
     "data": {
      "text/plain": [
       "<Figure size 640x480 with 1 Axes>"
      ],
      "image/png": "[encoded data removed]"
     },
     "metadata": {},
     "output_type": "display_data"
    }
   ],
   "execution_count": 20
  },
  {
   "metadata": {
    "ExecuteTime": {
     "end_time": "2024-04-28T12:44:58.781321Z",
     "start_time": "2024-04-28T12:44:58.682182Z"
    }
   },
   "cell_type": "code",
   "source": [
    "average_salaries_by_company_size = graph_data.groupby('Company size')['Salary/month'].mean().sort_values()\n",
    "\n",
    "plt.figure(figsize=(10, 5))\n",
    "average_salaries_by_company_size.plot(kind='line', marker='o', color='green')\n",
    "\n",
    "plt.title('Average Salary by Company Size')\n",
    "plt.xlabel('Company Size')\n",
    "plt.ylabel('Average Salary per Month')\n",
    "plt.grid(True)\n",
    "plt.xticks(rotation=45)\n",
    "plt.tight_layout()\n",
    "plt.show()"
   ],
   "outputs": [
    {
     "data": {
      "text/plain": [
       "<Figure size 1000x500 with 1 Axes>"
      ],
      "image/png": "[encoded data removed]"
     },
     "metadata": {},
     "output_type": "display_data"
    }
   ],
   "execution_count": 21
  }
 ]
}
