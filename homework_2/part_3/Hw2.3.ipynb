{
 "metadata": {
  "kernelspec": {
   "language": "python",
   "display_name": "Python 3",
   "name": "python3"
  },
  "language_info": {
   "name": "python",
   "version": "3.10.13",
   "mimetype": "text/x-python",
   "codemirror_mode": {
    "name": "ipython",
    "version": 3
   },
   "pygments_lexer": "ipython3",
   "nbconvert_exporter": "python",
   "file_extension": ".py"
  },
  "kaggle": {
   "accelerator": "none",
   "dataSources": [
    {
     "sourceId": 1556647,
     "sourceType": "datasetVersion",
     "datasetId": 918976
    }
   ],
   "dockerImageVersionId": 30684,
   "isInternetEnabled": false,
   "language": "python",
   "sourceType": "notebook",
   "isGpuEnabled": false
  }
 },
 "nbformat_minor": 4,
 "nbformat": 4,
 "cells": [
  {
   "cell_type": "code",
   "source": "# This Python 3 environment comes with many helpful analytics libraries installed\n# It is defined by the kaggle/python Docker image: https://github.com/kaggle/docker-python\n# For example, here's several helpful packages to load\n\nimport numpy as np # linear algebra\nimport pandas as pd # data processing, CSV file I/O (e.g. pd.read_csv)\n\n# Input data files are available in the read-only \"../input/\" directory\n# For example, running this (by clicking run or pressing Shift+Enter) will list all files under the input directory\n\nimport os\nfor dirname, _, filenames in os.walk('/kaggle/input'):\n    for filename in filenames:\n        print(os.path.join(dirname, filename))\n\n# You can write up to 20GB to the current directory (/kaggle/working/) that gets preserved as output when you create a version using \"Save & Run All\" \n# You can also write temporary files to /kaggle/temp/, but they won't be saved outside of the current session",
   "metadata": {
    "_uuid": "8f2839f25d086af736a60e9eeb907d3b93b6e0e5",
    "_cell_guid": "b1076dfc-b9ad-4769-8c92-a6c4dae69d19",
    "execution": {
     "iopub.status.busy": "2024-04-19T13:17:43.314805Z",
     "iopub.execute_input": "2024-04-19T13:17:43.315286Z",
     "iopub.status.idle": "2024-04-19T13:17:44.608322Z",
     "shell.execute_reply.started": "2024-04-19T13:17:43.315251Z",
     "shell.execute_reply": "2024-04-19T13:17:44.607063Z"
    },
    "trusted": true,
    "ExecuteTime": {
     "end_time": "2024-04-20T11:44:02.695947Z",
     "start_time": "2024-04-20T11:44:02.690785Z"
    }
   },
   "outputs": [],
   "execution_count": 19
  },
  {
   "cell_type": "code",
   "source": "df = pd.read_csv('bestsellers with categories.csv')",
   "metadata": {
    "execution": {
     "iopub.status.busy": "2024-04-19T13:17:44.610346Z",
     "iopub.execute_input": "2024-04-19T13:17:44.610890Z",
     "iopub.status.idle": "2024-04-19T13:17:44.634339Z",
     "shell.execute_reply.started": "2024-04-19T13:17:44.610858Z",
     "shell.execute_reply": "2024-04-19T13:17:44.633387Z"
    },
    "trusted": true,
    "ExecuteTime": {
     "end_time": "2024-04-20T11:44:02.805914Z",
     "start_time": "2024-04-20T11:44:02.792635Z"
    }
   },
   "outputs": [],
   "execution_count": 20
  },
  {
   "cell_type": "code",
   "source": "df.head()",
   "metadata": {
    "execution": {
     "iopub.status.busy": "2024-04-19T13:17:44.635524Z",
     "iopub.execute_input": "2024-04-19T13:17:44.636638Z",
     "iopub.status.idle": "2024-04-19T13:17:44.663513Z",
     "shell.execute_reply.started": "2024-04-19T13:17:44.636603Z",
     "shell.execute_reply": "2024-04-19T13:17:44.662300Z"
    },
    "trusted": true,
    "ExecuteTime": {
     "end_time": "2024-04-20T11:44:02.871918Z",
     "start_time": "2024-04-20T11:44:02.850473Z"
    }
   },
   "outputs": [
    {
     "data": {
      "text/plain": [
       "                                                Name  \\\n",
       "0                      10-Day Green Smoothie Cleanse   \n",
       "1                                  11/22/63: A Novel   \n",
       "2            12 Rules for Life: An Antidote to Chaos   \n",
       "3                             1984 (Signet Classics)   \n",
       "4  5,000 Awesome Facts (About Everything!) (Natio...   \n",
       "\n",
       "                     Author  User Rating  Reviews  Price  Year        Genre  \n",
       "0                  JJ Smith          4.7    17350      8  2016  Non Fiction  \n",
       "1              Stephen King          4.6     2052     22  2011      Fiction  \n",
       "2        Jordan B. Peterson          4.7    18979     15  2018  Non Fiction  \n",
       "3             George Orwell          4.7    21424      6  2017      Fiction  \n",
       "4  National Geographic Kids          4.8     7665     12  2019  Non Fiction  "
      ],
      "text/html": [
       "<div>\n",
       "<style scoped>\n",
       "    .dataframe tbody tr th:only-of-type {\n",
       "        vertical-align: middle;\n",
       "    }\n",
       "\n",
       "    .dataframe tbody tr th {\n",
       "        vertical-align: top;\n",
       "    }\n",
       "\n",
       "    .dataframe thead th {\n",
       "        text-align: right;\n",
       "    }\n",
       "</style>\n",
       "<table border=\"1\" class=\"dataframe\">\n",
       "  <thead>\n",
       "    <tr style=\"text-align: right;\">\n",
       "      <th></th>\n",
       "      <th>Name</th>\n",
       "      <th>Author</th>\n",
       "      <th>User Rating</th>\n",
       "      <th>Reviews</th>\n",
       "      <th>Price</th>\n",
       "      <th>Year</th>\n",
       "      <th>Genre</th>\n",
       "    </tr>\n",
       "  </thead>\n",
       "  <tbody>\n",
       "    <tr>\n",
       "      <th>0</th>\n",
       "      <td>10-Day Green Smoothie Cleanse</td>\n",
       "      <td>JJ Smith</td>\n",
       "      <td>4.7</td>\n",
       "      <td>17350</td>\n",
       "      <td>8</td>\n",
       "      <td>2016</td>\n",
       "      <td>Non Fiction</td>\n",
       "    </tr>\n",
       "    <tr>\n",
       "      <th>1</th>\n",
       "      <td>11/22/63: A Novel</td>\n",
       "      <td>Stephen King</td>\n",
       "      <td>4.6</td>\n",
       "      <td>2052</td>\n",
       "      <td>22</td>\n",
       "      <td>2011</td>\n",
       "      <td>Fiction</td>\n",
       "    </tr>\n",
       "    <tr>\n",
       "      <th>2</th>\n",
       "      <td>12 Rules for Life: An Antidote to Chaos</td>\n",
       "      <td>Jordan B. Peterson</td>\n",
       "      <td>4.7</td>\n",
       "      <td>18979</td>\n",
       "      <td>15</td>\n",
       "      <td>2018</td>\n",
       "      <td>Non Fiction</td>\n",
       "    </tr>\n",
       "    <tr>\n",
       "      <th>3</th>\n",
       "      <td>1984 (Signet Classics)</td>\n",
       "      <td>George Orwell</td>\n",
       "      <td>4.7</td>\n",
       "      <td>21424</td>\n",
       "      <td>6</td>\n",
       "      <td>2017</td>\n",
       "      <td>Fiction</td>\n",
       "    </tr>\n",
       "    <tr>\n",
       "      <th>4</th>\n",
       "      <td>5,000 Awesome Facts (About Everything!) (Natio...</td>\n",
       "      <td>National Geographic Kids</td>\n",
       "      <td>4.8</td>\n",
       "      <td>7665</td>\n",
       "      <td>12</td>\n",
       "      <td>2019</td>\n",
       "      <td>Non Fiction</td>\n",
       "    </tr>\n",
       "  </tbody>\n",
       "</table>\n",
       "</div>"
      ]
     },
     "execution_count": 21,
     "metadata": {},
     "output_type": "execute_result"
    }
   ],
   "execution_count": 21
  },
  {
   "cell_type": "code",
   "source": "df.shape",
   "metadata": {
    "execution": {
     "iopub.status.busy": "2024-04-19T13:17:44.666333Z",
     "iopub.execute_input": "2024-04-19T13:17:44.666851Z",
     "iopub.status.idle": "2024-04-19T13:17:44.675004Z",
     "shell.execute_reply.started": "2024-04-19T13:17:44.666809Z",
     "shell.execute_reply": "2024-04-19T13:17:44.673602Z"
    },
    "trusted": true,
    "ExecuteTime": {
     "end_time": "2024-04-20T11:44:02.976825Z",
     "start_time": "2024-04-20T11:44:02.970345Z"
    }
   },
   "outputs": [
    {
     "data": {
      "text/plain": [
       "(550, 7)"
      ]
     },
     "execution_count": 22,
     "metadata": {},
     "output_type": "execute_result"
    }
   ],
   "execution_count": 22
  },
  {
   "cell_type": "code",
   "source": "df.columns = ['name', 'author', 'user_rating', 'reviews', 'price', 'year', 'genre']",
   "metadata": {
    "execution": {
     "iopub.status.busy": "2024-04-19T13:17:44.676825Z",
     "iopub.execute_input": "2024-04-19T13:17:44.677279Z",
     "iopub.status.idle": "2024-04-19T13:17:44.686853Z",
     "shell.execute_reply.started": "2024-04-19T13:17:44.677238Z",
     "shell.execute_reply": "2024-04-19T13:17:44.685564Z"
    },
    "trusted": true,
    "ExecuteTime": {
     "end_time": "2024-04-20T11:44:03.027948Z",
     "start_time": "2024-04-20T11:44:03.022385Z"
    }
   },
   "outputs": [],
   "execution_count": 23
  },
  {
   "cell_type": "markdown",
   "source": "# **Initial Data Exploration**",
   "metadata": {}
  },
  {
   "metadata": {},
   "cell_type": "markdown",
   "source": "## Are there any variables with missing values? (Yes / No)"
  },
  {
   "cell_type": "code",
   "source": "df.isna().sum()",
   "metadata": {
    "execution": {
     "iopub.status.busy": "2024-04-19T13:19:27.132552Z",
     "iopub.execute_input": "2024-04-19T13:19:27.133033Z",
     "iopub.status.idle": "2024-04-19T13:19:27.143905Z",
     "shell.execute_reply.started": "2024-04-19T13:19:27.133001Z",
     "shell.execute_reply": "2024-04-19T13:19:27.142528Z"
    },
    "trusted": true,
    "ExecuteTime": {
     "end_time": "2024-04-20T11:44:03.162347Z",
     "start_time": "2024-04-20T11:44:03.152141Z"
    }
   },
   "outputs": [
    {
     "data": {
      "text/plain": [
       "name           0\n",
       "author         0\n",
       "user_rating    0\n",
       "reviews        0\n",
       "price          0\n",
       "year           0\n",
       "genre          0\n",
       "dtype: int64"
      ]
     },
     "execution_count": 24,
     "metadata": {},
     "output_type": "execute_result"
    }
   ],
   "execution_count": 24
  },
  {
   "cell_type": "markdown",
   "source": "**Answer: No**",
   "metadata": {}
  },
  {
   "cell_type": "markdown",
   "source": "## What are the unique genres?",
   "metadata": {}
  },
  {
   "cell_type": "code",
   "source": "df['genre'].unique()",
   "metadata": {
    "execution": {
     "iopub.status.busy": "2024-04-19T13:21:40.583030Z",
     "iopub.execute_input": "2024-04-19T13:21:40.583544Z",
     "iopub.status.idle": "2024-04-19T13:21:40.598249Z",
     "shell.execute_reply.started": "2024-04-19T13:21:40.583508Z",
     "shell.execute_reply": "2024-04-19T13:21:40.597006Z"
    },
    "trusted": true,
    "ExecuteTime": {
     "end_time": "2024-04-20T11:44:03.294427Z",
     "start_time": "2024-04-20T11:44:03.288139Z"
    }
   },
   "outputs": [
    {
     "data": {
      "text/plain": [
       "array(['Non Fiction', 'Fiction'], dtype=object)"
      ]
     },
     "execution_count": 25,
     "metadata": {},
     "output_type": "execute_result"
    }
   ],
   "execution_count": 25
  },
  {
   "cell_type": "markdown",
   "source": "**Answer: Non Fiction, Fiction**",
   "metadata": {}
  },
  {
   "metadata": {},
   "cell_type": "markdown",
   "source": "## Price distribution"
  },
  {
   "metadata": {
    "ExecuteTime": {
     "end_time": "2024-04-20T11:44:07.079805Z",
     "start_time": "2024-04-20T11:44:03.455605Z"
    }
   },
   "cell_type": "code",
   "source": "df['price'].hist()",
   "outputs": [
    {
     "data": {
      "text/plain": [
       "<Axes: >"
      ]
     },
     "execution_count": 26,
     "metadata": {},
     "output_type": "execute_result"
    },
    {
     "data": {
      "text/plain": [
       "<Figure size 640x480 with 1 Axes>"
      ],
      "image/png": "[encoded data removed]"
     },
     "metadata": {},
     "output_type": "display_data"
    }
   ],
   "execution_count": 26
  },
  {
   "cell_type": "markdown",
   "source": "## Maximum price?",
   "metadata": {}
  },
  {
   "cell_type": "code",
   "source": "df['price'].max()",
   "metadata": {
    "ExecuteTime": {
     "end_time": "2024-04-20T11:44:07.089408Z",
     "start_time": "2024-04-20T11:44:07.084214Z"
    }
   },
   "outputs": [],
   "execution_count": 26
  },
  {
   "metadata": {},
   "cell_type": "markdown",
   "source": "**Answer:**"
  },
  {
   "cell_type": "markdown",
   "source": "## Minimum price?",
   "metadata": {}
  },
  {
   "metadata": {},
   "cell_type": "code",
   "outputs": [],
   "execution_count": null,
   "source": "df['price'].min()"
  },
  {
   "cell_type": "markdown",
   "source": "## Average price?",
   "metadata": {}
  },
  {
   "metadata": {},
   "cell_type": "code",
   "outputs": [],
   "execution_count": null,
   "source": "df['price'].mean()"
  },
  {
   "metadata": {},
   "cell_type": "markdown",
   "source": ""
  }
 ]
}
