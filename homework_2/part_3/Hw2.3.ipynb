{
 "metadata": {
  "kernelspec": {
   "language": "python",
   "display_name": "Python 3",
   "name": "python3"
  },
  "language_info": {
   "name": "python",
   "version": "3.10.13",
   "mimetype": "text/x-python",
   "codemirror_mode": {
    "name": "ipython",
    "version": 3
   },
   "pygments_lexer": "ipython3",
   "nbconvert_exporter": "python",
   "file_extension": ".py"
  },
  "kaggle": {
   "accelerator": "none",
   "dataSources": [
    {
     "sourceId": 1556647,
     "sourceType": "datasetVersion",
     "datasetId": 918976
    }
   ],
   "dockerImageVersionId": 30684,
   "isInternetEnabled": false,
   "language": "python",
   "sourceType": "notebook",
   "isGpuEnabled": false
  }
 },
 "nbformat_minor": 4,
 "nbformat": 4,
 "cells": [
  {
   "cell_type": "code",
   "source": "# This Python 3 environment comes with many helpful analytics libraries installed\n# It is defined by the kaggle/python Docker image: https://github.com/kaggle/docker-python\n# For example, here's several helpful packages to load\n\nimport numpy as np # linear algebra\nimport pandas as pd # data processing, CSV file I/O (e.g. pd.read_csv)\n\n# Input data files are available in the read-only \"../input/\" directory\n# For example, running this (by clicking run or pressing Shift+Enter) will list all files under the input directory\n\nimport os\nfor dirname, _, filenames in os.walk('/kaggle/input'):\n    for filename in filenames:\n        print(os.path.join(dirname, filename))\n\n# You can write up to 20GB to the current directory (/kaggle/working/) that gets preserved as output when you create a version using \"Save & Run All\" \n# You can also write temporary files to /kaggle/temp/, but they won't be saved outside of the current session",
   "metadata": {
    "_uuid": "8f2839f25d086af736a60e9eeb907d3b93b6e0e5",
    "_cell_guid": "b1076dfc-b9ad-4769-8c92-a6c4dae69d19",
    "execution": {
     "iopub.status.busy": "2024-04-19T13:17:43.314805Z",
     "iopub.execute_input": "2024-04-19T13:17:43.315286Z",
     "iopub.status.idle": "2024-04-19T13:17:44.608322Z",
     "shell.execute_reply.started": "2024-04-19T13:17:43.315251Z",
     "shell.execute_reply": "2024-04-19T13:17:44.607063Z"
    },
    "trusted": true,
    "ExecuteTime": {
     "end_time": "2024-04-24T19:08:33.893656Z",
     "start_time": "2024-04-24T19:08:33.692496Z"
    }
   },
   "outputs": [],
   "execution_count": 1
  },
  {
   "metadata": {},
   "cell_type": "markdown",
   "source": "## 1. Read the csv file (use the `read_csv` function)."
  },
  {
   "cell_type": "code",
   "source": "df = pd.read_csv(\"bestsellers with categories.csv\")",
   "metadata": {
    "execution": {
     "iopub.status.busy": "2024-04-19T13:17:44.610346Z",
     "iopub.execute_input": "2024-04-19T13:17:44.610890Z",
     "iopub.status.idle": "2024-04-19T13:17:44.634339Z",
     "shell.execute_reply.started": "2024-04-19T13:17:44.610858Z",
     "shell.execute_reply": "2024-04-19T13:17:44.633387Z"
    },
    "trusted": true,
    "ExecuteTime": {
     "end_time": "2024-04-24T19:08:33.910192Z",
     "start_time": "2024-04-24T19:08:33.906363Z"
    }
   },
   "outputs": [],
   "execution_count": 2
  },
  {
   "metadata": {},
   "cell_type": "markdown",
   "source": "## 2. Display the first five rows (use the `head` function)."
  },
  {
   "cell_type": "code",
   "source": "df.head()",
   "metadata": {
    "execution": {
     "iopub.status.busy": "2024-04-19T13:17:44.635524Z",
     "iopub.execute_input": "2024-04-19T13:17:44.636638Z",
     "iopub.status.idle": "2024-04-19T13:17:44.663513Z",
     "shell.execute_reply.started": "2024-04-19T13:17:44.636603Z",
     "shell.execute_reply": "2024-04-19T13:17:44.662300Z"
    },
    "trusted": true,
    "ExecuteTime": {
     "end_time": "2024-04-24T19:08:33.922643Z",
     "start_time": "2024-04-24T19:08:33.915805Z"
    }
   },
   "outputs": [
    {
     "data": {
      "text/plain": [
       "                                                Name  \\\n",
       "0                      10-Day Green Smoothie Cleanse   \n",
       "1                                  11/22/63: A Novel   \n",
       "2            12 Rules for Life: An Antidote to Chaos   \n",
       "3                             1984 (Signet Classics)   \n",
       "4  5,000 Awesome Facts (About Everything!) (Natio...   \n",
       "\n",
       "                     Author  User Rating  Reviews  Price  Year        Genre  \n",
       "0                  JJ Smith          4.7    17350      8  2016  Non Fiction  \n",
       "1              Stephen King          4.6     2052     22  2011      Fiction  \n",
       "2        Jordan B. Peterson          4.7    18979     15  2018  Non Fiction  \n",
       "3             George Orwell          4.7    21424      6  2017      Fiction  \n",
       "4  National Geographic Kids          4.8     7665     12  2019  Non Fiction  "
      ],
      "text/html": [
       "<div>\n",
       "<style scoped>\n",
       "    .dataframe tbody tr th:only-of-type {\n",
       "        vertical-align: middle;\n",
       "    }\n",
       "\n",
       "    .dataframe tbody tr th {\n",
       "        vertical-align: top;\n",
       "    }\n",
       "\n",
       "    .dataframe thead th {\n",
       "        text-align: right;\n",
       "    }\n",
       "</style>\n",
       "<table border=\"1\" class=\"dataframe\">\n",
       "  <thead>\n",
       "    <tr style=\"text-align: right;\">\n",
       "      <th></th>\n",
       "      <th>Name</th>\n",
       "      <th>Author</th>\n",
       "      <th>User Rating</th>\n",
       "      <th>Reviews</th>\n",
       "      <th>Price</th>\n",
       "      <th>Year</th>\n",
       "      <th>Genre</th>\n",
       "    </tr>\n",
       "  </thead>\n",
       "  <tbody>\n",
       "    <tr>\n",
       "      <th>0</th>\n",
       "      <td>10-Day Green Smoothie Cleanse</td>\n",
       "      <td>JJ Smith</td>\n",
       "      <td>4.7</td>\n",
       "      <td>17350</td>\n",
       "      <td>8</td>\n",
       "      <td>2016</td>\n",
       "      <td>Non Fiction</td>\n",
       "    </tr>\n",
       "    <tr>\n",
       "      <th>1</th>\n",
       "      <td>11/22/63: A Novel</td>\n",
       "      <td>Stephen King</td>\n",
       "      <td>4.6</td>\n",
       "      <td>2052</td>\n",
       "      <td>22</td>\n",
       "      <td>2011</td>\n",
       "      <td>Fiction</td>\n",
       "    </tr>\n",
       "    <tr>\n",
       "      <th>2</th>\n",
       "      <td>12 Rules for Life: An Antidote to Chaos</td>\n",
       "      <td>Jordan B. Peterson</td>\n",
       "      <td>4.7</td>\n",
       "      <td>18979</td>\n",
       "      <td>15</td>\n",
       "      <td>2018</td>\n",
       "      <td>Non Fiction</td>\n",
       "    </tr>\n",
       "    <tr>\n",
       "      <th>3</th>\n",
       "      <td>1984 (Signet Classics)</td>\n",
       "      <td>George Orwell</td>\n",
       "      <td>4.7</td>\n",
       "      <td>21424</td>\n",
       "      <td>6</td>\n",
       "      <td>2017</td>\n",
       "      <td>Fiction</td>\n",
       "    </tr>\n",
       "    <tr>\n",
       "      <th>4</th>\n",
       "      <td>5,000 Awesome Facts (About Everything!) (Natio...</td>\n",
       "      <td>National Geographic Kids</td>\n",
       "      <td>4.8</td>\n",
       "      <td>7665</td>\n",
       "      <td>12</td>\n",
       "      <td>2019</td>\n",
       "      <td>Non Fiction</td>\n",
       "    </tr>\n",
       "  </tbody>\n",
       "</table>\n",
       "</div>"
      ]
     },
     "execution_count": 3,
     "metadata": {},
     "output_type": "execute_result"
    }
   ],
   "execution_count": 3
  },
  {
   "metadata": {},
   "cell_type": "markdown",
   "source": "## 3. Display the dimensions of the dataset (use the `shape` attribute)."
  },
  {
   "cell_type": "code",
   "source": "df.shape",
   "metadata": {
    "execution": {
     "iopub.status.busy": "2024-04-19T13:17:44.666333Z",
     "iopub.execute_input": "2024-04-19T13:17:44.666851Z",
     "iopub.status.idle": "2024-04-19T13:17:44.675004Z",
     "shell.execute_reply.started": "2024-04-19T13:17:44.666809Z",
     "shell.execute_reply": "2024-04-19T13:17:44.673602Z"
    },
    "trusted": true,
    "ExecuteTime": {
     "end_time": "2024-04-24T19:08:33.930051Z",
     "start_time": "2024-04-24T19:08:33.927614Z"
    }
   },
   "outputs": [
    {
     "data": {
      "text/plain": [
       "(550, 7)"
      ]
     },
     "execution_count": 4,
     "metadata": {},
     "output_type": "execute_result"
    }
   ],
   "execution_count": 4
  },
  {
   "metadata": {},
   "cell_type": "markdown",
   "source": "### **Question**: How many books are data stored for in the dataset?"
  },
  {
   "metadata": {},
   "cell_type": "markdown",
   "source": "**Answer:** 550"
  },
  {
   "metadata": {},
   "cell_type": "markdown",
   "source": "## 5. To simplify your work, change the variable names slightly."
  },
  {
   "cell_type": "code",
   "source": "df.columns = [\"name\", \"author\", \"user_rating\", \"reviews\", \"price\", \"year\", \"genre\"]",
   "metadata": {
    "execution": {
     "iopub.status.busy": "2024-04-19T13:17:44.676825Z",
     "iopub.execute_input": "2024-04-19T13:17:44.677279Z",
     "iopub.status.idle": "2024-04-19T13:17:44.686853Z",
     "shell.execute_reply.started": "2024-04-19T13:17:44.677238Z",
     "shell.execute_reply": "2024-04-19T13:17:44.685564Z"
    },
    "trusted": true,
    "ExecuteTime": {
     "end_time": "2024-04-24T19:08:33.957945Z",
     "start_time": "2024-04-24T19:08:33.955930Z"
    }
   },
   "outputs": [],
   "execution_count": 5
  },
  {
   "metadata": {},
   "cell_type": "markdown",
   "source": ""
  },
  {
   "cell_type": "markdown",
   "source": "# **Initial Data Exploration**",
   "metadata": {}
  },
  {
   "metadata": {},
   "cell_type": "markdown",
   "source": "## 1. Check if all rows contain a sufficient amount of data: print the number of empty places (`na`) in each column using the `isna` and `sum` functions."
  },
  {
   "metadata": {},
   "cell_type": "markdown",
   "source": "### **Question**: Are there any variables with missing values? (Yes / No)"
  },
  {
   "cell_type": "code",
   "source": "df.isna().sum()",
   "metadata": {
    "execution": {
     "iopub.status.busy": "2024-04-19T13:19:27.132552Z",
     "iopub.execute_input": "2024-04-19T13:19:27.133033Z",
     "iopub.status.idle": "2024-04-19T13:19:27.143905Z",
     "shell.execute_reply.started": "2024-04-19T13:19:27.133001Z",
     "shell.execute_reply": "2024-04-19T13:19:27.142528Z"
    },
    "trusted": true,
    "ExecuteTime": {
     "end_time": "2024-04-24T19:08:33.970650Z",
     "start_time": "2024-04-24T19:08:33.967183Z"
    }
   },
   "outputs": [
    {
     "data": {
      "text/plain": [
       "name           0\n",
       "author         0\n",
       "user_rating    0\n",
       "reviews        0\n",
       "price          0\n",
       "year           0\n",
       "genre          0\n",
       "dtype: int64"
      ]
     },
     "execution_count": 6,
     "metadata": {},
     "output_type": "execute_result"
    }
   ],
   "execution_count": 6
  },
  {
   "cell_type": "markdown",
   "source": "**Answer:** No",
   "metadata": {}
  },
  {
   "metadata": {},
   "cell_type": "markdown",
   "source": "## 2. Check the unique values in the 'genre' column using the `unique` function."
  },
  {
   "cell_type": "markdown",
   "source": "## **Question**: What are the unique genres?",
   "metadata": {}
  },
  {
   "cell_type": "code",
   "source": "df[\"genre\"].unique()",
   "metadata": {
    "execution": {
     "iopub.status.busy": "2024-04-19T13:21:40.583030Z",
     "iopub.execute_input": "2024-04-19T13:21:40.583544Z",
     "iopub.status.idle": "2024-04-19T13:21:40.598249Z",
     "shell.execute_reply.started": "2024-04-19T13:21:40.583508Z",
     "shell.execute_reply": "2024-04-19T13:21:40.597006Z"
    },
    "trusted": true,
    "ExecuteTime": {
     "end_time": "2024-04-24T19:08:33.979546Z",
     "start_time": "2024-04-24T19:08:33.977100Z"
    }
   },
   "execution_count": 7,
   "outputs": [
    {
     "data": {
      "text/plain": [
       "array(['Non Fiction', 'Fiction'], dtype=object)"
      ]
     },
     "execution_count": 7,
     "metadata": {},
     "output_type": "execute_result"
    }
   ]
  },
  {
   "cell_type": "markdown",
   "source": "**Answer: Non Fiction, Fiction**",
   "metadata": {}
  },
  {
   "metadata": {},
   "cell_type": "markdown",
   "source": "## 3. Examine the price distribution: build a histogram (use `kind='hist'`)."
  },
  {
   "metadata": {
    "ExecuteTime": {
     "end_time": "2024-04-24T19:08:34.310048Z",
     "start_time": "2024-04-24T19:08:34.010314Z"
    }
   },
   "cell_type": "code",
   "source": "df[\"price\"].hist()",
   "outputs": [
    {
     "data": {
      "text/plain": [
       "<Axes: >"
      ]
     },
     "execution_count": 8,
     "metadata": {},
     "output_type": "execute_result"
    },
    {
     "data": {
      "text/plain": [
       "<Figure size 640x480 with 1 Axes>"
      ],
      "image/png": "[encoded data removed]"
     },
     "metadata": {},
     "output_type": "display_data"
    }
   ],
   "execution_count": 8
  },
  {
   "metadata": {},
   "cell_type": "markdown",
   "source": ""
  },
  {
   "metadata": {},
   "cell_type": "markdown",
   "source": "## 4. Determine the maximum, minimum, average, and median prices using the `max`, `min`, `mean`, `median` functions."
  },
  {
   "cell_type": "markdown",
   "source": "### **Question:** Maximum price?",
   "metadata": {}
  },
  {
   "cell_type": "code",
   "source": "df[\"price\"].max()",
   "metadata": {
    "ExecuteTime": {
     "end_time": "2024-04-24T19:08:34.313490Z",
     "start_time": "2024-04-24T19:08:34.310969Z"
    }
   },
   "outputs": [
    {
     "data": {
      "text/plain": [
       "105"
      ]
     },
     "execution_count": 9,
     "metadata": {},
     "output_type": "execute_result"
    }
   ],
   "execution_count": 9
  },
  {
   "metadata": {},
   "cell_type": "markdown",
   "source": "**Answer:** 105"
  },
  {
   "cell_type": "markdown",
   "source": "### **Question:** Minimum price?",
   "metadata": {}
  },
  {
   "metadata": {
    "ExecuteTime": {
     "end_time": "2024-04-24T19:08:34.318582Z",
     "start_time": "2024-04-24T19:08:34.314088Z"
    }
   },
   "cell_type": "code",
   "source": "df[\"price\"].min()",
   "outputs": [
    {
     "data": {
      "text/plain": [
       "0"
      ]
     },
     "execution_count": 10,
     "metadata": {},
     "output_type": "execute_result"
    }
   ],
   "execution_count": 10
  },
  {
   "metadata": {},
   "cell_type": "markdown",
   "source": "**Answer:** 0"
  },
  {
   "cell_type": "markdown",
   "source": "### **Question:** Average price?",
   "metadata": {}
  },
  {
   "metadata": {
    "ExecuteTime": {
     "end_time": "2024-04-24T19:08:34.322981Z",
     "start_time": "2024-04-24T19:08:34.319638Z"
    }
   },
   "cell_type": "code",
   "source": "df[\"price\"].mean()",
   "outputs": [
    {
     "data": {
      "text/plain": [
       "13.1"
      ]
     },
     "execution_count": 11,
     "metadata": {},
     "output_type": "execute_result"
    }
   ],
   "execution_count": 11
  },
  {
   "metadata": {},
   "cell_type": "markdown",
   "source": "**Answer:** 13.1"
  },
  {
   "metadata": {},
   "cell_type": "markdown",
   "source": "### **Question:** Median price?"
  },
  {
   "metadata": {
    "ExecuteTime": {
     "end_time": "2024-04-24T19:08:34.326892Z",
     "start_time": "2024-04-24T19:08:34.323725Z"
    }
   },
   "cell_type": "code",
   "source": "df[\"price\"].median()",
   "outputs": [
    {
     "data": {
      "text/plain": [
       "11.0"
      ]
     },
     "execution_count": 12,
     "metadata": {},
     "output_type": "execute_result"
    }
   ],
   "execution_count": 12
  },
  {
   "metadata": {},
   "cell_type": "markdown",
   "source": "**Answer:** 11"
  },
  {
   "metadata": {},
   "cell_type": "markdown",
   "source": "# **Data Searching and Sorting**"
  },
  {
   "metadata": {},
   "cell_type": "markdown",
   "source": "## 1. Answer questions."
  },
  {
   "metadata": {},
   "cell_type": "markdown",
   "source": "### **Question:** What is the highest rating in the dataset?"
  },
  {
   "metadata": {
    "ExecuteTime": {
     "end_time": "2024-04-24T19:08:34.331517Z",
     "start_time": "2024-04-24T19:08:34.327448Z"
    }
   },
   "cell_type": "code",
   "source": [
    "max_rating = df[\"user_rating\"].max()\n",
    "max_rating"
   ],
   "outputs": [
    {
     "data": {
      "text/plain": [
       "4.9"
      ]
     },
     "execution_count": 13,
     "metadata": {},
     "output_type": "execute_result"
    }
   ],
   "execution_count": 13
  },
  {
   "metadata": {},
   "cell_type": "markdown",
   "source": "**Answer:** 4.9"
  },
  {
   "metadata": {},
   "cell_type": "markdown",
   "source": "### **Question:** How many books have such a rating?"
  },
  {
   "metadata": {
    "ExecuteTime": {
     "end_time": "2024-04-24T19:08:34.336355Z",
     "start_time": "2024-04-24T19:08:34.332082Z"
    }
   },
   "cell_type": "code",
   "source": "df[df[\"user_rating\"] == max_rating].shape[0]",
   "outputs": [
    {
     "data": {
      "text/plain": [
       "52"
      ]
     },
     "execution_count": 14,
     "metadata": {},
     "output_type": "execute_result"
    }
   ],
   "execution_count": 14
  },
  {
   "metadata": {},
   "cell_type": "markdown",
   "source": "**Answer:** 52"
  },
  {
   "metadata": {},
   "cell_type": "markdown",
   "source": "### **Question:** Which book has the most reviews?"
  },
  {
   "metadata": {
    "ExecuteTime": {
     "end_time": "2024-04-24T19:08:34.341281Z",
     "start_time": "2024-04-24T19:08:34.337117Z"
    }
   },
   "cell_type": "code",
   "source": "df[df[\"reviews\"] == df['reviews'].max()]['name'].iloc[0]",
   "outputs": [
    {
     "data": {
      "text/plain": [
       "'Where the Crawdads Sing'"
      ]
     },
     "execution_count": 15,
     "metadata": {},
     "output_type": "execute_result"
    }
   ],
   "execution_count": 15
  },
  {
   "metadata": {},
   "cell_type": "markdown",
   "source": "**Answer:** \"Where the Crawdads Sing\""
  },
  {
   "metadata": {},
   "cell_type": "markdown",
   "source": "### **Question:** Which of the books from the Top 50 in 2015 is the most expensive (use an intermediate dataframe)?"
  },
  {
   "metadata": {
    "ExecuteTime": {
     "end_time": "2024-04-24T19:08:34.348355Z",
     "start_time": "2024-04-24T19:08:34.341822Z"
    }
   },
   "cell_type": "code",
   "source": [
    "books_2015 = df[df[\"year\"] == 2015]\n",
    "sorted_books_2015 = books_2015.sort_values(by=\"user_rating\", ascending=False)\n",
    "top_50_books_2015 = sorted_books_2015[:50]\n",
    "most_expensive_book_2015 = top_50_books_2015[top_50_books_2015[\"price\"] == top_50_books_2015[\"price\"].max()]\n",
    "most_expensive_book_2015[[\"name\", \"user_rating\" ,\"price\"]]"
   ],
   "outputs": [
    {
     "data": {
      "text/plain": [
       "                                                  name  user_rating  price\n",
       "277  Publication Manual of the American Psychologic...          4.5     46"
      ],
      "text/html": [
       "<div>\n",
       "<style scoped>\n",
       "    .dataframe tbody tr th:only-of-type {\n",
       "        vertical-align: middle;\n",
       "    }\n",
       "\n",
       "    .dataframe tbody tr th {\n",
       "        vertical-align: top;\n",
       "    }\n",
       "\n",
       "    .dataframe thead th {\n",
       "        text-align: right;\n",
       "    }\n",
       "</style>\n",
       "<table border=\"1\" class=\"dataframe\">\n",
       "  <thead>\n",
       "    <tr style=\"text-align: right;\">\n",
       "      <th></th>\n",
       "      <th>name</th>\n",
       "      <th>user_rating</th>\n",
       "      <th>price</th>\n",
       "    </tr>\n",
       "  </thead>\n",
       "  <tbody>\n",
       "    <tr>\n",
       "      <th>277</th>\n",
       "      <td>Publication Manual of the American Psychologic...</td>\n",
       "      <td>4.5</td>\n",
       "      <td>46</td>\n",
       "    </tr>\n",
       "  </tbody>\n",
       "</table>\n",
       "</div>"
      ]
     },
     "execution_count": 16,
     "metadata": {},
     "output_type": "execute_result"
    }
   ],
   "execution_count": 16
  },
  {
   "metadata": {},
   "cell_type": "markdown",
   "source": "**Answer:** Publication Manual of the American Psychological Association, 6th Edition"
  },
  {
   "metadata": {},
   "cell_type": "markdown",
   "source": "### **Question:** How many books of the Fiction genre were in the Top 50 in 2010 (use `&`)? "
  },
  {
   "metadata": {
    "ExecuteTime": {
     "end_time": "2024-04-24T19:08:34.353130Z",
     "start_time": "2024-04-24T19:08:34.349832Z"
    }
   },
   "cell_type": "code",
   "source": [
    "books_2010 = df[df[\"year\"] == 2010]\n",
    "sorted_books_2010 = books_2010.sort_values(by=\"user_rating\", ascending=False)\n",
    "top_50_books_2010 = sorted_books_2010[:50]\n",
    "fiction_books_2010 = top_50_books_2010[top_50_books_2010['genre'] == 'Fiction']\n",
    "# fiction_books_2010 = df[(df['year'] == 2010) & (df['genre'] == 'Fiction')]\n",
    "fiction_books_2010.shape[0]"
   ],
   "outputs": [
    {
     "data": {
      "text/plain": [
       "20"
      ]
     },
     "execution_count": 17,
     "metadata": {},
     "output_type": "execute_result"
    }
   ],
   "execution_count": 17
  },
  {
   "metadata": {},
   "cell_type": "markdown",
   "source": "**Answer:** 20"
  },
  {
   "metadata": {},
   "cell_type": "markdown",
   "source": "### **Question:** How many books with a rating of 4.9 were in the rankings in 2010 and 2011 (use `|` or the `isin` function)?"
  },
  {
   "metadata": {
    "ExecuteTime": {
     "end_time": "2024-04-24T19:08:34.359465Z",
     "start_time": "2024-04-24T19:08:34.353713Z"
    }
   },
   "cell_type": "code",
   "source": [
    "years_filter = df['year'].isin([2010, 2011])\n",
    "# years_filter = df[df['year'] == 2010 | df['year'] == 2011]\n",
    "rating_filter = df['user_rating'] == 4.9\n",
    "books_with_4_9_rating = df[years_filter & rating_filter] # Combine filters\n",
    "books_with_4_9_rating.shape[0] # Count the number of such books"
   ],
   "outputs": [
    {
     "data": {
      "text/plain": [
       "1"
      ]
     },
     "execution_count": 18,
     "metadata": {},
     "output_type": "execute_result"
    }
   ],
   "execution_count": 18
  },
  {
   "metadata": {},
   "cell_type": "markdown",
   "source": "**Answer:** 1"
  },
  {
   "metadata": {},
   "cell_type": "markdown",
   "source": "## 2. Finally, sort ascending by price all books that were in the ranking in 2015 and cost less than 8 dollars (use the `sort_values` function)."
  },
  {
   "metadata": {
    "ExecuteTime": {
     "end_time": "2024-04-24T19:08:34.363317Z",
     "start_time": "2024-04-24T19:08:34.360039Z"
    }
   },
   "cell_type": "code",
   "source": [
    "filtered_books_2015_less_than_8 = df[(df['year'] == 2015) & (df['price'] < 8)]\n",
    "sorted_books_2015_less_than_8 = filtered_books_2015_less_than_8.sort_values(by='price', ascending=True)"
   ],
   "outputs": [],
   "execution_count": 19
  },
  {
   "metadata": {},
   "cell_type": "markdown",
   "source": "### **Question:** Which book is last on the sorted list?"
  },
  {
   "metadata": {
    "ExecuteTime": {
     "end_time": "2024-04-24T19:08:34.370072Z",
     "start_time": "2024-04-24T19:08:34.363886Z"
    }
   },
   "cell_type": "code",
   "source": "sorted_books_2015_less_than_8.iloc[-1]",
   "outputs": [
    {
     "data": {
      "text/plain": [
       "name           Old School (Diary of a Wimpy Kid #10)\n",
       "author                                   Jeff Kinney\n",
       "user_rating                                      4.8\n",
       "reviews                                         6169\n",
       "price                                              7\n",
       "year                                            2015\n",
       "genre                                        Fiction\n",
       "Name: 253, dtype: object"
      ]
     },
     "execution_count": 20,
     "metadata": {},
     "output_type": "execute_result"
    }
   ],
   "execution_count": 20
  },
  {
   "metadata": {},
   "cell_type": "markdown",
   "source": "**Answer:** Old School (Diary of a Wimpy Kid #10)"
  },
  {
   "metadata": {},
   "cell_type": "markdown",
   "source": "# **Data Aggregation and Table Joining**"
  },
  {
   "metadata": {},
   "cell_type": "markdown",
   "source": "## 1. First, let's look at the maximum and minimum prices for each genre (use the `groupby` and `agg` functions along with `max` and `min` to calculate the minimum and maximum values). Do not select all columns, only those you need."
  },
  {
   "metadata": {
    "ExecuteTime": {
     "end_time": "2024-04-24T19:08:34.377254Z",
     "start_time": "2024-04-24T19:08:34.370663Z"
    }
   },
   "cell_type": "code",
   "source": "price_stats_by_genre = df.groupby('genre')['price'].agg(['max', 'min'])",
   "outputs": [],
   "execution_count": 21
  },
  {
   "metadata": {},
   "cell_type": "markdown",
   "source": "### **Question:** Maximum price for the Fiction genre?"
  },
  {
   "metadata": {
    "ExecuteTime": {
     "end_time": "2024-04-24T19:08:34.381731Z",
     "start_time": "2024-04-24T19:08:34.377842Z"
    }
   },
   "cell_type": "code",
   "source": [
    "max_price_fiction = price_stats_by_genre.loc['Fiction', 'max']\n",
    "max_price_fiction"
   ],
   "outputs": [
    {
     "data": {
      "text/plain": [
       "82"
      ]
     },
     "execution_count": 22,
     "metadata": {},
     "output_type": "execute_result"
    }
   ],
   "execution_count": 22
  },
  {
   "metadata": {},
   "cell_type": "markdown",
   "source": "**Answer:** 80"
  },
  {
   "metadata": {},
   "cell_type": "markdown",
   "source": "### **Question:** Minimum price for the Fiction genre?"
  },
  {
   "metadata": {
    "ExecuteTime": {
     "end_time": "2024-04-24T19:08:34.385764Z",
     "start_time": "2024-04-24T19:08:34.382291Z"
    }
   },
   "cell_type": "code",
   "source": [
    "min_price_fiction = price_stats_by_genre.loc['Fiction', 'min']\n",
    "min_price_fiction"
   ],
   "outputs": [
    {
     "data": {
      "text/plain": [
       "0"
      ]
     },
     "execution_count": 23,
     "metadata": {},
     "output_type": "execute_result"
    }
   ],
   "execution_count": 23
  },
  {
   "metadata": {},
   "cell_type": "markdown",
   "source": "**Answer:** 0"
  },
  {
   "metadata": {},
   "cell_type": "markdown",
   "source": "### **Question:** Maximum price for the Non-Fiction genre?"
  },
  {
   "metadata": {
    "ExecuteTime": {
     "end_time": "2024-04-24T19:08:34.390156Z",
     "start_time": "2024-04-24T19:08:34.386241Z"
    }
   },
   "cell_type": "code",
   "source": [
    "max_price_non_fiction = price_stats_by_genre.loc['Non Fiction', 'max']\n",
    "max_price_non_fiction"
   ],
   "outputs": [
    {
     "data": {
      "text/plain": [
       "105"
      ]
     },
     "execution_count": 24,
     "metadata": {},
     "output_type": "execute_result"
    }
   ],
   "execution_count": 24
  },
  {
   "metadata": {},
   "cell_type": "markdown",
   "source": "**Answer:** 105"
  },
  {
   "metadata": {},
   "cell_type": "markdown",
   "source": "### **Question:** Minimum price for the Non-Fiction genre?"
  },
  {
   "metadata": {
    "ExecuteTime": {
     "end_time": "2024-04-24T19:08:34.396421Z",
     "start_time": "2024-04-24T19:08:34.390654Z"
    }
   },
   "cell_type": "code",
   "source": [
    "min_price_non_fiction = price_stats_by_genre.loc['Non Fiction', 'min']\n",
    "min_price_non_fiction"
   ],
   "outputs": [
    {
     "data": {
      "text/plain": [
       "0"
      ]
     },
     "execution_count": 25,
     "metadata": {},
     "output_type": "execute_result"
    }
   ],
   "execution_count": 25
  },
  {
   "metadata": {},
   "cell_type": "markdown",
   "source": "**Answer:** 0"
  },
  {
   "metadata": {},
   "cell_type": "markdown",
   "source": "## 2. Now create a new dataframe that will store the number of books for each author (use the `groupby` and `agg` functions, then use `count` to count the number). Choose only the necessary columns."
  },
  {
   "metadata": {
    "ExecuteTime": {
     "end_time": "2024-04-24T19:08:34.403981Z",
     "start_time": "2024-04-24T19:08:34.397043Z"
    }
   },
   "cell_type": "code",
   "source": [
    "books_per_author = df.groupby('author')['name'].agg('count')\n",
    "books_per_author_df = books_per_author.reset_index()\n",
    "books_per_author_df.columns = ['author', 'book_count']\n",
    "books_per_author_df"
   ],
   "outputs": [
    {
     "data": {
      "text/plain": [
       "                         author  book_count\n",
       "0              Abraham Verghese           2\n",
       "1                Adam Gasiewski           1\n",
       "2                 Adam Mansbach           1\n",
       "3                     Adir Levy           1\n",
       "4    Admiral William H. McRaven           1\n",
       "..                          ...         ...\n",
       "243             Walter Isaacson           3\n",
       "244               William Davis           2\n",
       "245            William P. Young           2\n",
       "246            Wizards RPG Team           3\n",
       "247                Zhi Gang Sha           2\n",
       "\n",
       "[248 rows x 2 columns]"
      ],
      "text/html": [
       "<div>\n",
       "<style scoped>\n",
       "    .dataframe tbody tr th:only-of-type {\n",
       "        vertical-align: middle;\n",
       "    }\n",
       "\n",
       "    .dataframe tbody tr th {\n",
       "        vertical-align: top;\n",
       "    }\n",
       "\n",
       "    .dataframe thead th {\n",
       "        text-align: right;\n",
       "    }\n",
       "</style>\n",
       "<table border=\"1\" class=\"dataframe\">\n",
       "  <thead>\n",
       "    <tr style=\"text-align: right;\">\n",
       "      <th></th>\n",
       "      <th>author</th>\n",
       "      <th>book_count</th>\n",
       "    </tr>\n",
       "  </thead>\n",
       "  <tbody>\n",
       "    <tr>\n",
       "      <th>0</th>\n",
       "      <td>Abraham Verghese</td>\n",
       "      <td>2</td>\n",
       "    </tr>\n",
       "    <tr>\n",
       "      <th>1</th>\n",
       "      <td>Adam Gasiewski</td>\n",
       "      <td>1</td>\n",
       "    </tr>\n",
       "    <tr>\n",
       "      <th>2</th>\n",
       "      <td>Adam Mansbach</td>\n",
       "      <td>1</td>\n",
       "    </tr>\n",
       "    <tr>\n",
       "      <th>3</th>\n",
       "      <td>Adir Levy</td>\n",
       "      <td>1</td>\n",
       "    </tr>\n",
       "    <tr>\n",
       "      <th>4</th>\n",
       "      <td>Admiral William H. McRaven</td>\n",
       "      <td>1</td>\n",
       "    </tr>\n",
       "    <tr>\n",
       "      <th>...</th>\n",
       "      <td>...</td>\n",
       "      <td>...</td>\n",
       "    </tr>\n",
       "    <tr>\n",
       "      <th>243</th>\n",
       "      <td>Walter Isaacson</td>\n",
       "      <td>3</td>\n",
       "    </tr>\n",
       "    <tr>\n",
       "      <th>244</th>\n",
       "      <td>William Davis</td>\n",
       "      <td>2</td>\n",
       "    </tr>\n",
       "    <tr>\n",
       "      <th>245</th>\n",
       "      <td>William P. Young</td>\n",
       "      <td>2</td>\n",
       "    </tr>\n",
       "    <tr>\n",
       "      <th>246</th>\n",
       "      <td>Wizards RPG Team</td>\n",
       "      <td>3</td>\n",
       "    </tr>\n",
       "    <tr>\n",
       "      <th>247</th>\n",
       "      <td>Zhi Gang Sha</td>\n",
       "      <td>2</td>\n",
       "    </tr>\n",
       "  </tbody>\n",
       "</table>\n",
       "<p>248 rows × 2 columns</p>\n",
       "</div>"
      ]
     },
     "execution_count": 26,
     "metadata": {},
     "output_type": "execute_result"
    }
   ],
   "execution_count": 26
  },
  {
   "metadata": {},
   "cell_type": "markdown",
   "source": "### **Question:** What is the dimension of the table?"
  },
  {
   "metadata": {
    "ExecuteTime": {
     "end_time": "2024-04-24T19:08:34.406578Z",
     "start_time": "2024-04-24T19:08:34.404582Z"
    }
   },
   "cell_type": "code",
   "source": "books_per_author_df.shape",
   "outputs": [
    {
     "data": {
      "text/plain": [
       "(248, 2)"
      ]
     },
     "execution_count": 27,
     "metadata": {},
     "output_type": "execute_result"
    }
   ],
   "execution_count": 27
  },
  {
   "metadata": {},
   "cell_type": "markdown",
   "source": "**Answer:** (248, 2)"
  },
  {
   "metadata": {},
   "cell_type": "markdown",
   "source": "### **Question:** Which author has the most books?"
  },
  {
   "metadata": {
    "ExecuteTime": {
     "end_time": "2024-04-24T19:08:34.411325Z",
     "start_time": "2024-04-24T19:08:34.407138Z"
    }
   },
   "cell_type": "code",
   "source": [
    "sorted_books_per_author = books_per_author_df.sort_values('book_count', ascending=False)\n",
    "author_with_most_books = sorted_books_per_author.iloc[0]\n",
    "author_with_most_books.author"
   ],
   "outputs": [
    {
     "data": {
      "text/plain": [
       "'Jeff Kinney'"
      ]
     },
     "execution_count": 28,
     "metadata": {},
     "output_type": "execute_result"
    }
   ],
   "execution_count": 28
  },
  {
   "metadata": {},
   "cell_type": "markdown",
   "source": "**Answer:** Jeff Kinney"
  },
  {
   "metadata": {},
   "cell_type": "markdown",
   "source": "### **Question:** How many books does this author have?"
  },
  {
   "metadata": {
    "ExecuteTime": {
     "end_time": "2024-04-24T19:08:34.415216Z",
     "start_time": "2024-04-24T19:08:34.411885Z"
    }
   },
   "cell_type": "code",
   "source": "author_with_most_books.book_count",
   "outputs": [
    {
     "data": {
      "text/plain": [
       "12"
      ]
     },
     "execution_count": 29,
     "metadata": {},
     "output_type": "execute_result"
    }
   ],
   "execution_count": 29
  },
  {
   "metadata": {},
   "cell_type": "markdown",
   "source": "**Answer:** 12"
  },
  {
   "metadata": {},
   "cell_type": "markdown",
   "source": "## 3. Create a second dataframe that will contain the average rating for each author (use the `groupby` and `agg` functions, then use `mean` to calculate the average). Choose only the necessary columns."
  },
  {
   "metadata": {
    "ExecuteTime": {
     "end_time": "2024-04-24T19:08:34.421967Z",
     "start_time": "2024-04-24T19:08:34.415801Z"
    }
   },
   "cell_type": "code",
   "source": [
    "average_rating_per_author = df.groupby('author')['user_rating'].agg('mean')\n",
    "average_rating_per_author_df = average_rating_per_author.reset_index()\n",
    "average_rating_per_author_df.columns = ['author', 'average_rating']\n",
    "average_rating_per_author_df"
   ],
   "outputs": [
    {
     "data": {
      "text/plain": [
       "                         author  average_rating\n",
       "0              Abraham Verghese        4.600000\n",
       "1                Adam Gasiewski        4.400000\n",
       "2                 Adam Mansbach        4.800000\n",
       "3                     Adir Levy        4.800000\n",
       "4    Admiral William H. McRaven        4.700000\n",
       "..                          ...             ...\n",
       "243             Walter Isaacson        4.566667\n",
       "244               William Davis        4.400000\n",
       "245            William P. Young        4.600000\n",
       "246            Wizards RPG Team        4.800000\n",
       "247                Zhi Gang Sha        4.600000\n",
       "\n",
       "[248 rows x 2 columns]"
      ],
      "text/html": [
       "<div>\n",
       "<style scoped>\n",
       "    .dataframe tbody tr th:only-of-type {\n",
       "        vertical-align: middle;\n",
       "    }\n",
       "\n",
       "    .dataframe tbody tr th {\n",
       "        vertical-align: top;\n",
       "    }\n",
       "\n",
       "    .dataframe thead th {\n",
       "        text-align: right;\n",
       "    }\n",
       "</style>\n",
       "<table border=\"1\" class=\"dataframe\">\n",
       "  <thead>\n",
       "    <tr style=\"text-align: right;\">\n",
       "      <th></th>\n",
       "      <th>author</th>\n",
       "      <th>average_rating</th>\n",
       "    </tr>\n",
       "  </thead>\n",
       "  <tbody>\n",
       "    <tr>\n",
       "      <th>0</th>\n",
       "      <td>Abraham Verghese</td>\n",
       "      <td>4.600000</td>\n",
       "    </tr>\n",
       "    <tr>\n",
       "      <th>1</th>\n",
       "      <td>Adam Gasiewski</td>\n",
       "      <td>4.400000</td>\n",
       "    </tr>\n",
       "    <tr>\n",
       "      <th>2</th>\n",
       "      <td>Adam Mansbach</td>\n",
       "      <td>4.800000</td>\n",
       "    </tr>\n",
       "    <tr>\n",
       "      <th>3</th>\n",
       "      <td>Adir Levy</td>\n",
       "      <td>4.800000</td>\n",
       "    </tr>\n",
       "    <tr>\n",
       "      <th>4</th>\n",
       "      <td>Admiral William H. McRaven</td>\n",
       "      <td>4.700000</td>\n",
       "    </tr>\n",
       "    <tr>\n",
       "      <th>...</th>\n",
       "      <td>...</td>\n",
       "      <td>...</td>\n",
       "    </tr>\n",
       "    <tr>\n",
       "      <th>243</th>\n",
       "      <td>Walter Isaacson</td>\n",
       "      <td>4.566667</td>\n",
       "    </tr>\n",
       "    <tr>\n",
       "      <th>244</th>\n",
       "      <td>William Davis</td>\n",
       "      <td>4.400000</td>\n",
       "    </tr>\n",
       "    <tr>\n",
       "      <th>245</th>\n",
       "      <td>William P. Young</td>\n",
       "      <td>4.600000</td>\n",
       "    </tr>\n",
       "    <tr>\n",
       "      <th>246</th>\n",
       "      <td>Wizards RPG Team</td>\n",
       "      <td>4.800000</td>\n",
       "    </tr>\n",
       "    <tr>\n",
       "      <th>247</th>\n",
       "      <td>Zhi Gang Sha</td>\n",
       "      <td>4.600000</td>\n",
       "    </tr>\n",
       "  </tbody>\n",
       "</table>\n",
       "<p>248 rows × 2 columns</p>\n",
       "</div>"
      ]
     },
     "execution_count": 30,
     "metadata": {},
     "output_type": "execute_result"
    }
   ],
   "execution_count": 30
  },
  {
   "metadata": {},
   "cell_type": "markdown",
   "source": "### **Question:** Which author has the lowest average rating?"
  },
  {
   "metadata": {
    "ExecuteTime": {
     "end_time": "2024-04-24T19:08:34.425055Z",
     "start_time": "2024-04-24T19:08:34.422591Z"
    }
   },
   "cell_type": "code",
   "source": [
    "sorted_average_rating_per_author = average_rating_per_author_df.sort_values('average_rating', ascending=True)\n",
    "author_with_lowest_rating = sorted_average_rating_per_author.iloc[0]\n",
    "author_with_lowest_rating.author"
   ],
   "outputs": [
    {
     "data": {
      "text/plain": [
       "'Donna Tartt'"
      ]
     },
     "execution_count": 31,
     "metadata": {},
     "output_type": "execute_result"
    }
   ],
   "execution_count": 31
  },
  {
   "metadata": {},
   "cell_type": "markdown",
   "source": "**Answer:** Donna Tartt"
  },
  {
   "metadata": {},
   "cell_type": "markdown",
   "source": "### **Question:** What is the average rating of this author?"
  },
  {
   "metadata": {
    "ExecuteTime": {
     "end_time": "2024-04-24T19:08:34.430850Z",
     "start_time": "2024-04-24T19:08:34.425921Z"
    }
   },
   "cell_type": "code",
   "source": "author_with_lowest_rating.average_rating",
   "outputs": [
    {
     "data": {
      "text/plain": [
       "3.9"
      ]
     },
     "execution_count": 32,
     "metadata": {},
     "output_type": "execute_result"
    }
   ],
   "execution_count": 32
  },
  {
   "metadata": {},
   "cell_type": "markdown",
   "source": "**Answer:** 3.9"
  },
  {
   "metadata": {},
   "cell_type": "markdown",
   "source": "## 4. Combine the last two dataframes to see the number of books and average rating for each author (use the `concat` function with axis=1). Save the result to a variable."
  },
  {
   "metadata": {
    "ExecuteTime": {
     "end_time": "2024-04-24T19:08:34.437271Z",
     "start_time": "2024-04-24T19:08:34.431467Z"
    }
   },
   "cell_type": "code",
   "source": [
    "author_stats = pd.concat([books_per_author_df.set_index('author'), average_rating_per_author_df.set_index('author')], axis=1)\n",
    "author_stats"
   ],
   "outputs": [
    {
     "data": {
      "text/plain": [
       "                            book_count  average_rating\n",
       "author                                                \n",
       "Abraham Verghese                     2        4.600000\n",
       "Adam Gasiewski                       1        4.400000\n",
       "Adam Mansbach                        1        4.800000\n",
       "Adir Levy                            1        4.800000\n",
       "Admiral William H. McRaven           1        4.700000\n",
       "...                                ...             ...\n",
       "Walter Isaacson                      3        4.566667\n",
       "William Davis                        2        4.400000\n",
       "William P. Young                     2        4.600000\n",
       "Wizards RPG Team                     3        4.800000\n",
       "Zhi Gang Sha                         2        4.600000\n",
       "\n",
       "[248 rows x 2 columns]"
      ],
      "text/html": [
       "<div>\n",
       "<style scoped>\n",
       "    .dataframe tbody tr th:only-of-type {\n",
       "        vertical-align: middle;\n",
       "    }\n",
       "\n",
       "    .dataframe tbody tr th {\n",
       "        vertical-align: top;\n",
       "    }\n",
       "\n",
       "    .dataframe thead th {\n",
       "        text-align: right;\n",
       "    }\n",
       "</style>\n",
       "<table border=\"1\" class=\"dataframe\">\n",
       "  <thead>\n",
       "    <tr style=\"text-align: right;\">\n",
       "      <th></th>\n",
       "      <th>book_count</th>\n",
       "      <th>average_rating</th>\n",
       "    </tr>\n",
       "    <tr>\n",
       "      <th>author</th>\n",
       "      <th></th>\n",
       "      <th></th>\n",
       "    </tr>\n",
       "  </thead>\n",
       "  <tbody>\n",
       "    <tr>\n",
       "      <th>Abraham Verghese</th>\n",
       "      <td>2</td>\n",
       "      <td>4.600000</td>\n",
       "    </tr>\n",
       "    <tr>\n",
       "      <th>Adam Gasiewski</th>\n",
       "      <td>1</td>\n",
       "      <td>4.400000</td>\n",
       "    </tr>\n",
       "    <tr>\n",
       "      <th>Adam Mansbach</th>\n",
       "      <td>1</td>\n",
       "      <td>4.800000</td>\n",
       "    </tr>\n",
       "    <tr>\n",
       "      <th>Adir Levy</th>\n",
       "      <td>1</td>\n",
       "      <td>4.800000</td>\n",
       "    </tr>\n",
       "    <tr>\n",
       "      <th>Admiral William H. McRaven</th>\n",
       "      <td>1</td>\n",
       "      <td>4.700000</td>\n",
       "    </tr>\n",
       "    <tr>\n",
       "      <th>...</th>\n",
       "      <td>...</td>\n",
       "      <td>...</td>\n",
       "    </tr>\n",
       "    <tr>\n",
       "      <th>Walter Isaacson</th>\n",
       "      <td>3</td>\n",
       "      <td>4.566667</td>\n",
       "    </tr>\n",
       "    <tr>\n",
       "      <th>William Davis</th>\n",
       "      <td>2</td>\n",
       "      <td>4.400000</td>\n",
       "    </tr>\n",
       "    <tr>\n",
       "      <th>William P. Young</th>\n",
       "      <td>2</td>\n",
       "      <td>4.600000</td>\n",
       "    </tr>\n",
       "    <tr>\n",
       "      <th>Wizards RPG Team</th>\n",
       "      <td>3</td>\n",
       "      <td>4.800000</td>\n",
       "    </tr>\n",
       "    <tr>\n",
       "      <th>Zhi Gang Sha</th>\n",
       "      <td>2</td>\n",
       "      <td>4.600000</td>\n",
       "    </tr>\n",
       "  </tbody>\n",
       "</table>\n",
       "<p>248 rows × 2 columns</p>\n",
       "</div>"
      ]
     },
     "execution_count": 33,
     "metadata": {},
     "output_type": "execute_result"
    }
   ],
   "execution_count": 33
  },
  {
   "metadata": {},
   "cell_type": "markdown",
   "source": "## 5. Sort the dataframes by ascending number of books and increasing rating (use the `sort_values` function)."
  },
  {
   "metadata": {
    "ExecuteTime": {
     "end_time": "2024-04-24T19:08:34.443755Z",
     "start_time": "2024-04-24T19:08:34.437801Z"
    }
   },
   "cell_type": "code",
   "source": [
    "sorted_author_stats = author_stats.sort_values(by=['book_count', 'average_rating'], ascending=[True, True])\n",
    "sorted_author_stats"
   ],
   "outputs": [
    {
     "data": {
      "text/plain": [
       "                                    book_count  average_rating\n",
       "author                                                        \n",
       "Muriel Barbery                               1        4.000000\n",
       "Chris Cleave                                 1        4.100000\n",
       "Ian K. Smith M.D.                            1        4.100000\n",
       "Pierre Dukan                                 1        4.100000\n",
       "Elizabeth Strout                             1        4.200000\n",
       "...                                        ...             ...\n",
       "American Psychological Association          10        4.500000\n",
       "Suzanne Collins                             11        4.663636\n",
       "Gary Chapman                                11        4.736364\n",
       "Rick Riordan                                11        4.772727\n",
       "Jeff Kinney                                 12        4.800000\n",
       "\n",
       "[248 rows x 2 columns]"
      ],
      "text/html": [
       "<div>\n",
       "<style scoped>\n",
       "    .dataframe tbody tr th:only-of-type {\n",
       "        vertical-align: middle;\n",
       "    }\n",
       "\n",
       "    .dataframe tbody tr th {\n",
       "        vertical-align: top;\n",
       "    }\n",
       "\n",
       "    .dataframe thead th {\n",
       "        text-align: right;\n",
       "    }\n",
       "</style>\n",
       "<table border=\"1\" class=\"dataframe\">\n",
       "  <thead>\n",
       "    <tr style=\"text-align: right;\">\n",
       "      <th></th>\n",
       "      <th>book_count</th>\n",
       "      <th>average_rating</th>\n",
       "    </tr>\n",
       "    <tr>\n",
       "      <th>author</th>\n",
       "      <th></th>\n",
       "      <th></th>\n",
       "    </tr>\n",
       "  </thead>\n",
       "  <tbody>\n",
       "    <tr>\n",
       "      <th>Muriel Barbery</th>\n",
       "      <td>1</td>\n",
       "      <td>4.000000</td>\n",
       "    </tr>\n",
       "    <tr>\n",
       "      <th>Chris Cleave</th>\n",
       "      <td>1</td>\n",
       "      <td>4.100000</td>\n",
       "    </tr>\n",
       "    <tr>\n",
       "      <th>Ian K. Smith M.D.</th>\n",
       "      <td>1</td>\n",
       "      <td>4.100000</td>\n",
       "    </tr>\n",
       "    <tr>\n",
       "      <th>Pierre Dukan</th>\n",
       "      <td>1</td>\n",
       "      <td>4.100000</td>\n",
       "    </tr>\n",
       "    <tr>\n",
       "      <th>Elizabeth Strout</th>\n",
       "      <td>1</td>\n",
       "      <td>4.200000</td>\n",
       "    </tr>\n",
       "    <tr>\n",
       "      <th>...</th>\n",
       "      <td>...</td>\n",
       "      <td>...</td>\n",
       "    </tr>\n",
       "    <tr>\n",
       "      <th>American Psychological Association</th>\n",
       "      <td>10</td>\n",
       "      <td>4.500000</td>\n",
       "    </tr>\n",
       "    <tr>\n",
       "      <th>Suzanne Collins</th>\n",
       "      <td>11</td>\n",
       "      <td>4.663636</td>\n",
       "    </tr>\n",
       "    <tr>\n",
       "      <th>Gary Chapman</th>\n",
       "      <td>11</td>\n",
       "      <td>4.736364</td>\n",
       "    </tr>\n",
       "    <tr>\n",
       "      <th>Rick Riordan</th>\n",
       "      <td>11</td>\n",
       "      <td>4.772727</td>\n",
       "    </tr>\n",
       "    <tr>\n",
       "      <th>Jeff Kinney</th>\n",
       "      <td>12</td>\n",
       "      <td>4.800000</td>\n",
       "    </tr>\n",
       "  </tbody>\n",
       "</table>\n",
       "<p>248 rows × 2 columns</p>\n",
       "</div>"
      ]
     },
     "execution_count": 34,
     "metadata": {},
     "output_type": "execute_result"
    }
   ],
   "execution_count": 34
  },
  {
   "metadata": {},
   "cell_type": "markdown",
   "source": "### **Question:** Which author is first on the list?"
  },
  {
   "metadata": {
    "ExecuteTime": {
     "end_time": "2024-04-24T19:08:34.447756Z",
     "start_time": "2024-04-24T19:08:34.445324Z"
    }
   },
   "cell_type": "code",
   "source": "sorted_author_stats.iloc[0].name",
   "outputs": [
    {
     "data": {
      "text/plain": [
       "'Muriel Barbery'"
      ]
     },
     "execution_count": 35,
     "metadata": {},
     "output_type": "execute_result"
    }
   ],
   "execution_count": 35
  },
  {
   "metadata": {},
   "cell_type": "markdown",
   "source": "**Answer:** Muriel Barbery"
  }
 ]
}
