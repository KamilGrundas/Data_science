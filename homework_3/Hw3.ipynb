{
 "cells": [
  {
   "metadata": {
    "ExecuteTime": {
     "end_time": "2024-04-28T20:29:50.251729Z",
     "start_time": "2024-04-28T20:29:49.783457Z"
    }
   },
   "cell_type": "code",
   "source": [
    "import pandas as pd\n",
    "import numpy as np\n",
    "from sklearn.preprocessing import StandardScaler\n",
    "\n",
    "housing_data = pd.read_csv(\"Housing.csv\")"
   ],
   "id": "initial_id",
   "outputs": [],
   "execution_count": 1
  },
  {
   "metadata": {},
   "cell_type": "markdown",
   "source": "## 1. Write a vector form of the linear regression hypothesis function.",
   "id": "e3637524c3d565ff"
  },
  {
   "metadata": {
    "ExecuteTime": {
     "end_time": "2024-04-28T20:29:50.255090Z",
     "start_time": "2024-04-28T20:29:50.253088Z"
    }
   },
   "cell_type": "code",
   "source": [
    "def linear_regression_hypothesis(X, w):\n",
    "    return np.dot(X, w)"
   ],
   "id": "5323d0f4a7cb9aa4",
   "outputs": [],
   "execution_count": 2
  },
  {
   "metadata": {},
   "cell_type": "markdown",
   "source": "## 2. Create a function that calculates the loss function in vector form.",
   "id": "740a2bad69f9b8fd"
  },
  {
   "metadata": {
    "ExecuteTime": {
     "end_time": "2024-04-28T20:29:50.260206Z",
     "start_time": "2024-04-28T20:29:50.255802Z"
    }
   },
   "cell_type": "code",
   "source": [
    "def linear_regression_cost(X, y, w):\n",
    "    m = len(y)\n",
    "    predictions = linear_regression_hypothesis(X, w)\n",
    "    errors = predictions - y\n",
    "    return np.dot(errors.T, errors)/(2*m)"
   ],
   "id": "3e8b6138d5459f51",
   "outputs": [],
   "execution_count": 3
  },
  {
   "metadata": {},
   "cell_type": "markdown",
   "source": "## 3. Implement one step of the gradient descent.",
   "id": "ca39afeb38aec8fd"
  },
  {
   "metadata": {
    "ExecuteTime": {
     "end_time": "2024-04-28T20:29:50.264760Z",
     "start_time": "2024-04-28T20:29:50.261052Z"
    }
   },
   "cell_type": "code",
   "source": [
    "def gradient_descent_step(X, y, w, alpha):\n",
    "    m = len(y)\n",
    "    predictions = linear_regression_hypothesis(X, w)\n",
    "    errors = predictions - y\n",
    "    gradient = np.dot(X.T, errors)/m\n",
    "    return w - alpha * gradient"
   ],
   "id": "939190fe7b358072",
   "outputs": [],
   "execution_count": 4
  },
  {
   "metadata": {},
   "cell_type": "markdown",
   "source": "## 4. Find the optimal parameters w for the dataset, allowing to predict the price of a house based on the area, number of bathrooms, and number of bedrooms.",
   "id": "cef133af36aa766f"
  },
  {
   "metadata": {},
   "cell_type": "markdown",
   "source": "### Data preparation",
   "id": "195002a7057d3b8b"
  },
  {
   "metadata": {
    "ExecuteTime": {
     "end_time": "2024-04-28T20:29:50.270547Z",
     "start_time": "2024-04-28T20:29:50.265296Z"
    }
   },
   "cell_type": "code",
   "source": [
    "scaler = StandardScaler()\n",
    "\n",
    "y = housing_data[\"price\"].values\n",
    "m = len(y)\n",
    "x0 = np.ones((m,1))\n",
    "x1 = housing_data[[\"area\",\"bedrooms\",\"bathrooms\"]].values\n",
    "x1_scaled = scaler.fit_transform(x1)\n",
    "X = np.hstack((x0, x1_scaled))"
   ],
   "id": "f1799f039b09ba19",
   "outputs": [],
   "execution_count": 5
  },
  {
   "metadata": {},
   "cell_type": "markdown",
   "source": "### Gradient descent funtion",
   "id": "ea3296713937b58a"
  },
  {
   "metadata": {
    "ExecuteTime": {
     "end_time": "2024-04-28T20:29:50.274855Z",
     "start_time": "2024-04-28T20:29:50.271120Z"
    }
   },
   "cell_type": "code",
   "source": [
    "def gradient_descent(X, y, w, alpha, num_iters):\n",
    "    cost_history = []\n",
    "\n",
    "    epsilon = 1e-6\n",
    "    for i in range(num_iters):\n",
    "        w_old = w\n",
    "        w = gradient_descent_step(X, y, w, alpha)\n",
    "        cost = linear_regression_cost(X, y, w)\n",
    "        cost_history.append(cost)\n",
    "        if i > 0 and abs(cost_history[-2] - cost) < epsilon:\n",
    "            break\n",
    "\n",
    "    return w, cost_history\n"
   ],
   "id": "dfaaa8baa21401fa",
   "outputs": [],
   "execution_count": 6
  },
  {
   "metadata": {},
   "cell_type": "markdown",
   "source": "### Linear solution",
   "id": "8a00e8fadbbde484"
  },
  {
   "metadata": {
    "ExecuteTime": {
     "end_time": "2024-04-28T20:29:50.292821Z",
     "start_time": "2024-04-28T20:29:50.275371Z"
    }
   },
   "cell_type": "code",
   "source": [
    "w_init = np.zeros(X.shape[1])\n",
    "alpha = 0.1\n",
    "iterations = 10000\n",
    "\n",
    "w_linear, cost_history = gradient_descent(X, y, w_init, alpha, iterations)\n",
    "w_linear, cost_history[-1]"
   ],
   "id": "b5dbfe51f3a51a43",
   "outputs": [
    {
     "data": {
      "text/plain": [
       "(array([4766729.24763824,  821214.14857381,  299983.60680886,\n",
       "         695808.48468831]),\n",
       " 895585024988.6605)"
      ]
     },
     "execution_count": 7,
     "metadata": {},
     "output_type": "execute_result"
    }
   ],
   "execution_count": 7
  },
  {
   "metadata": {},
   "cell_type": "markdown",
   "source": "## 5. Find the same parameters using analytical solution.",
   "id": "c520ec66eb3da69f"
  },
  {
   "metadata": {},
   "cell_type": "markdown",
   "source": "### Analytical solution",
   "id": "b0b12617846e9472"
  },
  {
   "metadata": {
    "ExecuteTime": {
     "end_time": "2024-04-28T20:29:50.296706Z",
     "start_time": "2024-04-28T20:29:50.293677Z"
    }
   },
   "cell_type": "code",
   "source": [
    "def normal_equation(X, y):\n",
    "    return np.linalg.pinv(X.T @ X) @ X.T @ y\n",
    "\n",
    "w_analytical = normal_equation(X, y)\n",
    "w_analytical"
   ],
   "id": "1b5a1386a5b245f",
   "outputs": [
    {
     "data": {
      "text/plain": [
       "array([4766729.24770642,  821214.14349519,  299983.57107963,\n",
       "        695808.52272538])"
      ]
     },
     "execution_count": 8,
     "metadata": {},
     "output_type": "execute_result"
    }
   ],
   "execution_count": 8
  },
  {
   "metadata": {},
   "cell_type": "markdown",
   "source": "## 6. Compare the results",
   "id": "436dfa734b36c387"
  },
  {
   "metadata": {
    "ExecuteTime": {
     "end_time": "2024-04-28T20:29:50.302251Z",
     "start_time": "2024-04-28T20:29:50.297422Z"
    }
   },
   "cell_type": "code",
   "source": [
    "print(f\"Area:\\n  Linear:{w_linear[1]}\\n  Analytical:{w_analytical[1]}\")\n",
    "print(f\"Bedrooms:\\n  Linear:{w_linear[2]}\\n  Analytical:{w_analytical[2]}\")\n",
    "print(f\"Bathrooms:\\n  Linear:{w_linear[3]}\\n  Analytical:{w_analytical[3]}\")"
   ],
   "id": "a05560e5c62adae2",
   "outputs": [
    {
     "name": "stdout",
     "output_type": "stream",
     "text": [
      "Area:\n",
      "  Linear:821214.1485738115\n",
      "  Analytical:821214.143495186\n",
      "Bedrooms:\n",
      "  Linear:299983.6068088597\n",
      "  Analytical:299983.57107963273\n",
      "Bathrooms:\n",
      "  Linear:695808.4846883132\n",
      "  Analytical:695808.5227253769\n"
     ]
    }
   ],
   "execution_count": 9
  }
 ],
 "metadata": {
  "kernelspec": {
   "display_name": "Python 3",
   "language": "python",
   "name": "python3"
  },
  "language_info": {
   "codemirror_mode": {
    "name": "ipython",
    "version": 2
   },
   "file_extension": ".py",
   "mimetype": "text/x-python",
   "name": "python",
   "nbconvert_exporter": "python",
   "pygments_lexer": "ipython2",
   "version": "2.7.6"
  }
 },
 "nbformat": 4,
 "nbformat_minor": 5
}
