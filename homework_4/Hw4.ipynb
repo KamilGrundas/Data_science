{
 "nbformat": 4,
 "nbformat_minor": 0,
 "metadata": {
  "anaconda-cloud": {},
  "kernelspec": {
   "display_name": "Python 3 (ipykernel)",
   "language": "python",
   "name": "python3"
  },
  "language_info": {
   "codemirror_mode": {
    "name": "ipython",
    "version": 2
   },
   "file_extension": ".py",
   "mimetype": "text/x-python",
   "name": "python",
   "nbconvert_exporter": "python",
   "pygments_lexer": "ipython2",
   "version": "2.7.15"
  },
  "colab": {
   "provenance": []
  }
 },
 "cells": [
  {
   "cell_type": "markdown",
   "metadata": {
    "id": "QH4MTNLJF0cX"
   },
   "source": [
    "# Regresja liniowa: nadmierne dopasowanie i regularyzacja"
   ]
  },
  {
   "cell_type": "markdown",
   "metadata": {
    "id": "_4Ozl-xzF0cb"
   },
   "source": [
    "W tym zadaniu zobaczymy, jak modele liniowe przetrenowują się, zrozumiemy, dlaczego tak się dzieje i dowiemy się, jak diagnozować i kontrolować przetrenowanie.\n",
    "\n",
    "We wszystkich komórkach, w których znajduje się komentarz z instrukcjami, należy napisać kod wykonujący te instrukcje. Pozostałe komórki z kodem (bez komentarzy) należy po prostu wykonać. Ponadto zadanie wymaga udzielenia odpowiedzi na pytania; odpowiedzi należy wpisać po wyróżnionym słowie \"__Answer:__\"."
   ]
  },
  {
   "cell_type": "code",
   "metadata": {
    "id": "Q7qwUYsiF0cc",
    "ExecuteTime": {
     "end_time": "2024-04-29T08:04:33.840893Z",
     "start_time": "2024-04-29T08:04:33.421789Z"
    }
   },
   "source": [
    "import pandas as pd\n",
    "import numpy as np\n",
    "from matplotlib import pyplot as plt\n",
    "%matplotlib inline"
   ],
   "outputs": [],
   "execution_count": 1
  },
  {
   "cell_type": "markdown",
   "metadata": {
    "id": "lAIZa5LXF0ce"
   },
   "source": [
    "Będziemy pracować ze zbiorem danych \"bikes_rent.csv\", który zawiera informacje kalendarzowe i warunki pogodowe, które charakteryzują zautomatyzowane punkty wypożyczania rowerów, a także liczbę wypożyczeń w danym dniu. Te ostatnie będziemy przewidywać; w ten sposób rozwiążemy problem regresji."
   ]
  },
  {
   "cell_type": "markdown",
   "metadata": {
    "id": "bL3VD-Z9F0ce"
   },
   "source": [
    "## Zapoznanie się z danymi"
   ]
  },
  {
   "cell_type": "markdown",
   "metadata": {
    "id": "PlxEpVFqghIe"
   },
   "source": [
    "## Zadanie 1"
   ]
  },
  {
   "cell_type": "markdown",
   "metadata": {
    "id": "5HYQjYnVF0cf"
   },
   "source": [
    "Załaduj zestaw danych za pomocą funkcji __pandas.read_csv__ do zmiennej __df__. Wydrukuj pierwsze 5 wierszy, aby upewnić się, że dane zostały poprawnie odczytane:"
   ]
  },
  {
   "cell_type": "code",
   "metadata": {
    "id": "moafDqLOF0cf",
    "outputId": "b46e6708-e144-446d-8b36-aaa5f5685959",
    "ExecuteTime": {
     "end_time": "2024-04-29T08:05:06.321159Z",
     "start_time": "2024-04-29T08:05:06.313444Z"
    }
   },
   "source": [
    "df = pd.read_csv(\"bikes_rent.csv\")\n",
    "df.head(5)"
   ],
   "outputs": [
    {
     "data": {
      "text/plain": [
       "   season  yr  mnth  holiday  weekday  workingday  weathersit       temp  \\\n",
       "0       1   0     1        0        6           0           2  14.110847   \n",
       "1       1   0     1        0        0           0           2  14.902598   \n",
       "2       1   0     1        0        1           1           1   8.050924   \n",
       "3       1   0     1        0        2           1           1   8.200000   \n",
       "4       1   0     1        0        3           1           1   9.305237   \n",
       "\n",
       "      atemp      hum  windspeed(mph)  windspeed(ms)   cnt  \n",
       "0  18.18125  80.5833       10.749882       4.805490   985  \n",
       "1  17.68695  69.6087       16.652113       7.443949   801  \n",
       "2   9.47025  43.7273       16.636703       7.437060  1349  \n",
       "3  10.60610  59.0435       10.739832       4.800998  1562  \n",
       "4  11.46350  43.6957       12.522300       5.597810  1600  "
      ],
      "text/html": [
       "<div>\n",
       "<style scoped>\n",
       "    .dataframe tbody tr th:only-of-type {\n",
       "        vertical-align: middle;\n",
       "    }\n",
       "\n",
       "    .dataframe tbody tr th {\n",
       "        vertical-align: top;\n",
       "    }\n",
       "\n",
       "    .dataframe thead th {\n",
       "        text-align: right;\n",
       "    }\n",
       "</style>\n",
       "<table border=\"1\" class=\"dataframe\">\n",
       "  <thead>\n",
       "    <tr style=\"text-align: right;\">\n",
       "      <th></th>\n",
       "      <th>season</th>\n",
       "      <th>yr</th>\n",
       "      <th>mnth</th>\n",
       "      <th>holiday</th>\n",
       "      <th>weekday</th>\n",
       "      <th>workingday</th>\n",
       "      <th>weathersit</th>\n",
       "      <th>temp</th>\n",
       "      <th>atemp</th>\n",
       "      <th>hum</th>\n",
       "      <th>windspeed(mph)</th>\n",
       "      <th>windspeed(ms)</th>\n",
       "      <th>cnt</th>\n",
       "    </tr>\n",
       "  </thead>\n",
       "  <tbody>\n",
       "    <tr>\n",
       "      <th>0</th>\n",
       "      <td>1</td>\n",
       "      <td>0</td>\n",
       "      <td>1</td>\n",
       "      <td>0</td>\n",
       "      <td>6</td>\n",
       "      <td>0</td>\n",
       "      <td>2</td>\n",
       "      <td>14.110847</td>\n",
       "      <td>18.18125</td>\n",
       "      <td>80.5833</td>\n",
       "      <td>10.749882</td>\n",
       "      <td>4.805490</td>\n",
       "      <td>985</td>\n",
       "    </tr>\n",
       "    <tr>\n",
       "      <th>1</th>\n",
       "      <td>1</td>\n",
       "      <td>0</td>\n",
       "      <td>1</td>\n",
       "      <td>0</td>\n",
       "      <td>0</td>\n",
       "      <td>0</td>\n",
       "      <td>2</td>\n",
       "      <td>14.902598</td>\n",
       "      <td>17.68695</td>\n",
       "      <td>69.6087</td>\n",
       "      <td>16.652113</td>\n",
       "      <td>7.443949</td>\n",
       "      <td>801</td>\n",
       "    </tr>\n",
       "    <tr>\n",
       "      <th>2</th>\n",
       "      <td>1</td>\n",
       "      <td>0</td>\n",
       "      <td>1</td>\n",
       "      <td>0</td>\n",
       "      <td>1</td>\n",
       "      <td>1</td>\n",
       "      <td>1</td>\n",
       "      <td>8.050924</td>\n",
       "      <td>9.47025</td>\n",
       "      <td>43.7273</td>\n",
       "      <td>16.636703</td>\n",
       "      <td>7.437060</td>\n",
       "      <td>1349</td>\n",
       "    </tr>\n",
       "    <tr>\n",
       "      <th>3</th>\n",
       "      <td>1</td>\n",
       "      <td>0</td>\n",
       "      <td>1</td>\n",
       "      <td>0</td>\n",
       "      <td>2</td>\n",
       "      <td>1</td>\n",
       "      <td>1</td>\n",
       "      <td>8.200000</td>\n",
       "      <td>10.60610</td>\n",
       "      <td>59.0435</td>\n",
       "      <td>10.739832</td>\n",
       "      <td>4.800998</td>\n",
       "      <td>1562</td>\n",
       "    </tr>\n",
       "    <tr>\n",
       "      <th>4</th>\n",
       "      <td>1</td>\n",
       "      <td>0</td>\n",
       "      <td>1</td>\n",
       "      <td>0</td>\n",
       "      <td>3</td>\n",
       "      <td>1</td>\n",
       "      <td>1</td>\n",
       "      <td>9.305237</td>\n",
       "      <td>11.46350</td>\n",
       "      <td>43.6957</td>\n",
       "      <td>12.522300</td>\n",
       "      <td>5.597810</td>\n",
       "      <td>1600</td>\n",
       "    </tr>\n",
       "  </tbody>\n",
       "</table>\n",
       "</div>"
      ]
     },
     "execution_count": 14,
     "metadata": {},
     "output_type": "execute_result"
    }
   ],
   "execution_count": 14
  },
  {
   "cell_type": "markdown",
   "metadata": {
    "id": "arebsdFoF0ch"
   },
   "source": [
    "Dla każdego dnia roboczego znane są następujące atrybuty:\n",
    "* _season_: 1 - wiosna, 2 - lato, 3 - jesień, 4 - zima.\n",
    "* _yr_: 0 - 2011, 1 - 2012\n",
    "* _mnth_: od 1 do 12.\n",
    "* _holiday_: 0 - brak wakacji, 1 - wakacje.\n",
    "* _weekday_: 0 do 6\n",
    "* _workingday_: 0 oznacza dzień wolny od pracy, 1 oznacza dzień roboczy.\n",
    "* _weathersit_: ocena korzystnej pogody od 1 (czysty, pogodny dzień) do 4 (ulewny deszcz, mgła)\n",
    "* _temp_: temperatura w stopniach Celsjusza.\n",
    "* _atemp_: temperatura w stopniach Celsjusza.\n",
    "* _hum_: wilgotność\n",
    "* _windspeed(mph)_: prędkość wiatru w milach na godzinę.\n",
    "* _windspeed(ms)_: prędkość wiatru w metrach na sekundę.\n",
    "* _cnt_: liczba wypożyczonych rowerów (jest to atrybut docelowy, będziemy go przewidywać).\n",
    "\n",
    "Mamy więc cechy rzeczywiste, binarne i nominalne (porządkowe), a wszystkie z nich można traktować jako cechy rzeczywiste. Atrybuty nominalne mogą być również traktowane jako rzeczywiste, ponieważ mają porządek. Zobaczmy na wykresach, jak cecha docelowa zależy od innych cech"
   ]
  },
  {
   "cell_type": "markdown",
   "metadata": {
    "id": "w_bf05QXe60r"
   },
   "source": [
    "Wykres zależności atrybutów od liczby przejazdów. Innymi słowy, należy zbudować 12 wykresów. Każdy z nich powinien pokazywać zależność kolejnego atrybutu od zmiennej **cnt**."
   ]
  },
  {
   "cell_type": "code",
   "metadata": {
    "id": "N72yVVRYF0ci",
    "ExecuteTime": {
     "end_time": "2024-04-29T08:04:33.853191Z",
     "start_time": "2024-04-29T08:04:33.851671Z"
    }
   },
   "source": [
    "# Put you code here"
   ],
   "outputs": [],
   "execution_count": 3
  },
  {
   "cell_type": "markdown",
   "metadata": {
    "id": "1g8iwiimF0cj"
   },
   "source": [
    "__Pytania:__\n",
    "1. Jaka jest natura zależności liczby wypożyczeń od miesiąca?\n",
    "1. Podaj jedną lub dwie cechy, od których liczba wypożyczeń najprawdopodobniej zależy liniowo"
   ]
  },
  {
   "cell_type": "markdown",
   "metadata": {
    "id": "rB2NCSXbF0cj"
   },
   "source": [
    "## Zadanie 2\n",
    "\n",
    "Bardziej rygorystycznie oceńmy poziom zależności liniowej między cechami a zmienną docelową. Dobrą miarą zależności liniowej między dwoma wektorami jest korelacja Pearsona. Mieliśmy już z nią do czynienia wcześniej. Aby ją obliczyć w pandach, możemy skorzystać z metod dataframe: corr i corrwith."
   ]
  },
  {
   "cell_type": "markdown",
   "metadata": {
    "id": "ykR_leNKF0ck"
   },
   "source": [
    "Oblicz korelacje wszystkich cech oprócz ostatniej z ostatnią cechą za pomocą metody `corrwith`."
   ]
  },
  {
   "cell_type": "code",
   "metadata": {
    "id": "v3RlugT3F0ck",
    "ExecuteTime": {
     "end_time": "2024-04-29T08:04:33.857842Z",
     "start_time": "2024-04-29T08:04:33.854334Z"
    }
   },
   "source": [
    "# Put your code here"
   ],
   "outputs": [],
   "execution_count": 4
  },
  {
   "cell_type": "markdown",
   "metadata": {
    "id": "ovV_DO35F0cl"
   },
   "source": [
    "\n",
    "\n",
    "```\n",
    "# Wybrany format kodu\n",
    "```\n",
    "\n",
    "Istnieją cechy w próbce, które korelują z cechą docelową, co oznacza, że problem można rozwiązać za pomocą metod liniowych."
   ]
  },
  {
   "cell_type": "markdown",
   "metadata": {
    "id": "r0dre43ZF0cl"
   },
   "source": [
    "Z wykresów widzimy, że niektóre cechy są do siebie podobne. Obliczmy więc również korelacje między rzeczywistymi atrybutami."
   ]
  },
  {
   "cell_type": "markdown",
   "metadata": {
    "id": "Wga1WJDkF0cl"
   },
   "source": [
    "## Zadanie 3\n",
    "\n",
    "Oblicz korelacje parami między cechami temp, atemp, hum, windspeed(mph), windspeed(ms) i cnt\n",
    "przy użyciu metody corr:"
   ]
  },
  {
   "cell_type": "code",
   "metadata": {
    "id": "1rSOhITgF0cm",
    "ExecuteTime": {
     "end_time": "2024-04-29T08:04:33.862076Z",
     "start_time": "2024-04-29T08:04:33.858435Z"
    }
   },
   "source": [
    "# Put your code here"
   ],
   "outputs": [],
   "execution_count": 5
  },
  {
   "cell_type": "markdown",
   "metadata": {
    "id": "Ooc4syvaF0cm"
   },
   "source": [
    "Na przekątnych, tak jak powinno być, znajdują się jednostki. Jednak w macierzy znajdują się jeszcze dwie pary silnie skorelowanych kolumn: temp i atemp (skorelowane z natury) oraz dwie prędkości wiatru (ponieważ jest to tylko tłumaczenie niektórych jednostek na inne). Dalej zobaczymy, że fakt ten negatywnie wpływa na uczenie modelu liniowego."
   ]
  },
  {
   "cell_type": "markdown",
   "metadata": {
    "id": "t-w2-4DbF0cm"
   },
   "source": [
    "Na koniec przyjrzyjmy się średniej cech (metoda średniej), aby oszacować skalę cech i ułamek 1 w cechach binarnych."
   ]
  },
  {
   "cell_type": "code",
   "source": [],
   "metadata": {
    "id": "qNzhCfh4sGg_",
    "ExecuteTime": {
     "end_time": "2024-04-29T08:04:33.863886Z",
     "start_time": "2024-04-29T08:04:33.862649Z"
    }
   },
   "outputs": [],
   "execution_count": 5
  },
  {
   "cell_type": "markdown",
   "metadata": {
    "id": "Ml3jlosnF0cm"
   },
   "source": [
    "## Zadanie 4\n",
    "\n",
    "Wyznacz średnią cech"
   ]
  },
  {
   "cell_type": "code",
   "metadata": {
    "id": "zg7yBN9YF0cn",
    "ExecuteTime": {
     "end_time": "2024-04-29T08:04:33.867282Z",
     "start_time": "2024-04-29T08:04:33.864555Z"
    }
   },
   "source": [
    "# Put your code here"
   ],
   "outputs": [],
   "execution_count": 6
  },
  {
   "cell_type": "markdown",
   "metadata": {
    "id": "2i9pGW4TF0cn"
   },
   "source": [
    "Atrybuty mają różne skale, więc do dalszej pracy lepiej znormalizujemy macierz obiekt-atrybut."
   ]
  },
  {
   "cell_type": "markdown",
   "metadata": {
    "id": "-RTwV3e_F0cn"
   },
   "source": [
    "### Problem pierwszy: cechy współliniowe"
   ]
  },
  {
   "cell_type": "markdown",
   "metadata": {
    "id": "SSmpjxmrF0co"
   },
   "source": [
    "Tak więc w naszych danych jedna cecha duplikuje inną cechę i istnieją jeszcze dwie bardzo podobne cechy. Oczywiście moglibyśmy od razu usunąć duplikaty, ale zobaczmy, jak wyglądałby trening modelu, gdybyśmy nie zauważyli tego problemu.\n",
    "\n",
    "Po pierwsze, wykonajmy skalowanie lub standaryzację cech: od każdej cechy odejmiemy jej średnią i podzielimy ją przez jej odchylenie standardowe. Można to zrobić za pomocą metody skalowania.\n",
    "\n",
    "Ponadto musimy wymieszać próbkę do walidacji krzyżowej."
   ]
  },
  {
   "cell_type": "code",
   "metadata": {
    "id": "jkGjoC9QF0co",
    "ExecuteTime": {
     "end_time": "2024-04-29T08:04:34.092849Z",
     "start_time": "2024-04-29T08:04:33.867962Z"
    }
   },
   "source": [
    "from sklearn.preprocessing import scale\n",
    "from sklearn.utils import shuffle"
   ],
   "outputs": [],
   "execution_count": 7
  },
  {
   "cell_type": "code",
   "metadata": {
    "id": "9JnmTmeKF0co",
    "colab": {
     "base_uri": "https://localhost:8080/",
     "height": 198
    },
    "outputId": "ff5429b9-c017-43d6-9a24-b13b2475f75b",
    "ExecuteTime": {
     "end_time": "2024-04-29T08:04:34.097659Z",
     "start_time": "2024-04-29T08:04:34.093479Z"
    }
   },
   "source": [
    "df_shuffled = shuffle(df, random_state=42)\n",
    "X = scale(df_shuffled[df_shuffled.columns[:-1]])\n",
    "y = df_shuffled[\"cnt\"]"
   ],
   "outputs": [],
   "execution_count": 8
  },
  {
   "cell_type": "markdown",
   "metadata": {
    "id": "wEvKSbrFF0co"
   },
   "source": [
    "Przetrenujmy regresję liniową na naszych danych i przyjrzyjmy się wagom cech."
   ]
  },
  {
   "cell_type": "code",
   "metadata": {
    "id": "Q9DAkdS1F0cp",
    "ExecuteTime": {
     "end_time": "2024-04-29T08:04:34.215930Z",
     "start_time": "2024-04-29T08:04:34.098845Z"
    }
   },
   "source": [
    "from sklearn.linear_model import LinearRegression"
   ],
   "outputs": [],
   "execution_count": 9
  },
  {
   "cell_type": "markdown",
   "metadata": {
    "id": "-8Cc-xhqF0cp"
   },
   "source": [
    "## Zadanie 5\n",
    "\n",
    "Utwórz obiekt regresora liniowego, wytrenuj go na wszystkich danych i wyprowadź wagi modelu (wagi są przechowywane w zmiennej `coef_` klasy regresora). Możesz wyprowadzić pary (nazwa funkcji, waga) za pomocą funkcji `zip` wbudowanej w język Python. Nazwy cech są przechowywane w zmiennej `df.columns`.\n"
   ]
  },
  {
   "cell_type": "code",
   "metadata": {
    "id": "EYFEkeI0F0cp",
    "ExecuteTime": {
     "end_time": "2024-04-29T08:04:34.218438Z",
     "start_time": "2024-04-29T08:04:34.216725Z"
    }
   },
   "source": [
    "# Put your code here"
   ],
   "outputs": [],
   "execution_count": 10
  },
  {
   "cell_type": "markdown",
   "metadata": {
    "id": "EXHziiV-F0cp"
   },
   "source": [
    "Widzimy, że wagi dla cech zależnych liniowo są modulo znacznie większe niż dla innych cech. Aby zrozumieć, dlaczego tak się dzieje, przypomnijmy wzór analityczny używany do obliczania wag modelu liniowego w metodzie najmniejszych kwadratów:\n",
    "\n",
    "$$w = (X^TX)^{-1} X^T y$$.\n",
    "\n",
    "Jeśli $X$ ma współliniowe (liniowo zależne) kolumny, macierz $X^TX$ staje się zdegenerowana, a wzór nie jest już poprawny. Im bardziej zależne są cechy, tym mniejszy jest wyznacznik tej macierzy i tym gorsze przybliżenie $Xw \\approx y$. Sytuacja ta nazywana jest _problemem wieloliniowości_."
   ]
  },
  {
   "cell_type": "markdown",
   "metadata": {
    "id": "PIX0I5LQF0cq"
   },
   "source": [
    "Nie stało się tak w przypadku pary (temp, atemp) nieco mniej skorelowanych zmiennych, ale w praktyce zawsze warto uważnie obserwować współczynniki pod kątem podobnych znaków."
   ]
  },
  {
   "cell_type": "markdown",
   "metadata": {
    "id": "vkXwN1tKF0cq"
   },
   "source": [
    "Aby rozwiązać problem wieloliniowości, musimy użyć regularyzatora. Do optymalizowanej funkcji dodaje się $L_1$ lub $L_2$ normę wag pomnożoną przez współczynnik regularyzacji $\\alpha$. W pierwszym przypadku metoda nazywana jest Lasso, a w drugim --- Ridge"
   ]
  },
  {
   "cell_type": "markdown",
   "metadata": {
    "id": "FT2oVbm1F0cq"
   },
   "source": [
    "### Zadanie 6\n",
    "Spróbujmy wytrenować modele liniowe z regularyzacją $L_1$ i $L_2$, a następnie porównajmy ich wagi. Wytrenuj regresory Ridge i Lasso z domyślnymi parametrami i zobacz, że problem z wagami został rozwiązany."
   ]
  },
  {
   "cell_type": "markdown",
   "metadata": {
    "id": "Rw0SDNemF0cq"
   },
   "source": [
    "Wytrenować model liniowy z $L_1$-regularizacją (klasa Lasso) i wyprowadzić wagi"
   ]
  },
  {
   "cell_type": "code",
   "metadata": {
    "id": "A2U5BrZ9F0cr",
    "outputId": "1f75758c-599b-4175-9428-bd9cd7d57cf1",
    "ExecuteTime": {
     "end_time": "2024-04-29T08:04:34.222167Z",
     "start_time": "2024-04-29T08:04:34.219205Z"
    }
   },
   "source": [
    "# Put your code here"
   ],
   "outputs": [],
   "execution_count": 11
  },
  {
   "cell_type": "markdown",
   "metadata": {
    "id": "h7MpUkWyF0cr"
   },
   "source": [
    "Wytrenować model liniowy z $L_2$-regularizacją (klasa Ridge) i wyprowadzić wagi"
   ]
  },
  {
   "cell_type": "code",
   "metadata": {
    "id": "u4BnooUuF0cr",
    "outputId": "876aa324-1171-4adb-d744-18d4ac008e95",
    "ExecuteTime": {
     "end_time": "2024-04-29T08:04:34.225747Z",
     "start_time": "2024-04-29T08:04:34.222947Z"
    }
   },
   "source": [
    "# Put your code here"
   ],
   "outputs": [],
   "execution_count": 12
  },
  {
   "cell_type": "markdown",
   "metadata": {
    "id": "OmpSEJ3wF0cr"
   },
   "source": [
    "### Zadanie 7\n",
    "\n",
    "W przeciwieństwie do regularyzacji $L_2$, $L_1$ zeruje wagi dla niektórych cech. Zaobserwujmy, jak zmieniają się wagi wraz ze wzrostem współczynnika regularyzacji $\\alpha$."
   ]
  },
  {
   "cell_type": "markdown",
   "metadata": {
    "id": "Ho9_PTbHF0cs"
   },
   "source": [
    "Dla każdej wartości współczynnika z `alphas`, wytrenuj regresor `Lasso` i zapisz wagi do listy `coefs_lasso`, a następnie wytrenuj `Ridge` i zapisz wagi do listy `coefs_ridge`. Przekonwertuj wynikowe listy na `np.array`."
   ]
  },
  {
   "cell_type": "code",
   "metadata": {
    "id": "HiizakIyF0cs",
    "ExecuteTime": {
     "end_time": "2024-04-29T08:04:34.230274Z",
     "start_time": "2024-04-29T08:04:34.226476Z"
    }
   },
   "source": [
    "alphas = np.arange(1, 500, 50)\n",
    "\n",
    "coefs_lasso = # Put your code here\n",
    "coefs_ridge = # Put your code here\n",
    "\n",
    "for alpha in alphas:\n",
    "    # Put your code here\n",
    "\n",
    "# Put your code here"
   ],
   "outputs": [
    {
     "ename": "SyntaxError",
     "evalue": "invalid syntax (1138469821.py, line 3)",
     "output_type": "error",
     "traceback": [
      "\u001B[0;36m  Cell \u001B[0;32mIn[13], line 3\u001B[0;36m\u001B[0m\n\u001B[0;31m    coefs_lasso = # Put your code here\u001B[0m\n\u001B[0m                  ^\u001B[0m\n\u001B[0;31mSyntaxError\u001B[0m\u001B[0;31m:\u001B[0m invalid syntax\n"
     ]
    }
   ],
   "execution_count": 13
  },
  {
   "cell_type": "markdown",
   "metadata": {
    "id": "vR3hawHAF0cs"
   },
   "source": [
    "Przeanalizuj dynamikę wag w miarę zwiększania parametru regularyzacji:"
   ]
  },
  {
   "cell_type": "code",
   "metadata": {
    "id": "rijH4f-VF0cs",
    "outputId": "250a46ca-6722-4642-af12-31e6e4447ff6"
   },
   "source": [
    "plt.figure(figsize=(8, 5))\n",
    "\n",
    "for coef, feature in zip(coefs_lasso.T, df.columns):\n",
    "    plt.plot(alphas, coef, label=feature, color=np.random.rand(3))\n",
    "\n",
    "plt.legend(loc=\"upper right\", bbox_to_anchor=(1.4, 0.95))\n",
    "plt.xlabel(\"alpha\")\n",
    "plt.ylabel(\"feature weight\")\n",
    "plt.title(\"Lasso\")\n",
    "\n",
    "plt.figure(figsize=(8, 5))\n",
    "for coef, feature in zip(coefs_ridge.T, df.columns):\n",
    "    plt.plot(alphas, coef, label=feature, color=np.random.rand(3))\n",
    "\n",
    "plt.legend(loc=\"upper right\", bbox_to_anchor=(1.4, 0.95))\n",
    "plt.xlabel(\"alpha\")\n",
    "plt.ylabel(\"feature weight\")\n",
    "plt.title(\"Ridge\")\n",
    "\n",
    "plt.show()"
   ],
   "outputs": [],
   "execution_count": null
  },
  {
   "cell_type": "markdown",
   "metadata": {
    "id": "wDCadrLbF0cs"
   },
   "source": [
    "Przeanalizuj wykresy i odpowiedz na poniższe pytania.\n",
    "\n",
    "1. Który regularyzator (Ridge czy Lasso) bardziej agresywnie redukuje wagi dla tej samej wartości alfa?\n",
    "2. Co dzieje się z wagami Lasso, jeśli wartość alfa jest bardzo duża? Wyjaśnij, dlaczego tak się dzieje.\n",
    "3. Czy można argumentować, że `Lasso` eliminuje jedną z cech `prędkość wiatru` dla dowolnej wartości `alfa > 0`? A Ridge? Mówi się, że regularyzator wyklucza cechę, jeśli współczynnik dla niej jest mniejszy niż $10^{-3}$.\n",
    "4. Który regularyzator jest odpowiedni do wybierania nieinformatywnych cech?"
   ]
  },
  {
   "cell_type": "markdown",
   "metadata": {
    "id": "IEmB7CPtF0ct"
   },
   "source": [
    "### Zadanie 8\n",
    "\n",
    "Następnie będziemy pracować z `Lasso'.\n",
    "\n",
    "Widzimy więc, że gdy zmieniamy alfa, model inaczej dopasowuje współczynniki cech. Musimy wybrać najlepszą wartość alfa.\n",
    "\n",
    "W tym celu potrzebujemy przede wszystkim metryki jakości. Jako metryki użyjemy samej zoptymalizowanej funkcji najmniejszych kwadratów, tj. błędu średniokwadratowego.\n",
    "\n",
    "Po drugie, musimy zrozumieć, na jakich danych obliczyć tę metrykę. Nie możemy wybrać \"alfa\" na podstawie wartości MSE na próbce treningowej, ponieważ wtedy nie możemy ocenić, w jaki sposób model będzie przewidywał na nowych danych. Jeśli wybierzemy jedną próbkę podzieloną między próbkę treningową i testową (nazywa się to wstrzymaniem), dostroimy się do konkretnych \"nowych\" danych i możemy ponownie przetrenować. Dlatego wykonamy kilka podziałów próbek, wypróbujemy różne wartości alfa dla każdej z nich, a następnie uśrednimy MSE. Wygodniej jest dokonać takich podziałów za pomocą walidacji krzyżowej, tj. podzielić próbkę na części $K$ i za każdym razem wziąć jedną z nich jako testową, a z pozostałych bloków utworzyć próbkę szkoleniową."
   ]
  },
  {
   "cell_type": "markdown",
   "metadata": {
    "id": "wyOFogflF0ct"
   },
   "source": [
    "Przeprowadzenie walidacji krzyżowej dla regresji w sklearn jest dość proste: istnieje specjalny regresor do tego celu, __LassoCV__, który pobiera jako dane wejściowe listę alfa i dla każdego z nich oblicza MSE na walidacji krzyżowej. Po treningu (jeśli pozostawimy domyślny parametr cv=3), regresor będzie zawierał zmienną __mse\\_path\\___, macierz o rozmiarze len(alpha) x k, k = 3 (liczba bloków w walidacji krzyżowej), zawierającą wartości MSE na teście dla odpowiednich przebiegów. Ponadto zmienna alpha\\_ będzie przechowywać wybraną wartość parametru regularyzacji, a coef\\_ będzie tradycyjnie przechowywać wytrenowane wagi odpowiadające tej alpha_.\n",
    "\n",
    "Należy pamiętać, że regresor może zmienić kolejność, w jakiej działa na alphas; lepiej jest użyć zmiennej regresora alphas_, aby dopasować ją do macierzy MSE."
   ]
  },
  {
   "cell_type": "markdown",
   "metadata": {
    "id": "_aUw0GmkF0ct"
   },
   "source": [
    "Wytrenuj regresor `LassoCV` na wszystkich parametrach regularyzacji od alfa. Wykreśl linie _averaged_ over `MSE` jako funkcję `alpha` (w tym celu użyj funkcji `create_plot`).\n",
    "\n",
    "Wyprowadź wybraną wartość `alpha`, jak również pary cecha-współczynnik dla wytrenowanego wektora współczynników."
   ]
  },
  {
   "cell_type": "code",
   "metadata": {
    "id": "L5MVKdVPF0cu"
   },
   "source": [
    "def create_plot(data, title, xlabel, ylabel, figsize=None):\n",
    "    size = figsize or (15, 5)\n",
    "    plt.figure(figsize=size)\n",
    "\n",
    "    x = map(lambda e: e[0], data)\n",
    "    y = map(lambda e: e[1], data)\n",
    "    plt.plot(x, y)\n",
    "\n",
    "    plt.title(title)\n",
    "    plt.xlabel(xlabel)\n",
    "    plt.ylabel(ylabel)\n",
    "\n",
    "    plt.grid()\n",
    "    plt.show()"
   ],
   "outputs": [],
   "execution_count": null
  },
  {
   "cell_type": "code",
   "metadata": {
    "id": "lYIKXzG5F0cu",
    "outputId": "ca17b1f0-e361-4496-cb72-d6a7680bcdf9"
   },
   "source": [
    "from sklearn.linear_model import LassoCV\n",
    "\n",
    "alphas = np.arange(1, 100, 5)\n",
    "\n",
    "regressor = # Put your code here"
   ],
   "outputs": [],
   "execution_count": null
  },
  {
   "cell_type": "markdown",
   "metadata": {
    "id": "hRoEnDtfF0cu"
   },
   "source": [
    "Wybraliśmy więc pewien parametr regularyzacji. Zobaczmy, jaki parametr alfa wybralibyśmy, gdybyśmy podzielili próbkę tylko raz na trening i test, tj. rozważyli trajektorie MSE odpowiadające oddzielnym blokom próbki."
   ]
  },
  {
   "cell_type": "markdown",
   "metadata": {
    "id": "Jvl3XiPmF0cu"
   },
   "source": [
    "### Zadanie 9\n",
    "\n",
    "Wyprowadź wartości `alpha` odpowiadające minimom `MSE` na każdej partycji (tj. według kolumn).\n",
    "Wizualizacja kolumn `mse_path_` na trzech oddzielnych wykresach.\n"
   ]
  },
  {
   "cell_type": "code",
   "metadata": {
    "id": "cpiFOLHHF0cu",
    "outputId": "f47bd59d-2e0e-4f63-b715-7ef199d5b382"
   },
   "source": [
    "# Put your code here"
   ],
   "outputs": [],
   "execution_count": null
  },
  {
   "cell_type": "markdown",
   "metadata": {
    "id": "UEzEyHA1F0cv"
   },
   "source": [
    "W każdej partycji optymalna wartość \"alfa\" jest inna i odpowiada dużemu MSE w innych partycjach. Okazuje się, że dostosowujemy się do konkretnych próbek treningowych i kontrolnych. Kiedy wybieramy `alpha` w walidacji krzyżowej, wybieramy coś \"średniego\", co da akceptowalną wartość metryki na różnych partycjach próbki."
   ]
  },
  {
   "cell_type": "markdown",
   "metadata": {
    "id": "B6rE566oF0cv"
   },
   "source": [
    "### Zadanie 10\n",
    "\n",
    "Na koniec, jak to zwykle bywa w analizie danych, zinterpretujmy wynik. Odpowiedz na następujące pytania."
   ]
  },
  {
   "cell_type": "markdown",
   "metadata": {
    "id": "SSCcePDSF0cw"
   },
   "source": [
    "#### Pytanie 1\n",
    "\n",
    "W ostatnim wytrenowanym modelu wybierz 4 cechy o najwyższych (dodatnich) współczynnikach (i wypisz je), spójrz na wizualizacje zależności `cnt` od tych cech, które narysowaliśmy w bloku \"Poznawanie danych\". Czy na wykresach widać rosnącą liniową zależność `cnt` od tych cech? Czy logiczne jest twierdzenie (wynikające ze zdrowego rozsądku), że im większa wartość tych atrybutów, tym więcej osób będzie chciało wypożyczyć rowery?"
   ]
  },
  {
   "cell_type": "markdown",
   "metadata": {
    "id": "2ikKprKqF0c0"
   },
   "source": [
    "__Odpowiedź:__"
   ]
  },
  {
   "cell_type": "code",
   "metadata": {
    "id": "W1MTuRXuF0c0"
   },
   "source": [
    "# ???"
   ],
   "outputs": [],
   "execution_count": null
  },
  {
   "cell_type": "markdown",
   "metadata": {
    "id": "DkQTu53pF0c0"
   },
   "source": [
    "#### Pytanie 2\n",
    "\n",
    "Wybierz 3 cechy o największych współczynnikach modulo ujemnych (i wypisz je), spójrz na odpowiednie wizualizacje. Czy widoczna jest malejąca zależność liniowa? Czy logiczne jest stwierdzenie, że im większa wielkość tych cech, tym mniej osób będzie chciało wsiąść na rower?"
   ]
  },
  {
   "cell_type": "markdown",
   "metadata": {
    "id": "DUN8I7shF0c0"
   },
   "source": [
    "__Odpowiedź:__"
   ]
  },
  {
   "cell_type": "code",
   "metadata": {
    "id": "jv1CGs-8F0c1"
   },
   "source": [
    "# ???"
   ],
   "outputs": [],
   "execution_count": null
  },
  {
   "cell_type": "markdown",
   "metadata": {
    "id": "vrbD3fNSF0c1"
   },
   "source": [
    "#### Pytanie 3\n",
    "\n",
    "Wypisz znaki ze współczynnikami bliskimi zeru (< 1e-3). Jak myślisz, dlaczego model wykluczył je z modelu (spójrz ponownie na wykresy)? Czy to prawda, że nie mają one wpływu na popyt na rowery?"
   ]
  },
  {
   "cell_type": "markdown",
   "metadata": {
    "id": "tFhvV-jcF0c1"
   },
   "source": [
    "__Odpowiedź:__"
   ]
  },
  {
   "cell_type": "code",
   "metadata": {
    "id": "TwnJNeaIF0c1"
   },
   "source": [
    "# ???"
   ],
   "outputs": [],
   "execution_count": null
  },
  {
   "cell_type": "markdown",
   "metadata": {
    "id": "Wg0VQz5_F0c2"
   },
   "source": [
    "### Wnioski\n",
    "Widzieliśmy więc, jak monitorować adekwatność modelu liniowego, jak wybierać cechy i jak prawidłowo wybrać współczynnik regularyzacji, jeśli to możliwe bez dostosowywania się do określonej części danych.\n",
    "\n",
    "Warto zauważyć, że wygodnie jest wybrać tylko niewielką liczbę parametrów (1, 2, maksymalnie 3) za pomocą walidacji krzyżowej, ponieważ dla każdej dopuszczalnej kombinacji parametrów musimy trenować model kilka razy. Proces ten zajmuje dużo czasu, zwłaszcza jeśli musimy trenować na dużych ilościach danych."
   ]
  }
 ]
}
