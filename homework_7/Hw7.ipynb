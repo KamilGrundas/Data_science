{
 "cells": [
  {
   "cell_type": "code",
   "execution_count": 1,
   "metadata": {},
   "outputs": [],
   "source": [
    "import pandas as pd\n",
    "import numpy as np\n",
    "from surprise import Dataset, Reader\n",
    "from surprise.model_selection import train_test_split, cross_validate\n",
    "from surprise import SVD, SVDpp, NMF"
   ]
  },
  {
   "cell_type": "markdown",
   "metadata": {},
   "source": [
    "# Data preparation"
   ]
  },
  {
   "cell_type": "code",
   "execution_count": 2,
   "metadata": {},
   "outputs": [],
   "source": [
    "path = \"data/\"\n",
    "items = [\"links\", \"movies\", \"ratings\", \"tags\"]\n",
    "links = pd.read_csv(path + items[0] + \".csv\")\n",
    "movies = pd.read_csv(path + items[1] + \".csv\")\n",
    "ratings = pd.read_csv(path + items[2] + \".csv\")\n",
    "tags = pd.read_csv(path + items[3] + \".csv\")\n"
   ]
  },
  {
   "cell_type": "code",
   "execution_count": 3,
   "metadata": {},
   "outputs": [],
   "source": [
    "reader = Reader(rating_scale=(0.5, 5.0))\n",
    "data = Dataset.load_from_df(ratings[[\"userId\", \"movieId\", \"rating\"]], reader)\n",
    "\n",
    "trainset, testset = train_test_split(data, test_size=0.1)"
   ]
  },
  {
   "cell_type": "markdown",
   "metadata": {},
   "source": [
    "# Algoritms test"
   ]
  },
  {
   "cell_type": "code",
   "execution_count": 4,
   "metadata": {},
   "outputs": [
    {
     "name": "stdout",
     "output_type": "stream",
     "text": [
      "Evaluating RMSE of algorithm SVD on 5 split(s).\n",
      "\n",
      "                  Fold 1  Fold 2  Fold 3  Fold 4  Fold 5  Mean    Std     \n",
      "RMSE (testset)    0.8703  0.8731  0.8705  0.8717  0.8788  0.8729  0.0031  \n",
      "Fit time          0.61    0.68    0.67    0.61    0.62    0.64    0.03    \n",
      "Test time         0.10    0.10    0.11    0.05    0.10    0.09    0.02    \n",
      "Evaluating RMSE of algorithm SVDpp on 5 split(s).\n",
      "\n",
      "                  Fold 1  Fold 2  Fold 3  Fold 4  Fold 5  Mean    Std     \n",
      "RMSE (testset)    0.8595  0.8611  0.8670  0.8641  0.8610  0.8625  0.0027  \n",
      "Fit time          58.25   58.55   58.48   58.34   58.88   58.50   0.22    \n",
      "Test time         5.50    5.18    4.99    5.72    5.57    5.39    0.27    \n",
      "Evaluating RMSE of algorithm NMF on 5 split(s).\n",
      "\n",
      "                  Fold 1  Fold 2  Fold 3  Fold 4  Fold 5  Mean    Std     \n",
      "RMSE (testset)    0.9216  0.9164  0.9273  0.9202  0.9173  0.9206  0.0038  \n",
      "Fit time          1.16    1.37    1.33    1.17    1.16    1.24    0.09    \n",
      "Test time         0.05    0.05    0.11    0.05    0.05    0.06    0.03    \n"
     ]
    }
   ],
   "source": [
    "algo_svd = SVD()\n",
    "algo_svd.fit(trainset)\n",
    "results_svd = cross_validate(algo_svd, data, measures=[\"RMSE\"], cv=5, verbose=True)\n",
    "\n",
    "algo_svdpp = SVDpp()\n",
    "algo_svdpp.fit(trainset)\n",
    "results_svdpp = cross_validate(algo_svdpp, data, measures=[\"RMSE\"], cv=5, verbose=True)\n",
    "\n",
    "algo_nmf = NMF()\n",
    "algo_nmf.fit(trainset)\n",
    "results_nmf = cross_validate(algo_nmf, data, measures=[\"RMSE\"], cv=5, verbose=True)\n"
   ]
  },
  {
   "cell_type": "markdown",
   "metadata": {},
   "source": [
    "## Example of usage"
   ]
  },
  {
   "cell_type": "code",
   "execution_count": 5,
   "metadata": {},
   "outputs": [],
   "source": [
    "def recommend_movies_by_genre(algo, user_id, num_recommendations=5):\n",
    "    # Movies rated by user\n",
    "    user_ratings = ratings[ratings['userId'] == user_id]\n",
    "    user_rated_movies = user_ratings['movieId'].tolist()\n",
    "\n",
    "    # Genres rated by user\n",
    "    user_genres = movies[movies['movieId'].isin(user_rated_movies)]['genres']\n",
    "    genre_counts = user_genres.str.split('|').explode().value_counts()\n",
    "\n",
    "    # Movies not rated by user\n",
    "    unrated_movies = movies[~movies['movieId'].isin(user_rated_movies)].copy()\n",
    "\n",
    "    def genre_score(movie_genres):\n",
    "        movie_genres_list = movie_genres.split('|')\n",
    "        score = sum([genre_counts.get(genre, 0) * (5 - idx) for idx, genre in enumerate(movie_genres_list)])\n",
    "        return score\n",
    "\n",
    "    unrated_movies['genre_score'] = unrated_movies['genres'].apply(genre_score)\n",
    "\n",
    "    top_genre_movies = unrated_movies.sort_values(by='genre_score', ascending=False).head(num_recommendations * 10)\n",
    "\n",
    "    top_genre_movies['predicted_rating'] = top_genre_movies['movieId'].apply(lambda x: algo.predict(user_id, x).est)\n",
    "\n",
    "    top_movies = top_genre_movies.sort_values(by=['genre_score', 'predicted_rating'], ascending=False).head(num_recommendations)\n",
    "\n",
    "    favorite_genres = genre_counts.head(5)\n",
    "\n",
    "    return favorite_genres, top_movies[['movieId', 'title', 'genres', 'predicted_rating']]"
   ]
  },
  {
   "cell_type": "code",
   "execution_count": 6,
   "metadata": {},
   "outputs": [
    {
     "name": "stdout",
     "output_type": "stream",
     "text": [
      "SVD\n",
      "Favourite genres:\n",
      "genres\n",
      "Drama        126\n",
      "Comedy       121\n",
      "Action        81\n",
      "Adventure     80\n",
      "Thriller      57\n",
      "Name: count, dtype: int64\n",
      "\n",
      "Recommendations by favourite genres:\n",
      "      movieId                                  title  \\\n",
      "6570    55116              Hunting Party, The (2007)   \n",
      "8597   117646  Dragonheart 2: A New Beginning (2000)   \n",
      "6219    45672                           Click (2006)   \n",
      "7111    70728                         Bronson (2009)   \n",
      "6765    59947                  Protector, The (1985)   \n",
      "\n",
      "                                              genres  predicted_rating  \n",
      "6570          Action|Adventure|Comedy|Drama|Thriller          2.458624  \n",
      "8597  Action|Adventure|Comedy|Drama|Fantasy|Thriller          2.805243  \n",
      "6219          Adventure|Comedy|Drama|Fantasy|Romance          2.427357  \n",
      "7111                    Action|Comedy|Drama|Thriller          2.723364  \n",
      "6765                    Action|Comedy|Drama|Thriller          2.397964  \n",
      "SVDpp\n",
      "Favourite genres:\n",
      "genres\n",
      "Drama        126\n",
      "Comedy       121\n",
      "Action        81\n",
      "Adventure     80\n",
      "Thriller      57\n",
      "Name: count, dtype: int64\n",
      "\n",
      "Recommendations by favourite genres:\n",
      "      movieId                                  title  \\\n",
      "6570    55116              Hunting Party, The (2007)   \n",
      "8597   117646  Dragonheart 2: A New Beginning (2000)   \n",
      "6219    45672                           Click (2006)   \n",
      "7111    70728                         Bronson (2009)   \n",
      "6765    59947                  Protector, The (1985)   \n",
      "\n",
      "                                              genres  predicted_rating  \n",
      "6570          Action|Adventure|Comedy|Drama|Thriller          2.500040  \n",
      "8597  Action|Adventure|Comedy|Drama|Fantasy|Thriller          2.377776  \n",
      "6219          Adventure|Comedy|Drama|Fantasy|Romance          1.979105  \n",
      "7111                    Action|Comedy|Drama|Thriller          2.667678  \n",
      "6765                    Action|Comedy|Drama|Thriller          2.453709  \n",
      "NMF\n",
      "Favourite genres:\n",
      "genres\n",
      "Drama        126\n",
      "Comedy       121\n",
      "Action        81\n",
      "Adventure     80\n",
      "Thriller      57\n",
      "Name: count, dtype: int64\n",
      "\n",
      "Recommendations by favourite genres:\n",
      "      movieId                                  title  \\\n",
      "6570    55116              Hunting Party, The (2007)   \n",
      "8597   117646  Dragonheart 2: A New Beginning (2000)   \n",
      "6219    45672                           Click (2006)   \n",
      "6765    59947                  Protector, The (1985)   \n",
      "7111    70728                         Bronson (2009)   \n",
      "\n",
      "                                              genres  predicted_rating  \n",
      "6570          Action|Adventure|Comedy|Drama|Thriller          2.003965  \n",
      "8597  Action|Adventure|Comedy|Drama|Fantasy|Thriller          2.448312  \n",
      "6219          Adventure|Comedy|Drama|Fantasy|Romance          2.212617  \n",
      "6765                    Action|Comedy|Drama|Thriller          3.500886  \n",
      "7111                    Action|Comedy|Drama|Thriller          2.697242  \n"
     ]
    }
   ],
   "source": [
    "for algo in [algo_svd, algo_svdpp, algo_nmf]:\n",
    "    print(algo.__class__.__name__)\n",
    "    favorite_genres, recommendations = recommend_movies_by_genre(algo, user_id=50, num_recommendations=5)\n",
    "    print(\"Favourite genres:\")\n",
    "    print(favorite_genres)\n",
    "    print(\"\\nRecommendations by favourite genres:\")\n",
    "    print(recommendations)"
   ]
  },
  {
   "cell_type": "markdown",
   "metadata": {},
   "source": [
    "# Summary\n",
    "\n",
    "The SVD++ algorithm achieved the lowest RMSE, indicating the highest prediction accuracy among the three methods. However, when it comes to computational performance, both SVD++ and NMF were significantly better, with SVD++ being particularly computationally intensive due to its complexity.\n",
    "\n",
    "Despite the superior accuracy of SVD++, the SVD algorithm demonstrated the best balance between computational cost and prediction quality. SVD provided relatively low RMSE values while requiring less computational time compared to SVD++.\n",
    "\n",
    "In conclusion, while SVD++ offers the best accuracy, the SVD algorithm is the optimal choice when considering the trade-off between computational cost and prediction quality, making it the most efficient algorithm in terms of both performance and resource usage."
   ]
  }
 ],
 "metadata": {
  "kernelspec": {
   "display_name": ".venv",
   "language": "python",
   "name": "python3"
  },
  "language_info": {
   "codemirror_mode": {
    "name": "ipython",
    "version": 3
   },
   "file_extension": ".py",
   "mimetype": "text/x-python",
   "name": "python",
   "nbconvert_exporter": "python",
   "pygments_lexer": "ipython3",
   "version": "3.12.3"
  }
 },
 "nbformat": 4,
 "nbformat_minor": 2
}
